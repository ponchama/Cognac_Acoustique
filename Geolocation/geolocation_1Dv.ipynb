{
 "cells": [
  {
   "cell_type": "markdown",
   "metadata": {},
   "source": [
    "#  Géolocalisation pour une source mobile "
   ]
  },
  {
   "cell_type": "markdown",
   "metadata": {},
   "source": [
    "---\n",
    "\n",
    "# 1 - Formulation\n",
    "\n",
    "**On cherche à déterminer la position horizontale du flotteur en travaillant avec une source mobile (tractée par un navire). Nous n'avons plus plusieurs sources i émettant à un instant donné, mais une unique source émettant à plusieurs instants j. **"
   ]
  },
  {
   "cell_type": "markdown",
   "metadata": {},
   "source": [
    "---\n",
    "Les **variables connues** sont : \n",
    "\n",
    "- $\\underline{x}_s^j$ : la position horizontale de la bouée de surface de la source à la j$^{ème}$ émission.\n",
    "- $t_e^j$ : le temps de la j$^{ème}$ émission de la source.\n",
    "- $\\tilde{t}_r^i$ : temps de réception, par le flotteur, du j$^{ème}$ signal.\n",
    "- $\\epsilon_i$ : détection du signal, $\\epsilon_i=1$ (détection) ou $0$ (pas de détection). Dans un soucis de simplicité, on considère $\\epsilon_i=1$ pour tous les exemples suivants.\n",
    "- $v_t$ : vitesse du navire tractant la source, donc vitesse de la source.\n",
    "- $z$ : profondeur du flotteur, grâce à un capteur de pression, pas utilisé pour le moment.\n",
    "\n",
    "Une connaissance \"parfaite\" est supposée pour toutes les variables connues. Cela revient à considérer l'amplitude de leurs erreurs respectives comme négligeables."
   ]
  },
  {
   "cell_type": "markdown",
   "metadata": {},
   "source": [
    "---\n",
    "Les **variables inconnues** sont:\n",
    "\n",
    "- $\\underline{x}(t_0)$ : position du flotteur à l'instant t_0 de la 1ère émission de la source.\n",
    "\n",
    "- $\\delta \\underline{x}^j$ : vecteur différence entre la position de la bouée de surface de la source et la position du transducteur. $\\delta \\underline{x}^j = \\underline{x}_t^j - \\underline{x}_s^j$\n",
    "\n",
    "- $\\delta t$ : offset sur l'horloge du flotteur, $\\delta t = \\tilde{t}_r^i - t_r^i$, où \n",
    "$t_r^i$ est le temps exact de réception.\n",
    "\n",
    "- $\\delta t_p (\\underline{x}^j,\\underline{x}_t^j) $ : différence, à l'instant j, entre le temps de propagation source-récepteur réel ($\\tilde{t}_r^j - \\delta t  - t_e^j$) et le temps de propagation estimé a priori $t_p(\\underline{x}^j,\\underline{x}_t^j)$. Par simplicité, on considère que le temps de propagation a priori dépend uniquement de la distance : $t_p(\\underline{x}^j,\\underline{x}_t^j) = t_p(|| \\underline{x}^j - \\underline{x}_t^j ||)$. Par exemple, en considérant une célérité a priori $c_b$, alors : $t_p(\\underline{x}^j,\\underline{x}_t^j) = || \\underline{x}^j - \\underline{x}_t^j || / c_b$.\n",
    "\n",
    "---\n",
    "\n",
    "Des estimations a priori pour $\\underline{x}(t_0)$ et $v$ sont fournies. On les considère toutes égales à 0 pour le moment : $\\underline{x}_b=(x=0km, y=0km)$ et $v_b = 0 m/s$.\n",
    "\n",
    "Les écarts-types correspondants aux erreurs sur $\\underline{x}(t_0)$, $v$, $\\delta t$ et $\\delta t_p(\\underline{x}^j,\\underline{x}_t^j)$ sont considérés comme connus et sont notés : $e_x$, $e_v$, $e_{\\delta t}$ et $e_{tp}$.\n",
    "\n",
    "---"
   ]
  },
  {
   "cell_type": "markdown",
   "metadata": {},
   "source": [
    "\n",
    "**On cherche à déterminer la position du flotteur (à l'instant $t_0$), la vitesse $v$ du flotteur (considérée comme constante), ainsi que la dérive d'horloge grâce à la fonction de minimisation suivante :** \n",
    "\n",
    "\n",
    "$$\n",
    "\\begin{align*}\n",
    "J(\\underline{x}(t_0), v, \\delta t) &= \n",
    "\\frac {||\\underline{x}(t_0) - \\underline{x}_b||^2}{e_x^2} \n",
    "+ \\frac{||v - v_b||^2} {e_v^2}\n",
    "+ \\frac{|| \\delta t||^2} {e_{\\delta t}^2}\n",
    "+ \\sum_j \\epsilon_j \\times \\frac {\\delta t(\\underline{x}^j,\\underline{x}_t^j)^2 } {e_{tp}^2} \\\\\n",
    "&=\n",
    "\\frac {||\\underline{x}(t_0) - \\underline{x}_b||^2}{e_x^2} \n",
    "+ \\frac{||v - v_b||^2} {e_v^2}\n",
    "+ \\frac{|| \\delta t||^2} {e_{\\delta t}^2}\n",
    "+ \\sum_j \\epsilon_j \\times \\frac {\\big [ \\tilde{t}_r^j - \\delta t  - t_e^j  -  t_p(\\underline{x}^j,\\underline{x}_t^j) \\big ]^2 } {e_{tp}^2}\n",
    "\\end{align*}\n",
    "$$\n",
    "\n",
    "\n",
    "$$\n",
    "\\begin{align*}\n",
    "\\text{avec} \\quad \\quad \\underline{x}^j = \\underline{x}(t_0) + v(\\tilde{t}_r^j - \\delta t) \\quad \\quad \\text{et} \\quad \\quad \\underline{x}_t^j = \\underline{x}_t + v_t(t_e^j) \n",
    "\\end{align*}\n",
    "$$\n",
    "\n",
    "---\n",
    "\n",
    "**Connaissant $x(t_0)$ et $v$, nous pouvons en déduire \\underline{x} à tous les instants t : \n",
    "$ x(t) = x(t_0) + v \\times t $.**\n",
    "\n",
    "---\n"
   ]
  },
  {
   "cell_type": "code",
   "execution_count": 1,
   "metadata": {},
   "outputs": [],
   "source": [
    "# this enable automatic reloading of libraries\n",
    "%load_ext autoreload\n",
    "%autoreload 2\n",
    "\n",
    "# import libraries\n",
    "import numpy as np\n",
    "import matplotlib.pyplot as plt\n",
    "from clib.geolocation_1Dv import *"
   ]
  },
  {
   "cell_type": "markdown",
   "metadata": {},
   "source": [
    "---\n",
    "---\n",
    "# 2 - Initialisation de la source et du flotteur "
   ]
  },
  {
   "cell_type": "code",
   "execution_count": 2,
   "metadata": {},
   "outputs": [],
   "source": [
    "### création de la source (vitesse de 2.5 m/s)\n",
    "sources=[]\n",
    "sources.append(source( 0.e3, 0, v_x = 2.5))\n",
    "Ns = len(sources)\n",
    "\n",
    "### création du récepeur (vitesse de 10cm/s)\n",
    "r=receiver(-10 *1.e3, 0, e_x=10.e3, e_dt=0., v_x=0.1)\n",
    "\n",
    "### initialisation du mapping\n",
    "pmap = xtmap(c_b=1500., e_t=None, e_min=1.e-3) "
   ]
  },
  {
   "cell_type": "code",
   "execution_count": 3,
   "metadata": {},
   "outputs": [
    {
     "data": {
      "image/png": "[encoded data removed]",
      "text/plain": [
       "<Figure size 576x216 with 2 Axes>"
      ]
     },
     "metadata": {},
     "output_type": "display_data"
    }
   ],
   "source": [
    "### plot\n",
    "plt.figure(figsize=(8,3))\n",
    "ax=plt.subplot(211)\n",
    "[s.plot() for s in sources]\n",
    "r.plot()\n",
    "plt.ylim([-1, 1])\n",
    "plt.xlim([-15.,20.])\n",
    "ax.grid()\n",
    "ax.set_aspect('equal')\n",
    "ax.get_yaxis().set_visible(False)\n",
    "plt.title(\"t = 0h\", fontsize=16)\n",
    "\n",
    "ax1=plt.subplot(212)\n",
    "[s.plot(t=2.*3600.) for s in sources]\n",
    "r.plot(t=2.*3600.)\n",
    "plt.ylim([-1, 1])\n",
    "plt.xlim([-15.,20.])\n",
    "ax1.grid()\n",
    "ax1.set_aspect('equal')\n",
    "ax1.get_yaxis().set_visible(False)\n",
    "plt.title(\"t = 2h\", fontsize=16)\n",
    "plt.xlabel('x (km)', fontsize=14)\n",
    "\n",
    "plt.show()\n",
    "#plt.savefig('geoloc1D', dpi=100)"
   ]
  },
  {
   "cell_type": "markdown",
   "metadata": {},
   "source": [
    "---\n",
    "**- Incertitudes a priori :**"
   ]
  },
  {
   "cell_type": "code",
   "execution_count": 4,
   "metadata": {
    "scrolled": false
   },
   "outputs": [
    {
     "name": "stdout",
     "output_type": "stream",
     "text": [
      "e_dx  = 10.0 m     (incertitude sur la position du transducteur)\n",
      "e_x   = 10000.0 m  (incertitude sur la position du flotteur)\n",
      "e_v   = 0.1 m/s    (incertitude sur la vitesse du flotteur)\n"
     ]
    }
   ],
   "source": [
    "print(\"e_dx  = %.1f m     (incertitude sur la position du transducteur)\" %sources[0].e_dx)\n",
    "print(\"e_x   = %.1f m  (incertitude sur la position du flotteur)\" %r.e_x)\n",
    "print(\"e_v   = %.1f m/s    (incertitude sur la vitesse du flotteur)\"%r.e_v)"
   ]
  },
  {
   "cell_type": "markdown",
   "metadata": {},
   "source": [
    "---\n",
    "**- Distance horizontale bouée-transducteur ($\\delta \\underline{x}^j$) qui reste inchangée durant l'ensemble des simulations :**"
   ]
  },
  {
   "cell_type": "code",
   "execution_count": 5,
   "metadata": {},
   "outputs": [
    {
     "name": "stdout",
     "output_type": "stream",
     "text": [
      "dx  = -7.41 m\n"
     ]
    }
   ],
   "source": [
    "print(\"dx  = %.2f m\" %[s.dx for s in sources][0])"
   ]
  },
  {
   "cell_type": "markdown",
   "metadata": {},
   "source": [
    "---\n",
    "---\n",
    "# 2 - Calculs de géolocalisation"
   ]
  },
  {
   "cell_type": "markdown",
   "metadata": {},
   "source": [
    "---\n",
    "**- Temps d'émission de la source (en secondes): toutes les 2min pendant 1h**"
   ]
  },
  {
   "cell_type": "code",
   "execution_count": 6,
   "metadata": {},
   "outputs": [
    {
     "name": "stdout",
     "output_type": "stream",
     "text": [
      "[   0.  120.  240.  360.  480.  600.  720.  840.  960. 1080. 1200. 1320.\n",
      " 1440. 1560. 1680. 1800. 1920. 2040. 2160. 2280. 2400. 2520. 2640. 2760.\n",
      " 2880. 3000. 3120. 3240. 3360. 3480.]\n"
     ]
    }
   ],
   "source": [
    "t_e = np.arange(0.,3600.,2.*60.)\n",
    "print(t_e)"
   ]
  },
  {
   "cell_type": "markdown",
   "metadata": {},
   "source": [
    "---\n",
    "**- Minimisation : **"
   ]
  },
  {
   "cell_type": "code",
   "execution_count": 7,
   "metadata": {},
   "outputs": [],
   "source": [
    "_t = []\n",
    "for t in t_e : \n",
    "    x, y = r.get_xy(t)\n",
    "    x_s, y_s = sources[0].get_xy(t)\n",
    "    rg = np.sqrt((x-x_s)**2 + (y - y_s)**2)\n",
    "    _t.append(t + pmap.draw_t(rg))\n",
    "\n",
    "r.t_r_tilda = np.array(_t+r.dt).squeeze()\n",
    "x, v, dt, success, message, res = geolocalize_xtmap_1Dv(r, sources, t_e, pmap, clock_drift=False)"
   ]
  },
  {
   "cell_type": "markdown",
   "metadata": {},
   "source": [
    "---\n",
    "**- Résultats :**"
   ]
  },
  {
   "cell_type": "code",
   "execution_count": 8,
   "metadata": {},
   "outputs": [
    {
     "name": "stdout",
     "output_type": "stream",
     "text": [
      "Position réelle du flotteur        : -10000.000 m\n",
      "Position estimée par minimisation  : -10000.943 m\n",
      "Erreur sur le positionnement       : 0.943 m\n"
     ]
    }
   ],
   "source": [
    "print (\"Position réelle du flotteur        : %.3f m\" %r.x)\n",
    "print (\"Position estimée par minimisation  : %.3f m\" %x)\n",
    "print (\"Erreur sur le positionnement       : %.3f m\" % abs(r.x - x))"
   ]
  },
  {
   "cell_type": "code",
   "execution_count": 9,
   "metadata": {},
   "outputs": [
    {
     "name": "stdout",
     "output_type": "stream",
     "text": [
      "Vitesse réelle du flotteur         : 10.000 cm/s\n",
      "Vitesse estimée par minimisation   : 10.001 cm/s\n",
      "Erreur sur la vitesse du flotteur  : 0.001 cm/s\n"
     ]
    }
   ],
   "source": [
    "print (\"Vitesse réelle du flotteur         : %.3f cm/s\" %(r.v_x*100.))\n",
    "print (\"Vitesse estimée par minimisation   : %.3f cm/s\" %(v*100.))\n",
    "print (\"Erreur sur la vitesse du flotteur  : %.3f cm/s\" % (abs(r.v_x - v)*100.))"
   ]
  },
  {
   "cell_type": "markdown",
   "metadata": {},
   "source": [
    "---\n",
    "**- Estimation des positions du flotteurs à tous les temps d'émission :**"
   ]
  },
  {
   "cell_type": "code",
   "execution_count": 10,
   "metadata": {},
   "outputs": [
    {
     "name": "stdout",
     "output_type": "stream",
     "text": [
      "[0.94268005 0.94172952 0.94077898 0.93982845 0.93887792 0.93792738\n",
      " 0.93697685 0.93602632 0.93507578 0.93412525 0.93317472 0.93222418\n",
      " 0.93127365 0.93032312 0.92937258 0.92842205 0.92747152 0.92652098\n",
      " 0.92557045 0.92461992 0.92366938 0.92271885 0.92176832 0.92081778\n",
      " 0.91986725 0.91891672 0.91796618 0.91701565 0.91606512 0.91511458]\n"
     ]
    }
   ],
   "source": [
    "#estimé\n",
    "x_estim = x + v * (t_e - r.t0)\n",
    "#position exacte\n",
    "x_real = r.x + r.v_x * (t_e - r.t0)\n",
    "#erreur\n",
    "dx = x_real - x_estim\n",
    "print(dx)"
   ]
  },
  {
   "cell_type": "code",
   "execution_count": 11,
   "metadata": {},
   "outputs": [],
   "source": [
    "############################################################################################\n",
    "############################################################################################\n",
    "############################################################################################"
   ]
  },
  {
   "cell_type": "markdown",
   "metadata": {},
   "source": [
    "---\n",
    "---\n",
    "# 3 - Fonctions de calcul des transects"
   ]
  },
  {
   "cell_type": "markdown",
   "metadata": {},
   "source": [
    "**- Function \"simu\" : simulations pour une position de récepteur donnée. Renvoie rms et biais.  **"
   ]
  },
  {
   "cell_type": "code",
   "execution_count": 12,
   "metadata": {},
   "outputs": [],
   "source": [
    "def simu (r, sources, Nmc, var, t_drift) : \n",
    "    ''' It returns rms and bias on x position for one receiver position'''\n",
    "    x = np.zeros(Nmc)\n",
    "    v = np.zeros(Nmc)\n",
    "    dt = np.zeros(Nmc)\n",
    "    su = np.zeros (Nmc)\n",
    "    \n",
    "    for i in range(Nmc):\n",
    "        #if var == 'celerity' : \n",
    "        #    [s.draw_celerity(s.e_c) for s in sources]\n",
    "        #if var == 'dxdy' : \n",
    "        #    [s.draw_dxdy(10.) for s in sources]\n",
    "        #if var == 'clock' : \n",
    "        #    r.draw_clock_drift()\n",
    "            #dt_truth[i] = r.dt    \n",
    "            \n",
    "            \n",
    "\n",
    "        _t = []\n",
    "        for t in t_e : \n",
    "            x_r, y_r = r.get_xy(t)\n",
    "            x_s, y_s = sources[0].get_xy(t)\n",
    "            rg = np.sqrt((x_r-x_s)**2 + (y_r - y_s)**2)\n",
    "            _t.append(t + pmap.draw_t(rg))\n",
    "\n",
    "        r.t_r_tilda = np.array(_t+r.dt).squeeze()\n",
    "        x[i], v[i], dt[i], success, message, res = geolocalize_xtmap_1Dv(r, sources, t_e, pmap, clock_drift=False)    \n",
    "        \n",
    "        # solve a first time\n",
    "        #r.t_r_tilda = np.array([s.t_e+pmap.draw_t(dist(s,r))+r.dt for s in sources]).squeeze()\n",
    "        #x[i], v[i], dt[i], success, message, res = geolocalize_xtmap_1Dv(r, sources, t_e, pmap, \\\n",
    "        #                                                                t_e, clock_drift=t_drift)\n",
    "        # rerun with adjusted expected errors on propagation time\n",
    "        #for j in range(1):\n",
    "        #    x[i], dt[i], success, message, res = geolocalize_xtmap_1D(r, sources, pmap, \\\n",
    "        #                                                                 clock_drift=t_drift, \\\n",
    "        #                                                                 x0=[x[i], dt[i]])\n",
    "       \n",
    "        if success :\n",
    "            su[i] = 1 \n",
    "        elif message.find('iterations')!= -1 : \n",
    "            su[i] = 0\n",
    "\n",
    "            \n",
    "    # rms error on the receiver position\n",
    "    d_rms = np.sqrt( np.mean( (x[np.where(su==1)] - r.x)**2 ) )\n",
    "    # biais on the receiver position\n",
    "    bias_x = x[np.where(su==1)].mean()-r.x\n",
    "    return (d_rms, bias_x, su)"
   ]
  },
  {
   "cell_type": "markdown",
   "metadata": {},
   "source": [
    "**- Calculation and plot functions for transects : **"
   ]
  },
  {
   "cell_type": "code",
   "execution_count": 13,
   "metadata": {},
   "outputs": [],
   "source": [
    "from ipywidgets import FloatProgress\n",
    "from IPython.display import display\n",
    "\n",
    "\n",
    "def transect (sources, X, Y, Nmc, var, clock_drift = False, e_dt=0.01) :\n",
    "    RMS_t = np.zeros((len(X)))\n",
    "    BiasX_t = np.zeros((len(X)))\n",
    "    Success_t = np.zeros((Nmc, len(X)))\n",
    "    \n",
    "    r = receiver(X[0], Y, e_dt=e_dt)\n",
    "    r_dt = r.dt\n",
    "    \n",
    "    f = FloatProgress(value = 0., min=0., max=100., step=1., orientation='horizontal', description = 'Loading :')\n",
    "    display(f)\n",
    "    \n",
    "    for i in range (len(X)) :\n",
    "        \n",
    "        f.value = i/len(X)*100.\n",
    "\n",
    "        # init a receiver\n",
    "        r = receiver(X[i], Y, e_dt=e_dt)\n",
    "        #r.dt = r_dt # unchanged variable during simulations \n",
    "        #\n",
    "        d_rms, bias_x, su = simu (r, sources, Nmc, var = var, t_drift = clock_drift)\n",
    "\n",
    "        RMS_t[i]       = d_rms\n",
    "        BiasX_t[i]     = bias_x\n",
    "        Success_t[:,i] = su\n",
    "\n",
    "    f.value = 100.\n",
    "    \n",
    "    return RMS_t, BiasX_t, Success_t\n",
    "\n",
    "\n",
    "def plot_transect (sources, X, Y, RMS_t, Biais_t):\n",
    "    print('mean (rms) = %.1fm  /// max (rms) = %.1f m' % (np.mean(RMS_t), np.max(RMS_t)))\n",
    "    print('mean (bias) = %.1fm /// max (bias) = %.1f m' % (np.mean(Biais_t), np.max(Biais_t)))\n",
    "    plt.figure(figsize=(17,4))\n",
    "    # plot sources \n",
    "    ax=plt.subplot(131)\n",
    "    [s.plot() for s in sources]\n",
    "    plt.title ('sources and transect')\n",
    "    plt.xlabel('x [km]')\n",
    "    plt.ylabel('y [km]')\n",
    "    ax.grid()\n",
    "    #ax.set_xlim([np.min(X)/1000.,np.max(X)/1000.])\n",
    "    ax.set_ylim([-abs(sources[0].y_s)/1000. - 5., abs(sources[0].y_s)/1000. + 5.])\n",
    "    ax.set_aspect('equal')\n",
    "    plt.plot([np.min(X)/1000.,np.max(X)/1000.],[Y/1000.,Y/1000.],'.-b')\n",
    "\n",
    "    ## plot rms result\n",
    "    ax2 = plt.subplot(132)\n",
    "    ax2.grid()\n",
    "    plt.plot(X/1.e3, RMS_t, '.') \n",
    "    plt.xlabel('x [km]')\n",
    "    plt.ylabel('RMS [m]')\n",
    "    plt.title('RMS error' )\n",
    "    \n",
    "    ## plot bias\n",
    "    ax3  = plt.subplot(133)\n",
    "    ax3.grid()\n",
    "    plt.plot(X/1.e3, Biais_t, '.')\n",
    "    plt.xlabel('x [km]')\n",
    "    plt.ylabel('Bias [m]')\n",
    "    plt.title('Bias on x ' )\n",
    "    \n",
    "    plt.show()\n",
    "    "
   ]
  },
  {
   "cell_type": "markdown",
   "metadata": {},
   "source": [
    "---\n",
    "---\n",
    "# 4 - Calculs des transects "
   ]
  },
  {
   "cell_type": "markdown",
   "metadata": {},
   "source": [
    "---\n",
    "**- Création du transect : **"
   ]
  },
  {
   "cell_type": "code",
   "execution_count": 14,
   "metadata": {},
   "outputs": [],
   "source": [
    "L = 120.* 1.e3\n",
    "X = np.linspace(-L/2.,L/2.,241)  # resolution : 1km\n",
    "Y = 0. "
   ]
  },
  {
   "cell_type": "markdown",
   "metadata": {},
   "source": [
    "---\n",
    "**- Initialisation du mapping (choix de l'erreur e_tp) : **"
   ]
  },
  {
   "cell_type": "code",
   "execution_count": 15,
   "metadata": {},
   "outputs": [
    {
     "name": "stdout",
     "output_type": "stream",
     "text": [
      "e_tp   = 1.0 ms    (incertitude sur le temps d'arrivée)\n"
     ]
    }
   ],
   "source": [
    "pmap = xtmap(c_b=1500., e_t=1.e-3) \n",
    "print(\"e_tp   = %.1f ms    (incertitude sur le temps d'arrivée)\" %(pmap.e_tp(0.)*1000.))"
   ]
  },
  {
   "cell_type": "markdown",
   "metadata": {},
   "source": [
    "---\n",
    "**- Simulations (choix de la dérive d'horloge) : **"
   ]
  },
  {
   "cell_type": "code",
   "execution_count": 16,
   "metadata": {
    "scrolled": true
   },
   "outputs": [
    {
     "data": {
      "application/vnd.jupyter.widget-view+json": {
       "model_id": "2f09f650183049bf93e3a90252b5b3c9",
       "version_major": 2,
       "version_minor": 0
      },
      "text/plain": [
       "FloatProgress(value=0.0, description='Loading :')"
      ]
     },
     "metadata": {},
     "output_type": "display_data"
    },
    {
     "name": "stdout",
     "output_type": "stream",
     "text": [
      "No convergence, try with 1000 more iterations\n",
      "No convergence, try with 1000 more iterations\n",
      "No convergence, try with 1000 more iterations\n",
      "No convergence, try with 1000 more iterations\n",
      "No convergence, try with 1000 more iterations\n",
      "No convergence, try with 1000 more iterations\n",
      "No convergence, try with 1000 more iterations\n",
      "No convergence, try with 1000 more iterations\n",
      "No convergence, try with 1000 more iterations\n",
      "No convergence, try with 1000 more iterations\n",
      "No convergence, try with 1000 more iterations\n",
      "No convergence, try with 1000 more iterations\n",
      "No convergence, try with 1000 more iterations\n",
      "No convergence, try with 1000 more iterations\n",
      "No convergence, try with 1000 more iterations\n",
      "No convergence, try with 1000 more iterations\n",
      "No convergence, try with 1000 more iterations\n",
      "No convergence, try with 1000 more iterations\n",
      "No convergence, try with 1000 more iterations\n",
      "No convergence, try with 1000 more iterations\n",
      "No convergence, try with 1000 more iterations\n",
      "No convergence, try with 1000 more iterations\n",
      "No convergence, try with 1000 more iterations\n",
      "No convergence, try with 1000 more iterations\n",
      "No convergence, try with 1000 more iterations\n",
      "No convergence, try with 1000 more iterations\n"
     ]
    }
   ],
   "source": [
    "Nmc = 10         # number of simulations\n",
    "var = 'celerity'   # only celerity is varying\n",
    "RMS_t, BiasX_t, Success_t = transect (sources, X, Y, Nmc, var, clock_drift = False ) "
   ]
  },
  {
   "cell_type": "code",
   "execution_count": 20,
   "metadata": {},
   "outputs": [
    {
     "data": {
      "image/png": "[encoded data removed]",
      "text/plain": [
       "<Figure size 1152x360 with 2 Axes>"
      ]
     },
     "metadata": {},
     "output_type": "display_data"
    }
   ],
   "source": [
    "plt.figure(figsize=(16,5))\n",
    "## plot rms result\n",
    "ax2 = plt.subplot(121)\n",
    "ax2.grid()\n",
    "plt.plot(X/1.e3, RMS_t, '.') \n",
    "plt.xlabel('x (km)', fontsize=14)\n",
    "plt.ylabel('RMS (m)', fontsize=14)\n",
    "plt.title('Erreur sur la position du flotteur - Sans dérive', fontsize=16 )\n",
    "#plt.ylim([0.805,0.925])\n",
    "plt.xticks(fontsize=13)\n",
    "plt.yticks(fontsize=13)\n",
    "\n",
    "## plot bias\n",
    "ax3  = plt.subplot(122)\n",
    "ax3.grid()\n",
    "plt.plot(X/1.e3, BiasX_t, '.')\n",
    "plt.xlabel('x (km)', fontsize=14)\n",
    "plt.ylabel('biais (m)', fontsize=14)\n",
    "plt.title('Biais sur la position du flotteur - Sans dérive', fontsize=16)\n",
    "plt.xticks(fontsize=13)\n",
    "plt.yticks(fontsize=13)\n",
    "#plt.ylim([-0.085,0.120])\n",
    "\n",
    "#plt.show()\n",
    "plt.savefig('erreur_source_mobile', dpi=100)"
   ]
  },
  {
   "cell_type": "code",
   "execution_count": 18,
   "metadata": {},
   "outputs": [
    {
     "data": {
      "text/plain": [
       "array([ 9500., 10000., 10500., 11000., 11500., 12000., 12500., 13000.,\n",
       "       13500., 14000., 14500., 15000., 15500., 16000., 16500., 17000.,\n",
       "       17500., 18000., 18500., 19000., 19500., 20000., 20500., 21000.,\n",
       "       21500., 22000., 22500., 23000., 23500., 24000., 24500., 25000.,\n",
       "       25500., 26000., 26500., 27000., 27500., 28000., 28500., 29000.,\n",
       "       29500., 30000., 30500., 31000., 31500., 32000., 32500., 33000.,\n",
       "       33500., 34000., 34500., 35000., 35500., 36000., 36500., 37000.,\n",
       "       37500., 38000., 38500., 39000., 39500., 40000., 40500., 41000.,\n",
       "       41500., 42000., 42500., 43000., 43500., 44000., 44500., 45000.,\n",
       "       45500., 46000., 46500., 47000., 47500., 48000., 48500., 49000.,\n",
       "       49500., 50000., 50500., 51000., 51500., 52000., 52500., 53000.,\n",
       "       53500., 54000., 54500., 55000., 55500., 56000., 56500., 57000.,\n",
       "       57500., 58000., 58500., 59000., 59500., 60000.])"
      ]
     },
     "execution_count": 18,
     "metadata": {},
     "output_type": "execute_result"
    }
   ],
   "source": [
    "X[np.where(RMS_t > 1000.)]"
   ]
  },
  {
   "cell_type": "code",
   "execution_count": 19,
   "metadata": {},
   "outputs": [
    {
     "data": {
      "text/plain": [
       "(8700.0, 0.0)"
      ]
     },
     "execution_count": 19,
     "metadata": {},
     "output_type": "execute_result"
    }
   ],
   "source": [
    "sources[0].get_xy(t_e[-1])"
   ]
  },
  {
   "cell_type": "code",
   "execution_count": null,
   "metadata": {},
   "outputs": [],
   "source": []
  }
 ],
 "metadata": {
  "kernelspec": {
   "display_name": "Python 3",
   "language": "python",
   "name": "python3"
  },
  "language_info": {
   "codemirror_mode": {
    "name": "ipython",
    "version": 3
   },
   "file_extension": ".py",
   "mimetype": "text/x-python",
   "name": "python",
   "nbconvert_exporter": "python",
   "pygments_lexer": "ipython3",
   "version": "3.6.5"
  }
 },
 "nbformat": 4,
 "nbformat_minor": 2
}
