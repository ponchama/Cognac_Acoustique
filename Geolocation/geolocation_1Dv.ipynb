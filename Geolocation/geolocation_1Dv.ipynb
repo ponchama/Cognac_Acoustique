{
 "cells": [
  {
   "cell_type": "markdown",
   "metadata": {},
   "source": [
    "#  Géolocalisation pour une source mobile "
   ]
  },
  {
   "cell_type": "markdown",
   "metadata": {},
   "source": [
    "---\n",
    "\n",
    "# 1 - Formulation\n",
    "\n",
    "**On cherche à déterminer la position horizontale du flotteur en travaillant avec une source mobile (tractée par un navire). Nous n'avons plus plusieurs sources i émettant à un instant donné, mais une unique source émettant à plusieurs instants j. **"
   ]
  },
  {
   "cell_type": "markdown",
   "metadata": {},
   "source": [
    "---\n",
    "Les **variables connues** sont : \n",
    "\n",
    "- $\\underline{x}_s^j$ : la position horizontale de la bouée de surface de la source à la j$^{ème}$ émission.\n",
    "- $t_e^j$ : le temps de la j$^{ème}$ émission de la source.\n",
    "- $\\tilde{t}_r^i$ : temps de réception, par le flotteur, du j$^{ème}$ signal.\n",
    "- $\\epsilon_i$ : détection du signal, $\\epsilon_i=1$ (détection) ou $0$ (pas de détection). Dans un soucis de simplicité, on considère $\\epsilon_i=1$ pour tous les exemples suivants.\n",
    "- $v_t$ : vitesse du navire tractant la source, donc vitesse de la source.\n",
    "- $z$ : profondeur du flotteur, grâce à un capteur de pression, pas utilisé pour le moment.\n",
    "\n",
    "Une connaissance \"parfaite\" est supposée pour toutes les variables connues. Cela revient à considérer l'amplitude de leurs erreurs respectives comme négligeables."
   ]
  },
  {
   "cell_type": "markdown",
   "metadata": {},
   "source": [
    "---\n",
    "Les **variables inconnues** sont:\n",
    "\n",
    "- $\\underline{x}(t_0)$ : position du flotteur à l'instant t_0 de la 1ère émission de la source.\n",
    "\n",
    "- $\\delta \\underline{x}^j$ : vecteur différence entre la position de la bouée de surface de la source et la position du transducteur. $\\delta \\underline{x}^j = \\underline{x}_t^j - \\underline{x}_s^j$\n",
    "\n",
    "- $\\delta t$ : offset sur l'horloge du flotteur, $\\delta t = \\tilde{t}_r^i - t_r^i$, où \n",
    "$t_r^i$ est le temps exact de réception.\n",
    "\n",
    "- $\\delta t_p (\\underline{x}^j,\\underline{x}_t^j) $ : différence, à l'instant j, entre le temps de propagation source-récepteur réel ($\\tilde{t}_r^j - \\delta t  - t_e^j$) et le temps de propagation estimé a priori $t_p(\\underline{x}^j,\\underline{x}_t^j)$. Par simplicité, on considère que le temps de propagation a priori dépend uniquement de la distance : $t_p(\\underline{x}^j,\\underline{x}_t^j) = t_p(|| \\underline{x}^j - \\underline{x}_t^j ||)$. Par exemple, en considérant une célérité a priori $c_b$, alors : $t_p(\\underline{x}^j,\\underline{x}_t^j) = || \\underline{x}^j - \\underline{x}_t^j || / c_b$.\n",
    "\n",
    "---\n",
    "\n",
    "Des estimations a priori pour $\\underline{x}(t_0)$ et $v$ sont fournies. On les considère toutes égales à 0 pour le moment : $\\underline{x}_b=(x=0km, y=0km)$ et $v_b = 0 m/s$.\n",
    "\n",
    "Les écarts-types correspondants aux erreurs sur $\\underline{x}(t_0)$, $v$, $\\delta t$ et $\\delta t_p(\\underline{x}^j,\\underline{x}_t^j)$ sont considérés comme connus et sont notés : $e_x$, $e_v$, $e_{\\delta t}$ et $e_{tp}$.\n",
    "\n",
    "---"
   ]
  },
  {
   "cell_type": "markdown",
   "metadata": {},
   "source": [
    "\n",
    "**On cherche à déterminer la position du flotteur (à l'instant $t_0$), la vitesse $v$ du flotteur (considérée comme constante), ainsi que la dérive d'horloge grâce à la fonction de minimisation suivante :** \n",
    "\n",
    "\n",
    "$$\n",
    "\\begin{align*}\n",
    "J(\\underline{x}(t_0), v, \\delta t) &= \n",
    "\\frac {||\\underline{x}(t_0) - \\underline{x}_b||^2}{e_x^2} \n",
    "+ \\frac{||v - v_b||^2} {e_v^2}\n",
    "+ \\frac{|| \\delta t||^2} {e_{\\delta t}^2}\n",
    "+ \\sum_j \\epsilon_j \\times \\frac {\\delta t(\\underline{x}^j,\\underline{x}_t^j)^2 } {e_{tp}^2} \\\\\n",
    "&=\n",
    "\\frac {||\\underline{x}(t_0) - \\underline{x}_b||^2}{e_x^2} \n",
    "+ \\frac{||v - v_b||^2} {e_v^2}\n",
    "+ \\frac{|| \\delta t||^2} {e_{\\delta t}^2}\n",
    "+ \\sum_j \\epsilon_j \\times \\frac {\\big [ \\tilde{t}_r^j - \\delta t  - t_e^j  -  t_p(\\underline{x}^j,\\underline{x}_t^j) \\big ]^2 } {e_{tp}^2}\n",
    "\\end{align*}\n",
    "$$\n",
    "\n",
    "\n",
    "$$\n",
    "\\begin{align*}\n",
    "\\text{avec} \\quad \\quad \\underline{x}^j = \\underline{x}(t_0) + v(\\tilde{t}_r^j - \\delta t) \\quad \\quad \\text{et} \\quad \\quad \\underline{x}_t^j = \\underline{x}_t + v_t(t_e^j) \n",
    "\\end{align*}\n",
    "$$\n",
    "\n",
    "---\n",
    "\n",
    "**Connaissant $x(t_0)$ et $v$, nous pouvons en déduire \\underline{x} à tous les instants t : \n",
    "$ x(t) = x(t_0) + v \\times t $.**\n",
    "\n",
    "---\n"
   ]
  },
  {
   "cell_type": "code",
   "execution_count": 1,
   "metadata": {},
   "outputs": [],
   "source": [
    "# this enable automatic reloading of libraries\n",
    "%load_ext autoreload\n",
    "%autoreload 2\n",
    "\n",
    "# import libraries\n",
    "import numpy as np\n",
    "import matplotlib.pyplot as plt\n",
    "from clib.geolocation_1Dv import *"
   ]
  },
  {
   "cell_type": "markdown",
   "metadata": {},
   "source": [
    "---\n",
    "---\n",
    "# 2 - Initialisation de la source et du flotteur "
   ]
  },
  {
   "cell_type": "code",
   "execution_count": 63,
   "metadata": {},
   "outputs": [],
   "source": [
    "### création de la source (vitesse de 2.5 m/s)\n",
    "sources=[]\n",
    "sources.append(source( 0.e3, 0, v_x = 5.))\n",
    "Ns = len(sources)\n",
    "\n",
    "### création du récepeur (vitesse de 10cm/s)\n",
    "r=receiver(10.e3, 0, e_x=10.e3, e_dt=0., v_x= 0.1)\n",
    "\n",
    "### initialisation du mapping\n",
    "pmap = xtmap(c_b=1500., e_t=None, e_min=1.e-3) "
   ]
  },
  {
   "cell_type": "code",
   "execution_count": 64,
   "metadata": {},
   "outputs": [
    {
     "data": {
      "image/png": "[encoded data removed]",
      "text/plain": [
       "<Figure size 576x216 with 2 Axes>"
      ]
     },
     "metadata": {},
     "output_type": "display_data"
    }
   ],
   "source": [
    "### plot\n",
    "plt.figure(figsize=(8,3))\n",
    "ax=plt.subplot(211)\n",
    "[s.plot() for s in sources]\n",
    "r.plot()\n",
    "plt.ylim([-1, 1])\n",
    "plt.xlim([-15.,20.])\n",
    "ax.grid()\n",
    "ax.set_aspect('equal')\n",
    "ax.get_yaxis().set_visible(False)\n",
    "plt.title(\"t = 0h\", fontsize=16)\n",
    "\n",
    "ax1=plt.subplot(212)\n",
    "[s.plot(t=2.*3600.) for s in sources]\n",
    "r.plot(t=2.*3600.)\n",
    "plt.ylim([-1, 1])\n",
    "plt.xlim([-15.,20.])\n",
    "ax1.grid()\n",
    "ax1.set_aspect('equal')\n",
    "ax1.get_yaxis().set_visible(False)\n",
    "plt.title(\"t = 2h\", fontsize=16)\n",
    "plt.xlabel('x (km)', fontsize=14)\n",
    "\n",
    "plt.show()\n",
    "#plt.savefig('geoloc1D', dpi=100)"
   ]
  },
  {
   "cell_type": "markdown",
   "metadata": {},
   "source": [
    "---\n",
    "**- Incertitudes a priori :**"
   ]
  },
  {
   "cell_type": "code",
   "execution_count": 65,
   "metadata": {
    "scrolled": false
   },
   "outputs": [
    {
     "name": "stdout",
     "output_type": "stream",
     "text": [
      "e_dx  = 10.0 m     (incertitude sur la position du transducteur)\n",
      "e_x   = 10000.0 m  (incertitude sur la position du flotteur)\n",
      "e_v   = 0.1 m/s    (incertitude sur la vitesse du flotteur)\n"
     ]
    }
   ],
   "source": [
    "print(\"e_dx  = %.1f m     (incertitude sur la position du transducteur)\" %sources[0].e_dx)\n",
    "print(\"e_x   = %.1f m  (incertitude sur la position du flotteur)\" %r.e_x)\n",
    "print(\"e_v   = %.1f m/s    (incertitude sur la vitesse du flotteur)\"%r.e_v)"
   ]
  },
  {
   "cell_type": "markdown",
   "metadata": {},
   "source": [
    "---\n",
    "**- Distance horizontale bouée-transducteur ($\\delta \\underline{x}^j$) qui reste inchangée durant l'ensemble des simulations :**"
   ]
  },
  {
   "cell_type": "code",
   "execution_count": 66,
   "metadata": {},
   "outputs": [
    {
     "name": "stdout",
     "output_type": "stream",
     "text": [
      "dx  = -0.51 m\n"
     ]
    }
   ],
   "source": [
    "print(\"dx  = %.2f m\" %[s.dx for s in sources][0])"
   ]
  },
  {
   "cell_type": "markdown",
   "metadata": {},
   "source": [
    "---\n",
    "---\n",
    "# 2 - Calculs de géolocalisation"
   ]
  },
  {
   "cell_type": "markdown",
   "metadata": {},
   "source": [
    "---\n",
    "**- Temps d'émission de la source (en secondes): toutes les 2min pendant 1h**"
   ]
  },
  {
   "cell_type": "code",
   "execution_count": 67,
   "metadata": {},
   "outputs": [
    {
     "name": "stdout",
     "output_type": "stream",
     "text": [
      "[   0.  120.  240.  360.  480.  600.  720.  840.  960. 1080. 1200. 1320.\n",
      " 1440. 1560. 1680. 1800. 1920. 2040. 2160. 2280. 2400. 2520. 2640. 2760.\n",
      " 2880. 3000. 3120. 3240. 3360. 3480.]\n"
     ]
    }
   ],
   "source": [
    "t_e = np.arange(0.,3600.,2.*60.)\n",
    "print(t_e)"
   ]
  },
  {
   "cell_type": "markdown",
   "metadata": {},
   "source": [
    "---\n",
    "**- Minimisation : **"
   ]
  },
  {
   "cell_type": "code",
   "execution_count": 68,
   "metadata": {
    "scrolled": false
   },
   "outputs": [
    {
     "data": {
      "image/png": "[encoded data removed]",
      "text/plain": [
       "<Figure size 576x360 with 2 Axes>"
      ]
     },
     "metadata": {},
     "output_type": "display_data"
    }
   ],
   "source": [
    "_t = []\n",
    "for t in t_e : \n",
    "    x, y = r.get_xy(t)\n",
    "    x_s, y_s = sources[0].get_xy(t)\n",
    "    rg = np.sqrt((x-x_s)**2 + (y - y_s)**2)\n",
    "    _t.append(t + pmap.draw_t(rg))\n",
    "\n",
    "r.t_r_tilda = np.array(_t+r.dt).squeeze()\n",
    "x, v, dt, success, message, res, J = geolocalize_xtmap_1Dv(r, sources, t_e, pmap, clock_drift=False, \\\n",
    "                                                        plot_min=True) #, x0 = np.array([1500.,0.1]))"
   ]
  },
  {
   "cell_type": "markdown",
   "metadata": {},
   "source": [
    "---\n",
    "### Minimum de la fonction sur la grille de calcul : \n",
    "\n",
    "On obtient le bon résultat."
   ]
  },
  {
   "cell_type": "code",
   "execution_count": 69,
   "metadata": {},
   "outputs": [],
   "source": [
    "f_grd2D = np.load('f_grd2D.npy')"
   ]
  },
  {
   "cell_type": "code",
   "execution_count": 70,
   "metadata": {},
   "outputs": [
    {
     "name": "stdout",
     "output_type": "stream",
     "text": [
      "idx :  (array([400]), array([11]))\n",
      "x_min : 10.0 km\n",
      "v_min : 0.1 m/s\n"
     ]
    }
   ],
   "source": [
    "### grille de calcul de la minimisation\n",
    "xy_sc = 1.e3\n",
    "v_sc = 0.1\n",
    "x_grd = np.linspace(-30.e3, 30.e3, 601.) / xy_sc\n",
    "v_grd = np.linspace(-1,6,71.) / v_sc\n",
    "\n",
    "### minimum de la fonction \n",
    "idx =  np.where(f_grd2D == np.min(f_grd2D))\n",
    "print('idx : ', idx)\n",
    "print('x_min : %.1f km' %x_grd[idx[0]])\n",
    "print('v_min : %.1f m/s' %(v_grd[idx[1]]*v_sc))"
   ]
  },
  {
   "cell_type": "markdown",
   "metadata": {},
   "source": [
    "---\n",
    "### Résultats de geolocalize_xtmap_1Dv : \n",
    "\n",
    "La fonction \"minimize\" choisit le mauvais minimum, avec une vitesse de presque 5m/s et une position symétrique, par rapport à la source, de la position réelle. "
   ]
  },
  {
   "cell_type": "code",
   "execution_count": 71,
   "metadata": {},
   "outputs": [
    {
     "name": "stdout",
     "output_type": "stream",
     "text": [
      "Position réelle du flotteur        : 10000.000 m\n",
      "Position estimée par minimisation  : 9999.430 m\n",
      "Erreur sur le positionnement       : 0.570 m\n",
      "\n",
      "Vitesse réelle du flotteur         : 10.000 cm/s\n",
      "Vitesse estimée par minimisation   : 10.011 cm/s\n",
      "Erreur sur la vitesse du flotteur  : 0.011 cm/s\n"
     ]
    }
   ],
   "source": [
    "print (\"Position réelle du flotteur        : %.3f m\" %r.x)\n",
    "print (\"Position estimée par minimisation  : %.3f m\" %x)\n",
    "print (\"Erreur sur le positionnement       : %.3f m\" % abs(r.x - x))\n",
    "print (\"\\nVitesse réelle du flotteur         : %.3f cm/s\" %(r.v_x*100.))\n",
    "print (\"Vitesse estimée par minimisation   : %.3f cm/s\" %(v*100.))\n",
    "print (\"Erreur sur la vitesse du flotteur  : %.3f cm/s\" % (abs(r.v_x - v)*100.))"
   ]
  },
  {
   "cell_type": "markdown",
   "metadata": {},
   "source": [
    "---\n",
    "---\n",
    "### Si x0 est plus proche de la solution réelle : \n",
    "\n",
    "Si x0 est fixé assez proche de la solution réelle (ici 1.5km pour une position réelle à 10km), les résultats de la minimisation sont ok. "
   ]
  },
  {
   "cell_type": "code",
   "execution_count": 40,
   "metadata": {},
   "outputs": [],
   "source": [
    "_t = []\n",
    "for t in t_e : \n",
    "    x, y = r.get_xy(t)\n",
    "    x_s, y_s = sources[0].get_xy(t)\n",
    "    rg = np.sqrt((x-x_s)**2 + (y - y_s)**2)\n",
    "    _t.append(t + pmap.draw_t(rg))\n",
    "\n",
    "r.t_r_tilda = np.array(_t+r.dt).squeeze()\n",
    "x, v, dt, success, message, res = geolocalize_xtmap_1Dv(r, sources, t_e, pmap, clock_drift=False, \\\n",
    "                                                        x0 = np.array([1500.,0.1]))"
   ]
  },
  {
   "cell_type": "code",
   "execution_count": 41,
   "metadata": {},
   "outputs": [
    {
     "name": "stdout",
     "output_type": "stream",
     "text": [
      "Position réelle du flotteur        : 10000.000 m\n",
      "Position estimée par minimisation  : 9999.708 m\n",
      "Erreur sur le positionnement       : 0.292 m\n",
      "\n",
      "Vitesse réelle du flotteur         : 10.000 cm/s\n",
      "Vitesse estimée par minimisation   : 10.002 cm/s\n",
      "Erreur sur la vitesse du flotteur  : 0.002 cm/s\n"
     ]
    }
   ],
   "source": [
    "print (\"Position réelle du flotteur        : %.3f m\" %r.x)\n",
    "print (\"Position estimée par minimisation  : %.3f m\" %x)\n",
    "print (\"Erreur sur le positionnement       : %.3f m\" % abs(r.x - x))\n",
    "print (\"\\nVitesse réelle du flotteur         : %.3f cm/s\" %(r.v_x*100.))\n",
    "print (\"Vitesse estimée par minimisation   : %.3f cm/s\" %(v*100.))\n",
    "print (\"Erreur sur la vitesse du flotteur  : %.3f cm/s\" % (abs(r.v_x - v)*100.))"
   ]
  },
  {
   "cell_type": "markdown",
   "metadata": {},
   "source": [
    "---\n",
    "---\n",
    "---\n",
    "### Variation du signe des vitesses (source et flotteur)"
   ]
  },
  {
   "cell_type": "code",
   "execution_count": 49,
   "metadata": {},
   "outputs": [],
   "source": [
    "### création de la source (vitesse de 2.5 m/s)\n",
    "sources_neg=[]\n",
    "sources_neg.append(source( 0.e3, 0, v_x = -2.5))\n",
    "Ns = len(sources)"
   ]
  },
  {
   "cell_type": "code",
   "execution_count": 50,
   "metadata": {},
   "outputs": [
    {
     "name": "stdout",
     "output_type": "stream",
     "text": [
      "e_tp   = 1.0 ms    (incertitude sur le temps d'arrivée)\n"
     ]
    }
   ],
   "source": [
    "pmap = xtmap(c_b=1500., e_t=1.e-3) \n",
    "print(\"e_tp   = %.1f ms    (incertitude sur le temps d'arrivée)\" %(pmap.e_tp(0.)*1000.))"
   ]
  },
  {
   "cell_type": "code",
   "execution_count": 51,
   "metadata": {},
   "outputs": [],
   "source": [
    "L = 120.* 1.e3\n",
    "X = np.linspace(-L/2.,L/2.,241)  # resolution : 1km\n",
    "Y = 0. "
   ]
  },
  {
   "cell_type": "code",
   "execution_count": null,
   "metadata": {},
   "outputs": [],
   "source": [
    "Nmc = 10           # number of simulations\n",
    "\n",
    "# v_source positive, v_flotteur positive\n",
    "RMS_pp, BiasX_pp, _ = transect (sources, X, Y, Nmc, t_e, pmap, v_x=0.1, clock_drift = False ) \n",
    "# v_source negative, v_flotteur positive\n",
    "RMS_np, BiasX_np, _ = transect (sources_neg, X, Y, Nmc, t_e, pmap, v_x=0.1, clock_drift = False ) \n",
    "# v_source positive, v_flotteur negative\n",
    "RMS_pn, BiasX_pn, _ = transect (sources, X, Y, Nmc, t_e, pmap, v_x=-0.1, clock_drift = False ) \n",
    "# v_source negative, v_flotteur negative\n",
    "RMS_nn, BiasX_nn, _ = transect (sources_neg, X, Y, Nmc, t_e, pmap, v_x=-0.1, clock_drift = False ) "
   ]
  },
  {
   "cell_type": "code",
   "execution_count": 59,
   "metadata": {},
   "outputs": [
    {
     "data": {
      "image/png": "[encoded data removed]",
      "text/plain": [
       "<Figure size 1080x864 with 4 Axes>"
      ]
     },
     "metadata": {},
     "output_type": "display_data"
    }
   ],
   "source": [
    "plt.figure(figsize=(15,12))\n",
    "## plot rms result\n",
    "plt.subplot(221)\n",
    "plt.plot(X/1.e3, RMS_pp, '.') \n",
    "plt.xlabel('x (km)', fontsize=14)\n",
    "plt.ylabel('RMS (m)', fontsize=14)\n",
    "plt.title('v_source>0  et  v_flotteur>0', fontsize=16 )\n",
    "plt.xticks(fontsize=13)\n",
    "plt.yticks(fontsize=13)\n",
    "plt.grid()\n",
    "\n",
    "plt.subplot(222)\n",
    "plt.plot(X/1.e3, RMS_np, '.') \n",
    "plt.xlabel('x (km)', fontsize=14)\n",
    "plt.ylabel('RMS (m)', fontsize=14)\n",
    "plt.title('v_source<0  et  v_flotteur>0', fontsize=16 )\n",
    "plt.xticks(fontsize=13)\n",
    "plt.yticks(fontsize=13)\n",
    "plt.grid()\n",
    "\n",
    "plt.subplot(223)\n",
    "plt.plot(X/1.e3, RMS_pn, '.') \n",
    "plt.xlabel('x (km)', fontsize=14)\n",
    "plt.ylabel('RMS (m)', fontsize=14)\n",
    "plt.title('v_source>0  et  v_flotteur<0', fontsize=16 )\n",
    "plt.xticks(fontsize=13)\n",
    "plt.yticks(fontsize=13)\n",
    "plt.grid()\n",
    "\n",
    "plt.subplot(224)\n",
    "plt.plot(X/1.e3, RMS_nn, '.') \n",
    "plt.xlabel('x (km)', fontsize=14)\n",
    "plt.ylabel('RMS (m)', fontsize=14)\n",
    "plt.title('v_source<0  et  v_flotteur<0', fontsize=16 )\n",
    "plt.xticks(fontsize=13)\n",
    "plt.yticks(fontsize=13)\n",
    "plt.grid()\n",
    "\n",
    "#plt.show()\n",
    "plt.savefig('variation_signe_vitesses', dpi=100)"
   ]
  },
  {
   "cell_type": "markdown",
   "metadata": {},
   "source": [
    "---\n",
    "---\n",
    "---\n",
    "### Nouvelle méthode en fixant x0 proche des deux solutions"
   ]
  },
  {
   "cell_type": "code",
   "execution_count": 41,
   "metadata": {},
   "outputs": [],
   "source": [
    "_t = []\n",
    "for t in t_e : \n",
    "    x, y = r.get_xy(t)\n",
    "    x_s, y_s = sources[0].get_xy(t)\n",
    "    rg = np.sqrt((x-x_s)**2 + (y - y_s)**2)\n",
    "    _t.append(t + pmap.draw_t(rg))\n",
    "\n",
    "r.t_r_tilda = np.array(_t+r.dt).squeeze()\n",
    "x1, v1, dt1, success1, message1, res1, J1 = geolocalize_xtmap_1Dv(r, sources, t_e, pmap, clock_drift=False, \\\n",
    "                                                         x0 = np.array([r.x,0.]))\n",
    "\n",
    "x2,v2, dt2, success2, message2, res2, J2 = geolocalize_xtmap_1Dv(r, sources, t_e, pmap, clock_drift=False, \\\n",
    "                                                x0 = np.array([(sources[0].x_s - r.x) + sources[0].x_s,0.]))\n",
    "\n",
    "if J1 == J2 : \n",
    "    print(\"Erreur : J1 = J2\")\n",
    "elif J1 < J2 : \n",
    "    x, v, dt, success, message, res, J = x1, v1, dt1, success1, message1, res1, J1\n",
    "else : \n",
    "    x, v, dt, success, message, res, J = x2, v2, dt2, success2, message2, res2, J2"
   ]
  },
  {
   "cell_type": "code",
   "execution_count": 42,
   "metadata": {},
   "outputs": [
    {
     "name": "stdout",
     "output_type": "stream",
     "text": [
      "Position réelle du flotteur        : 10000.000 m\n",
      "Position estimée par minimisation  : 9999.304 m\n",
      "Erreur sur le positionnement       : 0.696 m\n",
      "\n",
      "Vitesse réelle du flotteur         : 10.000 cm/s\n",
      "Vitesse estimée par minimisation   : 10.016 cm/s\n",
      "Erreur sur la vitesse du flotteur  : 0.016 cm/s\n"
     ]
    }
   ],
   "source": [
    "print (\"Position réelle du flotteur        : %.3f m\" %r.x)\n",
    "print (\"Position estimée par minimisation  : %.3f m\" %x)\n",
    "print (\"Erreur sur le positionnement       : %.3f m\" % abs(r.x - x))\n",
    "print (\"\\nVitesse réelle du flotteur         : %.3f cm/s\" %(r.v_x*100.))\n",
    "print (\"Vitesse estimée par minimisation   : %.3f cm/s\" %(v*100.))\n",
    "print (\"Erreur sur la vitesse du flotteur  : %.3f cm/s\" % (abs(r.v_x - v)*100.))"
   ]
  },
  {
   "cell_type": "code",
   "execution_count": 49,
   "metadata": {},
   "outputs": [
    {
     "name": "stdout",
     "output_type": "stream",
     "text": [
      "[0.69556813 0.67650603 0.65744394 0.63838185 0.61931976 0.60025767\n",
      " 0.58119557 0.56213348 0.54307139 0.5240093  0.5049472  0.48588511\n",
      " 0.46682302 0.44776093 0.42869884 0.40963674 0.39057465 0.37151256\n",
      " 0.35245047 0.33338838 0.31432628 0.29526419 0.2762021  0.25714001\n",
      " 0.23807791 0.21901582 0.19995373 0.18089164 0.16182955 0.14276745]\n"
     ]
    }
   ],
   "source": [
    "#estimé\n",
    "x_estim = x + v * (t_e - r.t0)\n",
    "#position exacte\n",
    "x_real = r.x + r.v_x * (t_e - r.t0)\n",
    "#erreur\n",
    "dx = x_real - x_estim\n",
    "print(dx)"
   ]
  },
  {
   "cell_type": "code",
   "execution_count": null,
   "metadata": {},
   "outputs": [],
   "source": [
    "\n",
    "###############################################################################\n",
    "############################## FIN DES TESTS ##################################\n",
    "###############################################################################\n"
   ]
  },
  {
   "cell_type": "markdown",
   "metadata": {},
   "source": [
    "---\n",
    "---\n",
    "---\n",
    "---\n",
    "# 3 - Calculs des transects "
   ]
  },
  {
   "cell_type": "markdown",
   "metadata": {},
   "source": [
    "---\n",
    "**- Création du transect : **"
   ]
  },
  {
   "cell_type": "code",
   "execution_count": 43,
   "metadata": {},
   "outputs": [],
   "source": [
    "L = 120.* 1.e3\n",
    "X = np.linspace(-L/2.,L/2.,241)  # resolution : 1km\n",
    "Y = 0. "
   ]
  },
  {
   "cell_type": "markdown",
   "metadata": {},
   "source": [
    "---\n",
    "**- Initialisation du mapping (choix de l'erreur e_tp) : **"
   ]
  },
  {
   "cell_type": "code",
   "execution_count": 44,
   "metadata": {},
   "outputs": [
    {
     "name": "stdout",
     "output_type": "stream",
     "text": [
      "e_tp   = 1.0 ms    (incertitude sur le temps d'arrivée)\n"
     ]
    }
   ],
   "source": [
    "pmap = xtmap(c_b=1500., e_t=1.e-3) \n",
    "print(\"e_tp   = %.1f ms    (incertitude sur le temps d'arrivée)\" %(pmap.e_tp(0.)*1000.))"
   ]
  },
  {
   "cell_type": "markdown",
   "metadata": {},
   "source": [
    "---\n",
    "**- Simulations (choix de la dérive d'horloge) : **"
   ]
  },
  {
   "cell_type": "code",
   "execution_count": 45,
   "metadata": {
    "scrolled": true
   },
   "outputs": [
    {
     "data": {
      "application/vnd.jupyter.widget-view+json": {
       "model_id": "2c3418ef37444618894aa0c0d2affc3d",
       "version_major": 2,
       "version_minor": 0
      },
      "text/plain": [
       "FloatProgress(value=0.0, description='Loading :')"
      ]
     },
     "metadata": {},
     "output_type": "display_data"
    },
    {
     "name": "stdout",
     "output_type": "stream",
     "text": [
      "No convergence, try with 1000 more iterations\n",
      "No convergence, try with 1000 more iterations\n",
      "No convergence, try with 1000 more iterations\n",
      "No convergence, try with 1000 more iterations\n",
      "No convergence, try with 1000 more iterations\n",
      "No convergence, try with 1000 more iterations\n",
      "No convergence, try with 1000 more iterations\n",
      "No convergence, try with 1000 more iterations\n",
      "No convergence, try with 1000 more iterations\n",
      "No convergence, try with 1000 more iterations\n"
     ]
    }
   ],
   "source": [
    "Nmc = 10         # number of simulations\n",
    "RMS_t, BiasX_t, _ = transect (sources, X, Y, Nmc, t_e, pmap, v_x=0.1, clock_drift = False) "
   ]
  },
  {
   "cell_type": "code",
   "execution_count": 47,
   "metadata": {
    "scrolled": true
   },
   "outputs": [
    {
     "data": {
      "application/vnd.jupyter.widget-view+json": {
       "model_id": "77ca40e775d2436486e9b4cc7ddb39d2",
       "version_major": 2,
       "version_minor": 0
      },
      "text/plain": [
       "FloatProgress(value=0.0, description='Loading :')"
      ]
     },
     "metadata": {},
     "output_type": "display_data"
    },
    {
     "name": "stdout",
     "output_type": "stream",
     "text": [
      "No convergence, try with 1000 more iterations\n",
      "No convergence, try with 1000 more iterations\n",
      "No convergence, try with 1000 more iterations\n",
      "No convergence, try with 1000 more iterations\n",
      "No convergence, try with 1000 more iterations\n",
      "No convergence, try with 1000 more iterations\n",
      "No convergence, try with 1000 more iterations\n",
      "No convergence, try with 1000 more iterations\n",
      "No convergence, try with 1000 more iterations\n",
      "No convergence, try with 1000 more iterations\n",
      "No convergence, try with 1000 more iterations\n",
      "No convergence, try with 1000 more iterations\n",
      "No convergence, try with 1000 more iterations\n",
      "No convergence, try with 1000 more iterations\n",
      "No convergence, try with 1000 more iterations\n",
      "No convergence, try with 1000 more iterations\n",
      "No convergence, try with 1000 more iterations\n",
      "No convergence, try with 1000 more iterations\n",
      "No convergence, try with 1000 more iterations\n",
      "No convergence, try with 1000 more iterations\n",
      "No convergence, try with 1000 more iterations\n",
      "No convergence, try with 1000 more iterations\n",
      "No convergence, try with 1000 more iterations\n",
      "No convergence, try with 1000 more iterations\n",
      "No convergence, try with 1000 more iterations\n",
      "No convergence, try with 1000 more iterations\n",
      "No convergence, try with 1000 more iterations\n",
      "No convergence, try with 1000 more iterations\n",
      "No convergence, try with 1000 more iterations\n",
      "No convergence, try with 1000 more iterations\n",
      "No convergence, try with 1000 more iterations\n",
      "No convergence, try with 1000 more iterations\n",
      "No convergence, try with 1000 more iterations\n",
      "No convergence, try with 1000 more iterations\n",
      "No convergence, try with 1000 more iterations\n",
      "No convergence, try with 1000 more iterations\n",
      "No convergence, try with 1000 more iterations\n",
      "No convergence, try with 1000 more iterations\n",
      "No convergence, try with 1000 more iterations\n",
      "No convergence, try with 1000 more iterations\n",
      "No convergence, try with 1000 more iterations\n",
      "No convergence, try with 1000 more iterations\n",
      "No convergence, try with 1000 more iterations\n",
      "No convergence, try with 1000 more iterations\n",
      "No convergence, try with 1000 more iterations\n"
     ]
    }
   ],
   "source": [
    "Nmc = 10         # number of simulations\n",
    "RMS_tnew, BiasX_tnew, _ = transect (sources, X, Y, Nmc, t_e, pmap, v_x=0.1, clock_drift = False, \\\n",
    "                             new_method=True) "
   ]
  },
  {
   "cell_type": "code",
   "execution_count": 48,
   "metadata": {},
   "outputs": [
    {
     "data": {
      "image/png": "[encoded data removed]",
      "text/plain": [
       "<Figure size 1152x360 with 2 Axes>"
      ]
     },
     "metadata": {},
     "output_type": "display_data"
    }
   ],
   "source": [
    "plt.figure(figsize=(16,5))\n",
    "plt.subplot(121)\n",
    "plt.plot(X/1.e3, RMS_t, '.') \n",
    "plt.xlabel('x (km)', fontsize=14)\n",
    "plt.ylabel('RMS (m)', fontsize=14)\n",
    "plt.title('Méthode classique', fontsize=16 )\n",
    "plt.xticks(fontsize=13)\n",
    "plt.yticks(fontsize=13)\n",
    "plt.grid()\n",
    "\n",
    "plt.subplot(122)\n",
    "plt.plot(X/1.e3, RMS_tnew, '.')\n",
    "plt.xlabel('x (km)', fontsize=14)\n",
    "plt.ylabel('RMS (m)', fontsize=14)\n",
    "plt.title('Nouvelle méthode', fontsize=16)\n",
    "plt.xticks(fontsize=13)\n",
    "plt.yticks(fontsize=13)\n",
    "plt.grid()\n",
    "\n",
    "plt.show()"
   ]
  },
  {
   "cell_type": "code",
   "execution_count": null,
   "metadata": {},
   "outputs": [],
   "source": []
  }
 ],
 "metadata": {
  "kernelspec": {
   "display_name": "Python 3",
   "language": "python",
   "name": "python3"
  },
  "language_info": {
   "codemirror_mode": {
    "name": "ipython",
    "version": 3
   },
   "file_extension": ".py",
   "mimetype": "text/x-python",
   "name": "python",
   "nbconvert_exporter": "python",
   "pygments_lexer": "ipython3",
   "version": "3.6.5"
  }
 },
 "nbformat": 4,
 "nbformat_minor": 2
}
