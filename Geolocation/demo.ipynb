{
 "cells": [
  {
   "cell_type": "markdown",
   "metadata": {},
   "source": [
    "# geolocation\n",
    "\n",
    "- formulation of a solver.\n",
    "\n",
    "- statistical simulations in order to determine sources of uncertainty"
   ]
  },
  {
   "cell_type": "markdown",
   "metadata": {},
   "source": [
    "---\n",
    "\n",
    "## formulation\n",
    "\n",
    "<img src='schematic.jpeg' alt='Drawing' align='right' style='width: 300px;'/>\n",
    "\n",
    "We want to find the float horizontal position $\\underline{x}=(x,y)$ of an underwater float \n",
    "given a number of **known variables**:\n",
    "- $\\underline{x}_s^i$ : source surface float horizontal position\n",
    "- $t_e^i$ : time of emission for source $i$\n",
    "- $\\tilde{t}_r^i$ : time of reception of the signal emitted by source $i$ by the underwater float\n",
    "- $\\epsilon_i$ : signal detection, $\\epsilon_i=1$ (detection) or $1$ (no detection)\n",
    "- $z$ : underwater float depth(perfect knowledge), not used for now\n",
    "\n",
    "'Perfect' knowledge is assumed for known variables wich amounts to say potential errors on there\n",
    "estimates may be neglected."
   ]
  },
  {
   "cell_type": "markdown",
   "metadata": {},
   "source": [
    "**Unknown variables** are:\n",
    "- $\\underline{x}=(x,y)$ : underwater float position\n",
    "- $\\delta t$ : underwater float clock offset, $\\delta t = \\tilde{t}_r^i - t_r^i$, where \n",
    "$t_r^i$ is the true time of reception\n",
    "- $\\delta \\underline{x}^i$ : vector difference between source $i$ transducer position and surface float position, $\\delta \\underline{x}^i = \\underline{x}_t^i - \\underline{x}_s^i$\n",
    "- $\\delta c (\\underline{x},\\underline{x}_t^i)$ : difference between equivalent celerity defined as \n",
    "$c(\\underline{x},\\underline{x}_t^i) = ||\\underline{x} - \\underline{x}_t^i ||/(t_r^i - t_e^i)$ and its background (a priori) estimate $c_b$, $\\delta c (\\underline{x},\\underline{x}_t^i) = c(\\underline{x},\\underline{x}_t^i) - c_b$.\n",
    "\n",
    "A priori standard deviations for $\\underline{x}$, $\\delta t$, $\\delta \\underline{x}^i$, $\\delta c (\\underline{x},\\underline{x}_t^i)$ are\n",
    "assumed to be known and given by: $e_x$, $e_{\\delta t}$, $e_{\\delta x}$, $e_{\\delta c}$.\n",
    "\n",
    "Background (a priori) estimates for $\\underline{x}$, $\\delta t$, $\\delta \\underline{x}^i$, $\\delta c (\\underline{x},\\underline{x}_t^i)$ may eventually be provided. We assume all are 0 for now except\n",
    "for the float position $\\underline{x}_b=(x=1km, y=0km)$.\n"
   ]
  },
  {
   "cell_type": "markdown",
   "metadata": {},
   "source": [
    "We impose **hard contraints** for each source-float acoustic travel:\n",
    "\n",
    "$$\n",
    "\\begin{align*}\n",
    "||\\underline{x} - \\underline{x}_s^i - \\delta \\underline{x}^i || = \\big (c_b + \\delta c(\\underline{x},\\underline{x}_t^i) \\big ) \\times (\\tilde{t}_r^i + \\delta t - t_e^i),\n",
    "\\end{align*}\n",
    "$$\n",
    "\n",
    "The estimate of the underwater float position $\\underline{\\hat{x}}$ minimizes:\n",
    "\n",
    "$$\n",
    "\\begin{align*}\n",
    "J(\\mathbf{x}, \\delta t, \\delta \\underline{x}_i, \\delta c (\\underline{x},\\underline{x}_t^i)) = \n",
    "||\\underline{x} - \\underline{x}_b||^2 /e_x^2\n",
    "+ \\delta t^2 / e_{\\delta t}^2 \n",
    "+ \\sum_i \\epsilon_i \\times ( ||\\delta \\underline{x}_i||^2 / e_{\\delta x}^2\n",
    "+ \\delta c (\\underline{x},\\underline{x}_t^i)^2 / e_c^2 )\n",
    "\\end{align*}\n",
    "$$\n",
    "\n",
    "subject to the hard constraints listed above.\n",
    "\n",
    "The hard constraint may used to estimate $\\delta c$ and plug it into the functional J:\n",
    "$$\n",
    "\\begin{align*}\n",
    "J(\\mathbf{x}, \\delta t, \\delta \\underline{x}_i) = \n",
    "||\\underline{x} - \\underline{x}_b||^2 /e_x^2\n",
    "+ \\delta t^2 / e_{\\delta t}^2 \n",
    "+ \\sum_i \\epsilon_i \\times \\Big \\{ \\frac{||\\delta \\underline{x}_i||^2} {e_{\\delta x}^2}\n",
    "+ \\frac{\\big [||\\underline{x} - \\underline{x}_s^i - \\delta \\underline{x}^i ||/(\\tilde{t}_r^i + \\delta t - t_e^i) - c_b \\big ]^2} {e_c^2} \\Big \\}\n",
    "\\end{align*}\n",
    "$$\n",
    "\n",
    "We assume $\\epsilon_i=1$ in all examples below for simplicity.\n",
    "\n",
    "We have assumed simultaneous (working assumption) emission of sources.\n",
    "The underwater float velocity may be added as an extra variable (future addition)."
   ]
  },
  {
   "cell_type": "code",
   "execution_count": 1,
   "metadata": {},
   "outputs": [
    {
     "name": "stdout",
     "output_type": "stream",
     "text": [
      "The autoreload extension is already loaded. To reload it, use:\n",
      "  %reload_ext autoreload\n"
     ]
    }
   ],
   "source": [
    "# this enable automatic reloading of libraries\n",
    "%load_ext autoreload\n",
    "%autoreload 2\n",
    "\n",
    "# import libraries\n",
    "import numpy as np\n",
    "import matplotlib.pyplot as plt\n",
    "\n",
    "from clib.geolocation import *\n"
   ]
  },
  {
   "cell_type": "code",
   "execution_count": 2,
   "metadata": {},
   "outputs": [
    {
     "data": {
      "image/png": "[encoded data removed]",
      "text/plain": [
       "<Figure size 432x288 with 1 Axes>"
      ]
     },
     "metadata": {},
     "output_type": "display_data"
    }
   ],
   "source": [
    "        \n",
    "### create an ensemble of sources\n",
    "\n",
    "# square formation:\n",
    "dx=10. *1.e3 # in meters\n",
    "sources=[]\n",
    "sources.append(source(-dx*.5,-dx*.5))\n",
    "sources.append(source(dx*.5,-dx*.5))\n",
    "sources.append(source(dx*.5,dx*.5))\n",
    "sources.append(source(-dx*.5,dx*.5))\n",
    "#sources.append(source(0.,dx*.25))\n",
    "Ns = len(sources)\n",
    "\n",
    "### init a receiver\n",
    "r=receiver(0. *1.e3, 0. *1.e3)\n",
    "\n",
    "### plot\n",
    "plt.figure()\n",
    "ax=plt.subplot(111)\n",
    "[s.plot() for s in sources]\n",
    "r.plot()\n",
    "ax.grid()\n",
    "#ax.set_xlim([-1.,21.])\n",
    "#ax.set_ylim([-1.,11.])\n",
    "ax.set_aspect('equal')\n",
    "plt.show()\n"
   ]
  },
  {
   "cell_type": "code",
   "execution_count": 3,
   "metadata": {},
   "outputs": [
    {
     "name": "stdout",
     "output_type": "stream",
     "text": [
      "Distance source 0 - float = 7.07 km\n",
      "  horizontal offset for a sound celerity difference of 10.0 m/s = 47.14 m\n",
      "Distance source 1 - float = 7.07 km\n",
      "  horizontal offset for a sound celerity difference of 10.0 m/s = 47.14 m\n",
      "Distance source 2 - float = 7.07 km\n",
      "  horizontal offset for a sound celerity difference of 10.0 m/s = 47.14 m\n",
      "Distance source 3 - float = 7.07 km\n",
      "  horizontal offset for a sound celerity difference of 10.0 m/s = 47.14 m\n"
     ]
    }
   ],
   "source": [
    "for i, s in enumerate(sources):\n",
    "    print('Distance source %d - float = %.2f km' %(i, dist(s,r)/1.e3))\n",
    "    print('  horizontal offset for a sound celerity difference of %.1f m/s = %.2f m' %(10., dist(s,r)*10./1500.))"
   ]
  },
  {
   "cell_type": "markdown",
   "metadata": {},
   "source": [
    "---\n",
    "\n",
    "## Demo case\n",
    "\n"
   ]
  },
  {
   "cell_type": "code",
   "execution_count": 4,
   "metadata": {},
   "outputs": [],
   "source": [
    "#[s.draw_celerity(10.) for s in sources]\n",
    "#[s.draw_dxdy(10.) for s in sources]\n",
    "r.draw_clock_drift(1.)"
   ]
  },
  {
   "cell_type": "markdown",
   "metadata": {},
   "source": [
    "The true underwater float position and clock offset are:"
   ]
  },
  {
   "cell_type": "code",
   "execution_count": 5,
   "metadata": {
    "scrolled": true
   },
   "outputs": [
    {
     "name": "stdout",
     "output_type": "stream",
     "text": [
      "x = 0.0 m \n",
      "y = 0.0 m \n",
      "dt = -2.3e-01 s\n"
     ]
    }
   ],
   "source": [
    "print('x = %.1f m \\ny = %.1f m \\ndt = %.1e s' %(r.x, r.y, r.dt))"
   ]
  },
  {
   "cell_type": "markdown",
   "metadata": {},
   "source": [
    "We solve the geolocation problem with the a priori uncertainties and estimates :"
   ]
  },
  {
   "cell_type": "code",
   "execution_count": 6,
   "metadata": {
    "scrolled": true
   },
   "outputs": [
    {
     "name": "stdout",
     "output_type": "stream",
     "text": [
      "e_c  = 10.0 m/s  (celerity)\n",
      "e_dt = 1.0 s  (clock drift)\n",
      "e_x  = 10000.0 m  (underwater float position)\n",
      "e_dx = 10.0 m  (dx between transducer and surface float)\n"
     ]
    }
   ],
   "source": [
    "# a priori uncertainties : \n",
    "print(\"e_c  = %.1f m/s  (celerity)\" %s.e_c)\n",
    "print(\"e_dt = %.1f s  (clock drift)\" %r.e_dt)\n",
    "print(\"e_x  = %.1f m  (underwater float position)\" %r.e_x)\n",
    "print(\"e_dx = %.1f m  (dx between transducer and surface float)\" %s.e_dx)"
   ]
  },
  {
   "cell_type": "code",
   "execution_count": 7,
   "metadata": {},
   "outputs": [],
   "source": [
    "# a priori estimates :\n",
    "x0 = np.zeros((3+3*Ns))\n",
    "# a priori position :\n",
    "x0[0] = 1.e3\n",
    "x0[1] = 0.e3 "
   ]
  },
  {
   "cell_type": "code",
   "execution_count": 8,
   "metadata": {},
   "outputs": [
    {
     "name": "stdout",
     "output_type": "stream",
     "text": [
      "Optimization terminated successfully.\n",
      "         Current function value: 0.559040\n",
      "         Iterations: 51\n",
      "         Function evaluations: 58\n",
      "         Gradient evaluations: 58\n"
     ]
    }
   ],
   "source": [
    "x_hat, y_hat, dt_hat, dx_hat, dy_hat, success, message, res = geolocalize(r, sources,x0 = x0, disp=True)"
   ]
  },
  {
   "cell_type": "code",
   "execution_count": 9,
   "metadata": {},
   "outputs": [
    {
     "name": "stdout",
     "output_type": "stream",
     "text": [
      "Optimizer exited successfully : True\n",
      "Cause of the termination : Optimization terminated successfully.\n",
      "True values :\n",
      "x = 0.0m    y = 0.0m    dt = -2.3e-01s\n",
      "dx =  [-17.8457009   -8.50976286  -1.77141284  11.60570257]\n",
      "dy =  [ 0.36270244 -9.43638917 -0.0725755   3.10749825]\n",
      "\n",
      "Estimated values :\n",
      "x_hat=44.1m    y_hat = -21.3m    dt_hat = -2.1e-01s\n",
      "dx_hat =  [0.00095589 0.00095589 0.00095589 0.00095589]\n",
      "dy_hat =  [2.1235426e-05 2.1235426e-05 2.1235426e-05 2.1235426e-05]\n"
     ]
    }
   ],
   "source": [
    "#\n",
    "print(\"Optimizer exited successfully :\", success)\n",
    "print(\"Cause of the termination :\", message)\n",
    "#\n",
    "x, y, dt, dx, dy, dc = r.x, r.y, r.dt, [s.dx for s in sources], \\\n",
    "                       [s.dy for s in sources] , [s.c - s.c_b for s in sources]\n",
    "print (\"True values :\")\n",
    "print('x = %.1fm    y = %.1fm    dt = %.1es' %(x, y, dt))\n",
    "print('dx = ',np.array(dx)[:,0])\n",
    "print('dy = ',np.array(dy)[:,0])\n",
    "print (\"\\nEstimated values :\")\n",
    "print('x_hat=%.1fm    y_hat = %.1fm    dt_hat = %.1es' %(x_hat, y_hat, dt_hat))\n",
    "print('dx_hat = ',np.array(dx_hat))\n",
    "print('dy_hat = ',np.array(dy_hat))"
   ]
  },
  {
   "cell_type": "code",
   "execution_count": null,
   "metadata": {},
   "outputs": [],
   "source": []
  },
  {
   "cell_type": "code",
   "execution_count": 10,
   "metadata": {},
   "outputs": [
    {
     "data": {
      "text/plain": [
       "      fun: 0.5590395690733833\n",
       " hess_inv: array([[ 2.44298965e+03, -4.97504266e-01, -1.54855278e-02,\n",
       "         2.86577579e+01, -9.38081667e+00,  2.86577579e+01,\n",
       "        -9.38081667e+00,  2.86577579e+01, -9.38081667e+00,\n",
       "         2.86577580e+01, -9.38081667e+00,  0.00000000e+00,\n",
       "         0.00000000e+00,  0.00000000e+00,  0.00000000e+00],\n",
       "       [-4.97504266e-01,  2.25322723e+03,  5.86238008e-03,\n",
       "         6.55821251e-01,  4.48110309e+01,  6.55821268e-01,\n",
       "         4.48110309e+01,  6.55821275e-01,  4.48110309e+01,\n",
       "         6.55820945e-01,  4.48110309e+01,  0.00000000e+00,\n",
       "         0.00000000e+00,  0.00000000e+00,  0.00000000e+00],\n",
       "       [-1.54855278e-02,  5.86238008e-03,  5.16459438e-04,\n",
       "        -3.42022355e-03,  2.31848148e-03, -3.42022354e-03,\n",
       "         2.31848148e-03, -3.42022354e-03,  2.31848148e-03,\n",
       "        -3.42022356e-03,  2.31848148e-03,  0.00000000e+00,\n",
       "         0.00000000e+00,  0.00000000e+00,  0.00000000e+00],\n",
       "       [ 2.86577579e+01,  6.55821251e-01, -3.42022355e-03,\n",
       "         1.17899156e+01,  6.19061605e-01,  1.07899156e+01,\n",
       "         6.19061605e-01,  1.07899156e+01,  6.19061605e-01,\n",
       "         1.07899156e+01,  6.19061605e-01,  0.00000000e+00,\n",
       "         0.00000000e+00,  0.00000000e+00,  0.00000000e+00],\n",
       "       [-9.38081667e+00,  4.48110309e+01,  2.31848148e-03,\n",
       "         6.19061605e-01,  1.19174438e+01,  6.19061605e-01,\n",
       "         1.09174438e+01,  6.19061605e-01,  1.09174438e+01,\n",
       "         6.19061599e-01,  1.09174438e+01,  0.00000000e+00,\n",
       "         0.00000000e+00,  0.00000000e+00,  0.00000000e+00],\n",
       "       [ 2.86577579e+01,  6.55821268e-01, -3.42022354e-03,\n",
       "         1.07899156e+01,  6.19061605e-01,  1.17899156e+01,\n",
       "         6.19061605e-01,  1.07899156e+01,  6.19061605e-01,\n",
       "         1.07899156e+01,  6.19061605e-01,  0.00000000e+00,\n",
       "         0.00000000e+00,  0.00000000e+00,  0.00000000e+00],\n",
       "       [-9.38081667e+00,  4.48110309e+01,  2.31848148e-03,\n",
       "         6.19061605e-01,  1.09174438e+01,  6.19061605e-01,\n",
       "         1.19174438e+01,  6.19061605e-01,  1.09174438e+01,\n",
       "         6.19061599e-01,  1.09174438e+01,  0.00000000e+00,\n",
       "         0.00000000e+00,  0.00000000e+00,  0.00000000e+00],\n",
       "       [ 2.86577579e+01,  6.55821275e-01, -3.42022354e-03,\n",
       "         1.07899156e+01,  6.19061605e-01,  1.07899156e+01,\n",
       "         6.19061605e-01,  1.17899156e+01,  6.19061605e-01,\n",
       "         1.07899156e+01,  6.19061605e-01,  0.00000000e+00,\n",
       "         0.00000000e+00,  0.00000000e+00,  0.00000000e+00],\n",
       "       [-9.38081667e+00,  4.48110309e+01,  2.31848148e-03,\n",
       "         6.19061605e-01,  1.09174438e+01,  6.19061605e-01,\n",
       "         1.09174438e+01,  6.19061605e-01,  1.19174438e+01,\n",
       "         6.19061599e-01,  1.09174438e+01,  0.00000000e+00,\n",
       "         0.00000000e+00,  0.00000000e+00,  0.00000000e+00],\n",
       "       [ 2.86577580e+01,  6.55820945e-01, -3.42022356e-03,\n",
       "         1.07899156e+01,  6.19061599e-01,  1.07899156e+01,\n",
       "         6.19061599e-01,  1.07899156e+01,  6.19061599e-01,\n",
       "         1.17899156e+01,  6.19061599e-01,  0.00000000e+00,\n",
       "         0.00000000e+00,  0.00000000e+00,  0.00000000e+00],\n",
       "       [-9.38081667e+00,  4.48110309e+01,  2.31848148e-03,\n",
       "         6.19061605e-01,  1.09174438e+01,  6.19061605e-01,\n",
       "         1.09174438e+01,  6.19061605e-01,  1.09174438e+01,\n",
       "         6.19061599e-01,  1.19174438e+01,  0.00000000e+00,\n",
       "         0.00000000e+00,  0.00000000e+00,  0.00000000e+00],\n",
       "       [ 0.00000000e+00,  0.00000000e+00,  0.00000000e+00,\n",
       "         0.00000000e+00,  0.00000000e+00,  0.00000000e+00,\n",
       "         0.00000000e+00,  0.00000000e+00,  0.00000000e+00,\n",
       "         0.00000000e+00,  0.00000000e+00,  1.00000000e+00,\n",
       "         0.00000000e+00,  0.00000000e+00,  0.00000000e+00],\n",
       "       [ 0.00000000e+00,  0.00000000e+00,  0.00000000e+00,\n",
       "         0.00000000e+00,  0.00000000e+00,  0.00000000e+00,\n",
       "         0.00000000e+00,  0.00000000e+00,  0.00000000e+00,\n",
       "         0.00000000e+00,  0.00000000e+00,  0.00000000e+00,\n",
       "         1.00000000e+00,  0.00000000e+00,  0.00000000e+00],\n",
       "       [ 0.00000000e+00,  0.00000000e+00,  0.00000000e+00,\n",
       "         0.00000000e+00,  0.00000000e+00,  0.00000000e+00,\n",
       "         0.00000000e+00,  0.00000000e+00,  0.00000000e+00,\n",
       "         0.00000000e+00,  0.00000000e+00,  0.00000000e+00,\n",
       "         0.00000000e+00,  1.00000000e+00,  0.00000000e+00],\n",
       "       [ 0.00000000e+00,  0.00000000e+00,  0.00000000e+00,\n",
       "         0.00000000e+00,  0.00000000e+00,  0.00000000e+00,\n",
       "         0.00000000e+00,  0.00000000e+00,  0.00000000e+00,\n",
       "         0.00000000e+00,  0.00000000e+00,  0.00000000e+00,\n",
       "         0.00000000e+00,  0.00000000e+00,  1.00000000e+00]])\n",
       "      jac: array([ 2.84669743e-10, -2.41400748e-09, -2.51712443e-07, -9.49750524e-10,\n",
       "        8.58284732e-10, -9.49747450e-10,  8.58284719e-10, -9.49746126e-10,\n",
       "        8.58284723e-10, -9.49806917e-10,  8.58285631e-10,  0.00000000e+00,\n",
       "        0.00000000e+00,  0.00000000e+00,  0.00000000e+00])\n",
       "  message: 'Optimization terminated successfully.'\n",
       "     nfev: 58\n",
       "      nit: 51\n",
       "     njev: 58\n",
       "   status: 0\n",
       "  success: True\n",
       "        x: array([ 4.40739669e+01, -2.13132121e+01, -2.14492856e-01,  9.55892779e-04,\n",
       "        2.12354260e-05,  9.55892779e-04,  2.12354260e-05,  9.55892779e-04,\n",
       "        2.12354260e-05,  9.55892776e-04,  2.12354260e-05,  0.00000000e+00,\n",
       "        0.00000000e+00,  0.00000000e+00,  0.00000000e+00])"
      ]
     },
     "execution_count": 10,
     "metadata": {},
     "output_type": "execute_result"
    }
   ],
   "source": [
    "res"
   ]
  }
 ],
 "metadata": {
  "kernelspec": {
   "display_name": "Python 3",
   "language": "python",
   "name": "python3"
  },
  "language_info": {
   "codemirror_mode": {
    "name": "ipython",
    "version": 3
   },
   "file_extension": ".py",
   "mimetype": "text/x-python",
   "name": "python",
   "nbconvert_exporter": "python",
   "pygments_lexer": "ipython3",
   "version": "3.6.5"
  }
 },
 "nbformat": 4,
 "nbformat_minor": 2
}
