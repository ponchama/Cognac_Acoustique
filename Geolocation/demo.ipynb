{
 "cells": [
  {
   "cell_type": "markdown",
   "metadata": {},
   "source": [
    "# geolocation\n",
    "\n",
    "- formulation of a solver.\n",
    "\n",
    "- statistical simulations in order to determine sources of uncertainty"
   ]
  },
  {
   "cell_type": "markdown",
   "metadata": {},
   "source": [
    "---\n",
    "\n",
    "## formulation\n",
    "\n",
    "<img src='schematic.jpeg' alt='Drawing' align='right' style='width: 300px;'/>\n",
    "\n",
    "We want to find the float horizontal position $\\underline{x}=(x,y)$ of an underwater float \n",
    "given a number of **known variables**:\n",
    "- $\\underline{x}_s^i$ : source surface float horizontal position\n",
    "- $t_e^i$ : time of emission for source $i$\n",
    "- $\\tilde{t}_r^i$ : time of reception of the signal emitted by source $i$ by the underwater float\n",
    "- $\\epsilon_i$ : signal detection, $\\epsilon_i=1$ (detection) or $1$ (no detection)\n",
    "- $z$ : underwater float depth(perfect knowledge), not used for now\n",
    "\n",
    "'Perfect' knowledge is assumed for known variables wich amounts to say potential errors on there\n",
    "estimates may be neglected."
   ]
  },
  {
   "cell_type": "markdown",
   "metadata": {},
   "source": [
    "**Unknown variables** are:\n",
    "- $\\underline{x}=(x,y)$ : underwater float position\n",
    "- $\\delta t$ : underwater float clock offset, $\\delta t = \\tilde{t}_r^i - t_r^i$, where \n",
    "$t_r^i$ is the true time of reception\n",
    "- $\\delta \\underline{x}^i$ : vector difference between source $i$ transducer position and surface float position, $\\delta \\underline{x}^i = \\underline{x}_t^i - \\underline{x}_s^i$\n",
    "- $\\delta c (\\underline{x},\\underline{x}_t^i)$ : difference between equivalent celerity defined as \n",
    "$c(\\underline{x},\\underline{x}_t^i) = ||\\underline{x} - \\underline{x}_t^i ||/(t_r^i - t_e^i)$ and its background (a priori) estimate $c_b$, $\\delta c (\\underline{x},\\underline{x}_t^i) = c(\\underline{x},\\underline{x}_t^i) - c_b$.\n",
    "\n",
    "A priori standard deviations for $\\underline{x}$, $\\delta t$, $\\delta \\underline{x}^i$, $\\delta c (\\underline{x},\\underline{x}_t^i)$ are\n",
    "assumed to be known and given by: $e_x$, $e_{\\delta t}$, $e_{\\delta x}$, $e_{\\delta c}$.\n",
    "\n",
    "Background (a priori) estimates for $\\underline{x}$, $\\delta t$, $\\delta \\underline{x}^i$, $\\delta c (\\underline{x},\\underline{x}_t^i)$ may eventually be provided. We assume all are 0 for now except\n",
    "for the float position $\\underline{x}_b=(x=1km, y=0km)$.\n"
   ]
  },
  {
   "cell_type": "markdown",
   "metadata": {},
   "source": [
    "We impose **hard contraints** for each source-float acoustic travel:\n",
    "\n",
    "$$\n",
    "\\begin{align*}\n",
    "||\\underline{x} - \\underline{x}_s^i - \\delta \\underline{x}^i || = \\big (c_b + \\delta c(\\underline{x},\\underline{x}_t^i) \\big ) \\times (\\tilde{t}_r^i + \\delta t - t_e^i),\n",
    "\\end{align*}\n",
    "$$\n",
    "\n",
    "The estimate of the underwater float position $\\underline{\\hat{x}}$ minimizes:\n",
    "\n",
    "$$\n",
    "\\begin{align*}\n",
    "J(\\mathbf{x}, \\delta t, \\delta \\underline{x}_i, \\delta c (\\underline{x},\\underline{x}_t^i)) = \n",
    "||\\underline{x} - \\underline{x}_b||^2 /e_x^2\n",
    "+ \\delta t^2 / e_{\\delta t}^2 \n",
    "+ \\sum_i \\epsilon_i \\times ( ||\\delta \\underline{x}_i||^2 / e_{\\delta x}^2\n",
    "+ \\delta c (\\underline{x},\\underline{x}_t^i)^2 / e_c^2 )\n",
    "\\end{align*}\n",
    "$$\n",
    "\n",
    "subject to the hard constraints listed above.\n",
    "\n",
    "We assume $\\epsilon_i=1$ in all examples below for simplicity.\n",
    "\n",
    "We have assumed simultaneous (working assumption) emission of sources.\n",
    "The underwater float velocity may be added as an extra variable (future addition)."
   ]
  },
  {
   "cell_type": "code",
   "execution_count": 1,
   "metadata": {},
   "outputs": [],
   "source": [
    "# this enable automatic reloading of libraries\n",
    "%load_ext autoreload\n",
    "%autoreload 2\n",
    "\n",
    "# import libraries\n",
    "import numpy as np\n",
    "import matplotlib.pyplot as plt\n",
    "\n",
    "from clib.geolocation import *\n"
   ]
  },
  {
   "cell_type": "code",
   "execution_count": 2,
   "metadata": {},
   "outputs": [
    {
     "data": {
      "image/png": "[encoded data removed]",
      "text/plain": [
       "<Figure size 432x288 with 1 Axes>"
      ]
     },
     "metadata": {},
     "output_type": "display_data"
    }
   ],
   "source": [
    "        \n",
    "### create an ensemble of sources\n",
    "\n",
    "# square formation:\n",
    "dx=10. *1.e3 # in meters\n",
    "sources=[]\n",
    "sources.append(source(-dx*.5,-dx*.5))\n",
    "sources.append(source(dx*.5,-dx*.5))\n",
    "sources.append(source(dx*.5,dx*.5))\n",
    "sources.append(source(-dx*.5,dx*.5))\n",
    "#sources.append(source(0.,dx*.25))\n",
    "Ns = len(sources)\n",
    "\n",
    "### init a receiver\n",
    "r=receiver(0. *1.e3, 0. *1.e3)\n",
    "\n",
    "### plot\n",
    "plt.figure()\n",
    "ax=plt.subplot(111)\n",
    "[s.plot() for s in sources]\n",
    "r.plot()\n",
    "ax.grid()\n",
    "#ax.set_xlim([-1.,21.])\n",
    "#ax.set_ylim([-1.,11.])\n",
    "ax.set_aspect('equal')\n",
    "plt.show()\n"
   ]
  },
  {
   "cell_type": "code",
   "execution_count": 3,
   "metadata": {},
   "outputs": [
    {
     "name": "stdout",
     "output_type": "stream",
     "text": [
      "Distance source 0 - float = 7.07 km\n",
      "  horizontal offset for a sound celerity difference of 10.0 m/s = 47.14 m\n",
      "Distance source 1 - float = 7.07 km\n",
      "  horizontal offset for a sound celerity difference of 10.0 m/s = 47.14 m\n",
      "Distance source 2 - float = 7.07 km\n",
      "  horizontal offset for a sound celerity difference of 10.0 m/s = 47.14 m\n",
      "Distance source 3 - float = 7.07 km\n",
      "  horizontal offset for a sound celerity difference of 10.0 m/s = 47.14 m\n"
     ]
    }
   ],
   "source": [
    "for i, s in enumerate(sources):\n",
    "    print('Distance source %d - float = %.2f km' %(i, dist(s,r)/1.e3))\n",
    "    print('  horizontal offset for a sound celerity difference of %.1f m/s = %.2f m' %(10., dist(s,r)*10./1500.))"
   ]
  },
  {
   "cell_type": "markdown",
   "metadata": {},
   "source": [
    "---\n",
    "\n",
    "## Demo case\n",
    "\n"
   ]
  },
  {
   "cell_type": "code",
   "execution_count": 4,
   "metadata": {},
   "outputs": [],
   "source": [
    "#[s.draw_celerity(10.) for s in sources]\n",
    "#[s.draw_dxdy(10.) for s in sources]\n",
    "r.draw_clock_drift(1.)"
   ]
  },
  {
   "cell_type": "markdown",
   "metadata": {},
   "source": [
    "The true underwater float position and clock offset are:"
   ]
  },
  {
   "cell_type": "code",
   "execution_count": 5,
   "metadata": {
    "scrolled": true
   },
   "outputs": [
    {
     "name": "stdout",
     "output_type": "stream",
     "text": [
      "x = 0.0 m \n",
      "y = 0.0 m \n",
      "dt = 4.0e-01 s\n"
     ]
    }
   ],
   "source": [
    "print('x = %.1f m \\ny = %.1f m \\ndt = %.1e s' %(r.x, r.y, r.dt))"
   ]
  },
  {
   "cell_type": "markdown",
   "metadata": {},
   "source": [
    "We solve the geolocation problem with the a priori uncertainties and estimates :"
   ]
  },
  {
   "cell_type": "code",
   "execution_count": 6,
   "metadata": {
    "scrolled": true
   },
   "outputs": [
    {
     "name": "stdout",
     "output_type": "stream",
     "text": [
      "e_c  = 10.0 m/s  (celerity)\n",
      "e_dt = 1.0 s  (clock drift)\n",
      "e_x  = 10000.0 m  (underwater float position)\n",
      "e_dx = 10.0 m  (dx between transducer and surface float)\n"
     ]
    }
   ],
   "source": [
    "# a priori uncertainties : \n",
    "print(\"e_c  = %.1f m/s  (celerity)\" %s.e_c)\n",
    "print(\"e_dt = %.1f s  (clock drift)\" %r.e_dt)\n",
    "print(\"e_x  = %.1f m  (underwater float position)\" %r.e_x)\n",
    "print(\"e_dx = %.1f m  (dx between transducer and surface float)\" %s.e_dx)"
   ]
  },
  {
   "cell_type": "code",
   "execution_count": 7,
   "metadata": {},
   "outputs": [],
   "source": [
    "# a priori estimates :\n",
    "x0 = np.zeros((3+3*Ns))\n",
    "# a priori position :\n",
    "x0[0] = 1.e3\n",
    "x0[1] = 0.e3 "
   ]
  },
  {
   "cell_type": "code",
   "execution_count": 24,
   "metadata": {},
   "outputs": [
    {
     "name": "stdout",
     "output_type": "stream",
     "text": [
      "ftol = 1e-06\n",
      "Singular matrix C in LSQ subproblem    (Exit mode 6)\n",
      "            Current function value: 0.0\n",
      "            Iterations: 1\n",
      "            Function evaluations: 1\n",
      "            Gradient evaluations: 1\n",
      "source 1 : 19612915.9\n",
      "[ 1.20000000e+04  1.00000000e+04 -1.92998383e+07  0.00000000e+00\n",
      "  0.00000000e+00  0.00000000e+00  0.00000000e+00  0.00000000e+00\n",
      "  0.00000000e+00  0.00000000e+00  0.00000000e+00  0.00000000e+00\n",
      "  0.00000000e+00  0.00000000e+00  0.00000000e+00]\n",
      "source 2 : -715557.8\n",
      "[-8.00000000e+03  1.00000000e+04 -1.93762747e+07  0.00000000e+00\n",
      "  0.00000000e+00  0.00000000e+00  0.00000000e+00  0.00000000e+00\n",
      "  0.00000000e+00  0.00000000e+00  0.00000000e+00  0.00000000e+00\n",
      "  0.00000000e+00  0.00000000e+00  0.00000000e+00]\n",
      "source 3 : -816502.5\n",
      "[-8.00000000e+03 -1.00000000e+04 -1.93997042e+07  0.00000000e+00\n",
      "  0.00000000e+00  0.00000000e+00  0.00000000e+00  0.00000000e+00\n",
      "  0.00000000e+00  0.00000000e+00  0.00000000e+00  0.00000000e+00\n",
      "  0.00000000e+00  0.00000000e+00  0.00000000e+00]\n",
      "source 4 : 19049341.0\n",
      "[ 1.20000000e+04 -1.00000000e+04 -1.94307985e+07  0.00000000e+00\n",
      "  0.00000000e+00  0.00000000e+00  0.00000000e+00  0.00000000e+00\n",
      "  0.00000000e+00  0.00000000e+00  0.00000000e+00  0.00000000e+00\n",
      "  0.00000000e+00  0.00000000e+00  0.00000000e+00]\n"
     ]
    },
    {
     "data": {
      "text/plain": [
       "(1000.0, 0.0, 0.0, False, 'Singular matrix C in LSQ subproblem',      fun: 0.0\n",
       "      jac: array([0., 0., 0., 0., 0., 0., 0., 0., 0., 0., 0., 0., 0., 0., 0.])\n",
       "  message: 'Singular matrix C in LSQ subproblem'\n",
       "     nfev: 1\n",
       "      nit: 1\n",
       "     njev: 1\n",
       "   status: 6\n",
       "  success: False\n",
       "        x: array([1000.,    0.,    0.,    0.,    0.,    0.,    0.,    0.,    0.,\n",
       "           0.,    0.,    0.,    0.,    0.,    0.]))"
      ]
     },
     "execution_count": 24,
     "metadata": {},
     "output_type": "execute_result"
    }
   ],
   "source": [
    "from clib.geolocation import *\n",
    "geolocalize_xydt(r, sources,x0 = x0)"
   ]
  },
  {
   "cell_type": "code",
   "execution_count": 22,
   "metadata": {},
   "outputs": [
    {
     "name": "stdout",
     "output_type": "stream",
     "text": [
      "ftol = 1e-02\n",
      "source 1 : 54.8\n",
      "[ 9.98968128e+03  9.96302305e+03 -2.11896224e+07 -9.98968128e+03\n",
      " -9.96302305e+03  0.00000000e+00  0.00000000e+00  0.00000000e+00\n",
      "  0.00000000e+00  0.00000000e+00  0.00000000e+00 -6.62685608e+04\n",
      "  0.00000000e+00  0.00000000e+00  0.00000000e+00]\n",
      "source 2 : 56.9\n",
      "[-1.00103146e+04  9.96314099e+03 -2.11572887e+07  0.00000000e+00\n",
      "  0.00000000e+00  1.00103146e+04 -9.96314099e+03  0.00000000e+00\n",
      "  0.00000000e+00  0.00000000e+00  0.00000000e+00  0.00000000e+00\n",
      " -6.65775042e+04  0.00000000e+00  0.00000000e+00]\n",
      "source 3 : 57.2\n",
      "[-1.00101987e+04 -1.00368938e+04 -2.12899836e+07  0.00000000e+00\n",
      "  0.00000000e+00  0.00000000e+00  0.00000000e+00  1.00101987e+04\n",
      "  1.00368938e+04  0.00000000e+00  0.00000000e+00  0.00000000e+00\n",
      "  0.00000000e+00 -6.68966364e+04  0.00000000e+00]\n",
      "source 4 : 54.3\n",
      "[ 9.98978133e+03 -1.00369972e+04 -2.12158758e+07  0.00000000e+00\n",
      "  0.00000000e+00  0.00000000e+00  0.00000000e+00  0.00000000e+00\n",
      "  0.00000000e+00 -9.98978133e+03  1.00369972e+04  0.00000000e+00\n",
      "  0.00000000e+00  0.00000000e+00 -6.69268285e+04]\n",
      "Optimizer exited successfully : False\n",
      "Cause of the termination : Iteration limit exceeded\n",
      "True values :\n",
      "x = 0.0m    y = 0.0m    dt = 4.0e-01s\n",
      "dc =  [ 9.57657758  4.57570351  1.17769814 -1.60956535]\n",
      "dx =  [-15.8522194   14.35127608   3.52880379 -14.22591503]\n",
      "dy =  [  4.12203544  -0.36487203  -0.36793304 -15.03787966]\n",
      "\n",
      "Estimated values :\n",
      "x_hat=-5.1m    y_hat = -18.5m    dt_hat = 4.1e-01s\n",
      "dc_hat =  [ 1.88368879 -1.96886411  1.8923044  -1.82034217]\n",
      "dx_hat =  [ 0.02565734  0.02357867 -0.03435862 -0.0243692 ]\n",
      "dy_hat =  [ 0.02088555 -0.03808824 -0.02067412  0.03099324]\n"
     ]
    }
   ],
   "source": [
    "# geolocation problem resolution :\n",
    "x_hat, y_hat, dt_hat, dx_hat, dy_hat, dc_hat, success, message, res = geolocalize(r, sources,x0 = x0, disp=False)\n",
    "print(\"Optimizer exited successfully :\", success)\n",
    "print(\"Cause of the termination :\", message)\n",
    "x, y, dt, dx, dy, dc = r.x, r.y, r.dt, [s.dx for s in sources], \\\n",
    "                       [s.dy for s in sources] , [s.c - s.c_b for s in sources]\n",
    "print (\"True values :\")\n",
    "print('x = %.1fm    y = %.1fm    dt = %.1es' %(x, y, dt))\n",
    "print('dc = ', np.array(dc)[:,0])\n",
    "print('dx = ',np.array(dx)[:,0])\n",
    "print('dy = ',np.array(dy)[:,0])\n",
    "print (\"\\nEstimated values :\")\n",
    "print('x_hat=%.1fm    y_hat = %.1fm    dt_hat = %.1es' %(x_hat, y_hat, dt_hat))\n",
    "print('dc_hat = ',np.array(dc_hat))\n",
    "print('dx_hat = ',np.array(dx_hat))\n",
    "print('dy_hat = ',np.array(dy_hat))\n"
   ]
  },
  {
   "cell_type": "code",
   "execution_count": 17,
   "metadata": {},
   "outputs": [
    {
     "data": {
      "text/plain": [
       "     fun: 0.2125044896678868\n",
       "     jac: array([ 0.00000000e+00,  0.00000000e+00,  8.16295426e-09,  5.13146840e-02,\n",
       "        4.17711054e-02,  4.71573400e-02, -7.61764803e-02, -6.87172328e-02,\n",
       "       -4.13482372e-02, -4.87384085e-02,  6.19864844e-02,  3.76737758e-02,\n",
       "       -3.93772821e-02,  3.78460880e-02, -3.64068434e-02])\n",
       " message: 'Iteration limit exceeded'\n",
       "    nfev: 10834\n",
       "     nit: 1001\n",
       "    njev: 1001\n",
       "  status: 9\n",
       " success: False\n",
       "       x: array([ -5.13370359, -18.46759179,   0.40814771,   0.02565734,\n",
       "         0.02088555,   0.02357867,  -0.03808824,  -0.03435862,\n",
       "        -0.02067412,  -0.0243692 ,   0.03099324,   1.88368879,\n",
       "        -1.96886411,   1.8923044 ,  -1.82034217])"
      ]
     },
     "execution_count": 17,
     "metadata": {},
     "output_type": "execute_result"
    }
   ],
   "source": [
    "res"
   ]
  },
  {
   "cell_type": "code",
   "execution_count": 8,
   "metadata": {},
   "outputs": [
    {
     "name": "stdout",
     "output_type": "stream",
     "text": [
      "source 1 : 54.8\n",
      "source 2 : 56.9\n",
      "source 3 : 57.2\n",
      "source 4 : 54.3\n"
     ]
    }
   ],
   "source": [
    "# geolocation problem resolution :\n",
    "x_hat, y_hat, dt_hat, dx_hat, dy_hat, dc_hat, success, message = geolocalize(r, sources,x0 = x0, disp=False)"
   ]
  },
  {
   "cell_type": "code",
   "execution_count": 9,
   "metadata": {
    "scrolled": true
   },
   "outputs": [
    {
     "name": "stdout",
     "output_type": "stream",
     "text": [
      "Optimizer exited successfully : False\n",
      "Cause of the termination : Iteration limit exceeded\n"
     ]
    }
   ],
   "source": [
    "print(\"Optimizer exited successfully :\", success)\n",
    "print(\"Cause of the termination :\", message)"
   ]
  },
  {
   "cell_type": "markdown",
   "metadata": {},
   "source": [
    "We look at the differences between true and estimated values : "
   ]
  },
  {
   "cell_type": "code",
   "execution_count": 10,
   "metadata": {},
   "outputs": [
    {
     "name": "stdout",
     "output_type": "stream",
     "text": [
      "True values :\n",
      "x = 0.0m    y = 0.0m    dt = 4.0e-01s\n",
      "dc =  [ 9.57657758  4.57570351  1.17769814 -1.60956535]\n",
      "dx =  [-15.8522194   14.35127608   3.52880379 -14.22591503]\n",
      "dy =  [  4.12203544  -0.36487203  -0.36793304 -15.03787966]\n",
      "\n",
      "Estimated values :\n",
      "x_hat=-5.1m    y_hat = -18.5m    dt_hat = 4.1e-01s\n",
      "dc_hat =  [ 1.88368879 -1.96886411  1.8923044  -1.82034217]\n",
      "dx_hat =  [ 0.02565734  0.02357867 -0.03435862 -0.0243692 ]\n",
      "dy_hat =  [ 0.02088555 -0.03808824 -0.02067412  0.03099324]\n"
     ]
    }
   ],
   "source": [
    "x, y, dt, dx, dy, dc = r.x, r.y, r.dt, [s.dx for s in sources], \\\n",
    "                       [s.dy for s in sources] , [s.c - s.c_b for s in sources]\n",
    "\n",
    "print (\"True values :\")\n",
    "print('x = %.1fm    y = %.1fm    dt = %.1es' %(x, y, dt))\n",
    "print('dc = ', np.array(dc)[:,0])\n",
    "print('dx = ',np.array(dx)[:,0])\n",
    "print('dy = ',np.array(dy)[:,0])\n",
    "\n",
    "\n",
    "print (\"\\nEstimated values :\")\n",
    "print('x_hat=%.1fm    y_hat = %.1fm    dt_hat = %.1es' %(x_hat, y_hat, dt_hat))\n",
    "print('dc_hat = ',np.array(dc_hat))\n",
    "print('dx_hat = ',np.array(dx_hat))\n",
    "print('dy_hat = ',np.array(dy_hat))\n",
    "\n"
   ]
  },
  {
   "cell_type": "markdown",
   "metadata": {},
   "source": [
    "---\n",
    "\n",
    "### Test on sensibility to a priori uncertainty on celerity\n",
    "\n",
    "We keep initial celerity anomalies (true values). Uncertainty, true values and a priori values are not consistent anymore.\n"
   ]
  },
  {
   "cell_type": "code",
   "execution_count": 11,
   "metadata": {},
   "outputs": [],
   "source": [
    "# a priori uncertainty :\n",
    "for s in sources:\n",
    "    s.e_c = .1"
   ]
  },
  {
   "cell_type": "code",
   "execution_count": 12,
   "metadata": {},
   "outputs": [
    {
     "name": "stdout",
     "output_type": "stream",
     "text": [
      "source 1 : -31331801.8\n",
      "source 2 : -50974667.9\n",
      "source 3 : -6414067.7\n",
      "source 4 : 13249929.9\n",
      "Optimizer exited successfully : False\n",
      "Cause of the termination : Iteration limit exceeded\n",
      "\n",
      "True values :\n",
      "x = 0.0m    y = 2000.0m    dt = -7.1e-01s\n",
      "dc =  [-0.18826401  1.29580288  3.14349724  1.47946571]\n",
      "dx =  [6.0473497  4.19093285 9.83926701 0.75050899]\n",
      "dy =  [19.34350788 10.85344248 14.88914326  4.73974458]\n",
      "\n",
      "Estimated values :\n",
      "x_hat=998.7m    y_hat = 2.0m    dt_hat = -9.2e-03s\n",
      "dc_hat =  [-3.46565176 -6.80752465  0.55911471  6.77588024]\n",
      "dx_hat =  [-0.33523579  0.43860297 -0.07053498  1.28512024]\n",
      "dy_hat =  [-0.2793633  -0.54825374 -0.08816867 -1.07093338]\n"
     ]
    }
   ],
   "source": [
    "x_hat, y_hat, dt_hat, dx_hat, dy_hat, dc_hat, success, message = geolocalize(r, sources, disp=False)\n",
    "\n",
    "print (\"Optimizer exited successfully :\", success)\n",
    "print(\"Cause of the termination :\", message)\n",
    "\n",
    "print (\"\\nTrue values :\")\n",
    "print('x = %.1fm    y = %.1fm    dt = %.1es' %(x, y, dt))\n",
    "print('dc = ', np.array(dc)[:,0])\n",
    "print('dx = ',np.array(dx)[:,0])\n",
    "print('dy = ',np.array(dy)[:,0])\n",
    "\n",
    "\n",
    "print (\"\\nEstimated values :\")\n",
    "print('x_hat=%.1fm    y_hat = %.1fm    dt_hat = %.1es' %(x_hat, y_hat, dt_hat))\n",
    "print('dc_hat = ',np.array(dc_hat))\n",
    "print('dx_hat = ',np.array(dx_hat))\n",
    "print('dy_hat = ',np.array(dy_hat))"
   ]
  },
  {
   "cell_type": "markdown",
   "metadata": {},
   "source": [
    "---\n",
    "### Test on sensibility to a priori uncertainty on clock drift"
   ]
  },
  {
   "cell_type": "code",
   "execution_count": 19,
   "metadata": {
    "scrolled": true
   },
   "outputs": [],
   "source": [
    "# a priori uncertainty :\n",
    "for s in sources:\n",
    "    s.e_c = 10\n",
    "    s.e_dt = .01\n",
    "    "
   ]
  },
  {
   "cell_type": "code",
   "execution_count": 20,
   "metadata": {},
   "outputs": [
    {
     "name": "stdout",
     "output_type": "stream",
     "text": [
      "source 1 : 0.2\n",
      "source 2 : 0.2\n",
      "source 3 : 0.2\n",
      "source 4 : 0.1\n",
      "Optimizer exited successfully : False\n",
      "Cause of the termination : Iteration limit exceeded\n",
      "\n",
      "True values :\n",
      "x = 0.0m    y = 2000.0m    dt = -7.1e-01s\n",
      "dc =  [-0.18826401  1.29580288  3.14349724  1.47946571]\n",
      "dx =  [6.0473497  4.19093285 9.83926701 0.75050899]\n",
      "dy =  [19.34350788 10.85344248 14.88914326  4.73974458]\n",
      "\n",
      "Estimated values :\n",
      "x_hat=-4.4m    y_hat = 1988.0m    dt_hat = -7.0e-01s\n",
      "dc_hat =  [-0.07190015  0.06779528 -0.04453617  0.01000878]\n",
      "dx_hat =  [-0.00238845 -0.00097589  0.00070122  0.00015409]\n",
      "dy_hat =  [-0.00071989  0.00219271  0.0020785   0.0003974 ]\n"
     ]
    }
   ],
   "source": [
    "x_hat, y_hat, dt_hat, dx_hat, dy_hat, dc_hat, success, message = geolocalize(r, sources, disp=False)\n",
    "\n",
    "print (\"Optimizer exited successfully :\", success)\n",
    "print(\"Cause of the termination :\", message)\n",
    "\n",
    "print (\"\\nTrue values :\")\n",
    "print('x = %.1fm    y = %.1fm    dt = %.1es' %(x, y, dt))\n",
    "print('dc = ', np.array(dc)[:,0])\n",
    "print('dx = ',np.array(dx)[:,0])\n",
    "print('dy = ',np.array(dy)[:,0])\n",
    "\n",
    "\n",
    "print (\"\\nEstimated values :\")\n",
    "print('x_hat=%.1fm    y_hat = %.1fm    dt_hat = %.1es' %(x_hat, y_hat, dt_hat))\n",
    "print('dc_hat = ',np.array(dc_hat))\n",
    "print('dx_hat = ',np.array(dx_hat))\n",
    "print('dy_hat = ',np.array(dy_hat))"
   ]
  },
  {
   "cell_type": "code",
   "execution_count": null,
   "metadata": {},
   "outputs": [],
   "source": []
  },
  {
   "cell_type": "code",
   "execution_count": null,
   "metadata": {},
   "outputs": [],
   "source": []
  },
  {
   "cell_type": "code",
   "execution_count": null,
   "metadata": {},
   "outputs": [],
   "source": []
  }
 ],
 "metadata": {
  "kernelspec": {
   "display_name": "Python 3",
   "language": "python",
   "name": "python3"
  },
  "language_info": {
   "codemirror_mode": {
    "name": "ipython",
    "version": 3
   },
   "file_extension": ".py",
   "mimetype": "text/x-python",
   "name": "python",
   "nbconvert_exporter": "python",
   "pygments_lexer": "ipython3",
   "version": "3.6.5"
  }
 },
 "nbformat": 4,
 "nbformat_minor": 2
}
