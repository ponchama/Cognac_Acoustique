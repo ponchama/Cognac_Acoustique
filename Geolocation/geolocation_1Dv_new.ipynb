{
 "cells": [
  {
   "cell_type": "code",
   "execution_count": 1,
   "metadata": {},
   "outputs": [],
   "source": [
    "# this enable automatic reloading of libraries\n",
    "%load_ext autoreload\n",
    "%autoreload 2\n",
    "\n",
    "# import libraries\n",
    "import numpy as np\n",
    "import matplotlib.pyplot as plt\n",
    "from clib.geolocation_1Dv import *"
   ]
  },
  {
   "cell_type": "code",
   "execution_count": 2,
   "metadata": {},
   "outputs": [],
   "source": [
    "### création de la source (vitesse de 2.5 m/s)\n",
    "sources=[]\n",
    "sources.append(source( 0.e3, 0, v_x = 2.5))\n",
    "Ns = len(sources)\n",
    "\n",
    "### création du récepeur (vitesse de 10cm/s)\n",
    "r=receiver(5.e3, 0, e_x=10.e3, e_dt=0.005, v_x= 0.1)\n",
    "\n",
    "### initialisation du mapping\n",
    "pmap = xtmap(c_b=1500., e_t=0.007) "
   ]
  },
  {
   "cell_type": "code",
   "execution_count": 3,
   "metadata": {},
   "outputs": [
    {
     "name": "stdout",
     "output_type": "stream",
     "text": [
      "[   0.  120.  240.  360.  480.  600.  720.  840.  960. 1080. 1200. 1320.\n",
      " 1440. 1560. 1680. 1800. 1920. 2040. 2160. 2280. 2400. 2520. 2640. 2760.\n",
      " 2880. 3000. 3120. 3240. 3360. 3480.]\n"
     ]
    }
   ],
   "source": [
    "t_e = np.arange(0.,3600.,2.*60.)\n",
    "print(t_e)"
   ]
  },
  {
   "cell_type": "code",
   "execution_count": 4,
   "metadata": {},
   "outputs": [],
   "source": [
    "def simu (r, sources, Nmc, t_e, t_drift, pmap, x0=None, new_method=True) : \n",
    "    ''' It returns rms and bias on x position for one receiver position'''\n",
    "    x = np.zeros(Nmc)\n",
    "    v = np.zeros(Nmc)\n",
    "    dt = np.zeros(Nmc)\n",
    "    su = np.zeros (Nmc)\n",
    "    J = np.zeros(Nmc)\n",
    "    \n",
    "    for i in range(Nmc):\n",
    "            \n",
    "        _t = []\n",
    "        for t in t_e : \n",
    "            x_r, y_r = r.get_xy(t)\n",
    "            x_s, y_s = sources[0].get_xy(t)\n",
    "            rg = np.sqrt((x_r-x_s)**2 + (y_r - y_s)**2)\n",
    "            _t.append(t + pmap.draw_t(rg))\n",
    "\n",
    "        r.t_r_tilda = np.array(_t+r.dt).squeeze()\n",
    "        \n",
    "        if not new_method : \n",
    "            x[i], v[i], dt[i], success, message, res, J[i] = geolocalize_xtmap_1Dv(r, sources, t_e, pmap, \\\n",
    "                                                                             clock_drift=t_drift, \\\n",
    "                                                                            x0 = x0)    \n",
    "        else : \n",
    "\n",
    "            x1, v1, dt1, success1, message1, res1, J1 = geolocalize_xtmap_1Dv(r, sources, t_e, pmap, clock_drift=t_drift, \\\n",
    "                                                        x0 = np.array([sources[0].x_s - (r.t_r_tilda - t_e)[0]*1500.,0.,0.]))\n",
    "            x2,v2, dt2, success2, message2, res2, J2 = geolocalize_xtmap_1Dv(r, sources, t_e, pmap, clock_drift=t_drift, \\\n",
    "                                                        x0 = np.array([sources[0].x_s + (r.t_r_tilda - t_e)[0]*1500.,0.,0.]))\n",
    "            if J1 == J2 : \n",
    "                x[i], v[i], dt[i], success, message, res, J[i] = np.NaN, np.NaN, np.NaN, np.NaN, np.NaN, np.NaN, np.NaN\n",
    "            elif J1 < J2 : \n",
    "                x[i], v[i], dt[i], success, message, res, J[i] = x1, v1, dt1, success1, message1, res1, J1\n",
    "            else : \n",
    "                x[i], v[i], dt[i], success, message, res, J[i] = x2, v2, dt2, success2, message2, res2, J2\n",
    "\n",
    "        if success :\n",
    "            su[i] = 1 \n",
    "        elif message.find('iterations')!= -1 : \n",
    "            su[i] = 0\n",
    "            \n",
    "    # rms error on the receiver position\n",
    "    d_rms = np.sqrt( np.mean( (x[np.where(su==1)] - r.x)**2 ) )\n",
    "    # biais on the receiver position\n",
    "    bias_x = x[np.where(su==1)].mean()-r.x\n",
    "    return (d_rms, bias_x, su)\n"
   ]
  },
  {
   "cell_type": "code",
   "execution_count": 11,
   "metadata": {},
   "outputs": [],
   "source": [
    "Nmc = 100\n",
    "rms, bias, _ = simu (r, sources, Nmc, t_e, False, pmap, x0=None)"
   ]
  },
  {
   "cell_type": "code",
   "execution_count": 12,
   "metadata": {},
   "outputs": [
    {
     "data": {
      "text/plain": [
       "3.8110452679810822"
      ]
     },
     "execution_count": 12,
     "metadata": {},
     "output_type": "execute_result"
    }
   ],
   "source": [
    "rms"
   ]
  },
  {
   "cell_type": "code",
   "execution_count": 13,
   "metadata": {},
   "outputs": [],
   "source": [
    "rms, bias, _ = simu (r, sources, Nmc, t_e, True, pmap, x0=None)"
   ]
  },
  {
   "cell_type": "code",
   "execution_count": 14,
   "metadata": {},
   "outputs": [
    {
     "data": {
      "text/plain": [
       "60.95676998619303"
      ]
     },
     "execution_count": 14,
     "metadata": {},
     "output_type": "execute_result"
    }
   ],
   "source": [
    "rms"
   ]
  },
  {
   "cell_type": "code",
   "execution_count": 12,
   "metadata": {},
   "outputs": [],
   "source": [
    "Nmc = 100\n",
    "rms, bias, _ = simu (r, sources, Nmc, t_e, True, pmap, x0=None)"
   ]
  },
  {
   "cell_type": "code",
   "execution_count": 13,
   "metadata": {},
   "outputs": [
    {
     "data": {
      "text/plain": [
       "9.325215463761793"
      ]
     },
     "execution_count": 13,
     "metadata": {},
     "output_type": "execute_result"
    }
   ],
   "source": [
    "rms"
   ]
  },
  {
   "cell_type": "code",
   "execution_count": null,
   "metadata": {},
   "outputs": [],
   "source": [
    "###########################################################################\n",
    "########################## GRAPHES RAPPORT ################################\n",
    "###########################################################################"
   ]
  },
  {
   "cell_type": "code",
   "execution_count": 80,
   "metadata": {},
   "outputs": [],
   "source": [
    "Nmc=100"
   ]
  },
  {
   "cell_type": "code",
   "execution_count": 125,
   "metadata": {},
   "outputs": [],
   "source": [
    "dr = np.array([0.001,0.005,0.05,0.5])   # dérives d'horloges\n",
    "rms=np.zeros(len(dr))\n",
    "\n",
    "for i in range(len(dr)) : \n",
    "    r.draw_clock_drift(dr[i])\n",
    "    r.v_x = 0.\n",
    "    r.e_v = 0.01\n",
    "    rms[i], _, _ = simu (r, sources, Nmc, t_e, True, pmap, x0=None)\n",
    "    #print(r.dt, rms)"
   ]
  },
  {
   "cell_type": "code",
   "execution_count": 126,
   "metadata": {},
   "outputs": [
    {
     "data": {
      "image/png": "[encoded data removed]",
      "text/plain": [
       "<Figure size 432x288 with 1 Axes>"
      ]
     },
     "metadata": {},
     "output_type": "display_data"
    }
   ],
   "source": [
    "plt.plot(dr*1000., rms)\n",
    "plt.xlabel(\"dérive (ms)\", fontsize=14)\n",
    "plt.ylabel(\"erreur (m)\", fontsize=14)\n",
    "plt.xscale('log')\n"
   ]
  },
  {
   "cell_type": "code",
   "execution_count": 127,
   "metadata": {},
   "outputs": [],
   "source": [
    "rms2 = rms"
   ]
  },
  {
   "cell_type": "code",
   "execution_count": 128,
   "metadata": {},
   "outputs": [
    {
     "name": "stdout",
     "output_type": "stream",
     "text": [
      "1e-5 m/s  :  [1.90337226 1.93980036 1.88642101 1.66788882]\n",
      "1mm/s     :  [1.98711112 3.04568469 6.63421749 2.79045968]\n",
      "5mm/s     :  [  3.07044905   4.04884967 137.79380337 101.51420705]\n",
      "1cm/s     :  [  4.93825375   5.60971168  20.57358474 171.41998658]\n",
      "10cm/s    :  [  3.97109632   3.79896445  19.78646326 112.91213264]\n"
     ]
    }
   ],
   "source": [
    "### e_v = 1.e-5, 0.001, 0.005, 0.01, 0.1\n",
    "\n",
    "print(\"1e-5 m/s  : \", rms0)\n",
    "print(\"1mm/s     : \", rms1)\n",
    "print(\"5mm/s     : \", rms4)\n",
    "print(\"1cm/s     : \", rms2)\n",
    "print(\"10cm/s    : \", rms3)"
   ]
  },
  {
   "cell_type": "code",
   "execution_count": 129,
   "metadata": {},
   "outputs": [
    {
     "data": {
      "text/plain": [
       "<matplotlib.legend.Legend at 0x7f7d14d162e8>"
      ]
     },
     "execution_count": 129,
     "metadata": {},
     "output_type": "execute_result"
    },
    {
     "data": {
      "image/png": "[encoded data removed]",
      "text/plain": [
       "<Figure size 576x360 with 1 Axes>"
      ]
     },
     "metadata": {},
     "output_type": "display_data"
    }
   ],
   "source": [
    "plt.figure(figsize=(8,5))\n",
    "plt.plot(dr*1000., rms0 , label = 'v = 10^(-5) m/s',linewidth=2.)\n",
    "plt.plot(dr*1000., rms1, label = 'v = 1 mm/s', linewidth=2.)\n",
    "plt.plot(dr*1000., rms4, label = 'v = 5 mm/s',linewidth=2.)\n",
    "plt.plot(dr*1000., rms2, label = 'v = 1 cm/s',linewidth=2.)\n",
    "plt.plot(dr*1000., rms3, label = 'v = 10 cm/s',linewidth=2.)\n",
    "plt.xlabel(\"dérive (ms)\", fontsize=14)\n",
    "plt.ylabel(\"erreur (m)\", fontsize=14)\n",
    "plt.xscale('log')\n",
    "plt.grid()\n",
    "plt.legend(fontsize=13)"
   ]
  },
  {
   "cell_type": "code",
   "execution_count": null,
   "metadata": {},
   "outputs": [],
   "source": [
    "### Rajoouter des valeurs de dérive, par exemple : 1ms, 5ms, 10ms, 25ms, 50ms, 100ms, 250ms, 500ms"
   ]
  }
 ],
 "metadata": {
  "kernelspec": {
   "display_name": "Python 3",
   "language": "python",
   "name": "python3"
  },
  "language_info": {
   "codemirror_mode": {
    "name": "ipython",
    "version": 3
   },
   "file_extension": ".py",
   "mimetype": "text/x-python",
   "name": "python",
   "nbconvert_exporter": "python",
   "pygments_lexer": "ipython3",
   "version": "3.6.5"
  }
 },
 "nbformat": 4,
 "nbformat_minor": 2
}
