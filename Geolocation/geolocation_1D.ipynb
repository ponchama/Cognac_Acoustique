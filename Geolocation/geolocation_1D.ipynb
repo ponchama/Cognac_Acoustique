{
 "cells": [
  {
   "cell_type": "markdown",
   "metadata": {},
   "source": [
    "#  Geolocation\n",
    "\n",
    "- formulation of a solver.\n",
    "\n",
    "- statistical simulations in order to determine sources of uncertainty"
   ]
  },
  {
   "cell_type": "markdown",
   "metadata": {},
   "source": [
    "---\n",
    "\n",
    "# 1 - Formulation\n",
    "\n",
    "<img src='schematic.jpeg' alt='Drawing' align='right' style='width: 300px;'/>\n",
    "\n",
    "We want to find the float horizontal position $\\underline{x}$ of an underwater float \n",
    "given a number of **known variables**:\n",
    "- $\\underline{x}_s^i$ : source surface float horizontal position\n",
    "- $t_e^i$ : time of emission for source $i$\n",
    "- $\\tilde{t}_r^i$ : time of reception of the signal emitted by source $i$ by the underwater float\n",
    "- $\\epsilon_i$ : signal detection, $\\epsilon_i=1$ (detection) or $1$ (no detection)\n",
    "- $z$ : underwater float depth(perfect knowledge), not used for now\n",
    "\n",
    "'Perfect' knowledge is assumed for known variables wich amounts to say potential errors on there\n",
    "estimates may be neglected."
   ]
  },
  {
   "cell_type": "markdown",
   "metadata": {},
   "source": [
    "---\n",
    "**Unknown variables** are:\n",
    "- $\\underline{x}$ : underwater float position\n",
    "- $\\delta t$ : underwater float clock offset, $\\delta t = \\tilde{t}_r^i - t_r^i$, where \n",
    "$t_r^i$ is the true time of reception\n",
    "- $\\delta \\underline{x}^i$ : vector difference between source $i$ transducer position and surface float position, $\\delta \\underline{x}^i = \\underline{x}_t^i - \\underline{x}_s^i$\n",
    "- $\\delta t_p (\\underline{x},\\underline{x}_t^i)$ : difference between actual $(t_r^i - t_e^i)$ and an priori time $t_p(\\underline{x},\\underline{x}_t^i)$ of propagation between $\\underline{x}$ and $\\underline{x}_t^i$.\n",
    "\n",
    "For simplicity, we assume the assumed propagation time is a function of range only: $t_p(\\underline{x},\\underline{x}_t^i) = t_p(|| \\underline{x} - \\underline{x}_t^i ||)$.\n",
    "\n",
    "$t_p$ may for example be given by an a priori estimate of velocity ($c_b$) along with a measure of velocity uncertainty ($e_c$). In this case, we expect the error on time to grow with range according to: $e_{tp} \\propto || \\underline{x}_b - \\underline{x}_t^i || /e_c$, where $\\underline{x}_b$ is an a priori estimate for the float location.\n",
    "\n",
    "A priori standard deviations for $\\underline{x}$, $\\delta \\underline{x}^i$, $\\delta t_p  (\\underline{x},\\underline{x}_t^i)$ are\n",
    "assumed to be known and given by: $e_x$, $e_{\\delta x}$, $e_{tp}$.\n",
    "\n",
    "Background (a priori) estimates for $\\underline{x}$, $\\delta \\underline{x}^i$, $\\delta t_p (\\underline{x},\\underline{x}_t^i)$ may eventually be provided. We assume all are 0 for now except\n",
    "for the float position $\\underline{x}_b=(x=1km, y=0km)$.\n"
   ]
  },
  {
   "cell_type": "markdown",
   "metadata": {},
   "source": [
    "---\n",
    "The estimate of the underwater float position $\\underline{\\hat{x}}$ minimizes:\n",
    "\n",
    "$$\n",
    "\\begin{align*}\n",
    "J(\\mathbf{x}, \\delta t) &= \n",
    "||\\underline{x} - \\underline{x}_b||^2 /e_x^2 \n",
    "+ \\sum_i \\epsilon_i \\times  \\delta t (\\underline{x},\\underline{x}_t^i)^2 / e_{tp}^2 \\\\\n",
    "&= \n",
    "||\\underline{x} - \\underline{x}_b||^2 /e_x^2\n",
    "+ \\sum_i \\epsilon_i \\times \\big [ \\tilde{t}_r^i - \\delta t  - t_e^i  -  t_p(\\underline{x},\\underline{x}_t^i) \\big ]^2 / e_{tp}^2\n",
    "\\end{align*}\n",
    "$$\n",
    "\n",
    "We assume $\\epsilon_i=1$ in all examples below for simplicity.\n",
    "\n",
    "We have assumed simultaneous (working assumption) emission of sources.\n",
    "The underwater float velocity may be added as an extra variable (future addition)."
   ]
  },
  {
   "cell_type": "code",
   "execution_count": 1,
   "metadata": {},
   "outputs": [],
   "source": [
    "# this enable automatic reloading of libraries\n",
    "%load_ext autoreload\n",
    "%autoreload 2\n",
    "\n",
    "# import libraries\n",
    "import numpy as np\n",
    "import matplotlib.pyplot as plt\n",
    "\n",
    "from clib.geolocation_1D import *\n",
    "#from clib.geolocation import *"
   ]
  },
  {
   "cell_type": "markdown",
   "metadata": {},
   "source": [
    "---\n",
    "# 2 - Create an ensemble of sources"
   ]
  },
  {
   "cell_type": "code",
   "execution_count": 2,
   "metadata": {},
   "outputs": [
    {
     "data": {
      "image/png": "[encoded data removed]",
      "text/plain": [
       "<Figure size 576x216 with 1 Axes>"
      ]
     },
     "metadata": {},
     "output_type": "display_data"
    }
   ],
   "source": [
    "### create an ensemble of sources\n",
    "dx=40. *1.e3 # in meters\n",
    "sources=[]\n",
    "sources.append(source( dx*.5, 0))\n",
    "sources.append(source(-dx*.5, 0))\n",
    "\n",
    "\n",
    "\n",
    "Ns = len(sources)\n",
    "\n",
    "### init a receiver\n",
    "#r=receiver(0. *1.e3, 0. *1.e3, e_x=10.e3)\n",
    "r=receiver(-35. *1.e3, 0, e_x=10.e3, e_dt=0.)\n",
    "\n",
    "### init mapping\n",
    "pmap = xtmap(c_b=1500., e_c=0., e_t=None, e_min=1.e-3)  #e_min on time (Cramer-Rao)\n",
    "\n",
    "### plot\n",
    "plt.figure(figsize=(8,3))\n",
    "ax=plt.subplot(111)\n",
    "[s.plot() for s in sources]\n",
    "r.plot()\n",
    "plt.ylim([-2, 2])\n",
    "ax.grid()\n",
    "ax.set_aspect('equal')\n",
    "plt.xlabel('x [km]')\n",
    "plt.show()"
   ]
  },
  {
   "cell_type": "markdown",
   "metadata": {},
   "source": [
    "**- A priori uncertainties and estimates are :**"
   ]
  },
  {
   "cell_type": "code",
   "execution_count": 3,
   "metadata": {
    "scrolled": false
   },
   "outputs": [
    {
     "name": "stdout",
     "output_type": "stream",
     "text": [
      "e_c   = 0.0 m/s    (uncertainty on celerity)\n",
      "e_dx  = 10.0 m     (uncertainty on transducer position)\n",
      "e_x   = 10000.0 m  (uncertainty on underwater float position)\n"
     ]
    }
   ],
   "source": [
    "# a priori uncertainties : \n",
    "print(\"e_c   = %.1f m/s    (uncertainty on celerity)\" %pmap.e_c)\n",
    "# si e_c = 0 alors e_tp = e_min = 1.e-3 s\n",
    "print(\"e_dx  = %.1f m     (uncertainty on transducer position)\" %sources[0].e_dx)\n",
    "print(\"e_x   = %.1f m  (uncertainty on underwater float position)\" %r.e_x)"
   ]
  },
  {
   "cell_type": "markdown",
   "metadata": {},
   "source": [
    "**- The true underwater float position and clock offset are:**"
   ]
  },
  {
   "cell_type": "code",
   "execution_count": 4,
   "metadata": {},
   "outputs": [
    {
     "name": "stdout",
     "output_type": "stream",
     "text": [
      "x = -35000.0 m \n",
      "dt = 0.00e+00 s\n"
     ]
    }
   ],
   "source": [
    "print('x = %.1f m \\ndt = %.2e s' %(r.x, r.dt))"
   ]
  },
  {
   "cell_type": "markdown",
   "metadata": {},
   "source": [
    "**- Unchanged variables during simulations are : **"
   ]
  },
  {
   "cell_type": "code",
   "execution_count": 5,
   "metadata": {},
   "outputs": [
    {
     "name": "stdout",
     "output_type": "stream",
     "text": [
      "s.x_t : [array([20002.87740734]), array([-19993.55400541])]\n",
      "s.dx  : [array([2.87740734]), array([6.44599459])]\n"
     ]
    }
   ],
   "source": [
    "print(\"s.x_t :\", [s.x_t for s in sources])   # \n",
    "#print(\"s.y_t :\", [s.y_t for s in sources])\n",
    "print(\"s.dx  :\", [s.dx for s in sources])\n",
    "#print(\"s.dy  :\", [s.dy for s in sources])\n",
    "#print(\"r.dt  :\", r.dt)"
   ]
  },
  {
   "cell_type": "markdown",
   "metadata": {},
   "source": [
    "---\n",
    "---\n",
    "## A - One geolocalisation"
   ]
  },
  {
   "cell_type": "code",
   "execution_count": 6,
   "metadata": {},
   "outputs": [
    {
     "data": {
      "text/plain": [
       "array([36.667033  , 10.00214825])"
      ]
     },
     "execution_count": 6,
     "metadata": {},
     "output_type": "execute_result"
    }
   ],
   "source": [
    "r.t_r_tilda = np.array([s.t_e+pmap.draw_t(dist(s,r))+r.dt for s in sources]).squeeze()\n",
    "r.t_r_tilda"
   ]
  },
  {
   "cell_type": "code",
   "execution_count": 7,
   "metadata": {
    "scrolled": false
   },
   "outputs": [
    {
     "data": {
      "image/png": "[encoded data removed]",
      "text/plain": [
       "<Figure size 432x288 with 1 Axes>"
      ]
     },
     "metadata": {},
     "output_type": "display_data"
    }
   ],
   "source": [
    "#r.t_r_tilda = np.array([s.t_e+pmap.draw_t(dist(s,r))+r.dt for s in sources]).squeeze()\n",
    "x, dt, success, message, res = geolocalize_xtmap_1D(r, sources, pmap, clock_drift=False, plot_min=True)"
   ]
  },
  {
   "cell_type": "code",
   "execution_count": 8,
   "metadata": {
    "scrolled": true
   },
   "outputs": [
    {
     "name": "stdout",
     "output_type": "stream",
     "text": [
      "L'erreur sur la geolocalisation est de 1.89 m.\n"
     ]
    }
   ],
   "source": [
    "print (\"L'erreur sur la geolocalisation est de %.2f m.\" %(abs(r.x - x)))"
   ]
  },
  {
   "cell_type": "markdown",
   "metadata": {},
   "source": [
    "---\n",
    "---\n",
    "## B - Statistical simulations for one receiver position"
   ]
  },
  {
   "cell_type": "code",
   "execution_count": 9,
   "metadata": {
    "scrolled": true
   },
   "outputs": [
    {
     "name": "stdout",
     "output_type": "stream",
     "text": [
      "rms error : 1.1 m \n",
      "x bias    : -0.026 m \n"
     ]
    }
   ],
   "source": [
    "### minimization with adjusted a priori estimates\n",
    "Nmc = 1000\n",
    "x=np.zeros(Nmc)\n",
    "dt=np.zeros(Nmc)\n",
    "\n",
    "for i in range(Nmc):\n",
    "    # solve a first time\n",
    "    r.t_r_tilda = np.array([s.t_e+pmap.draw_t(dist(s,r))+r.dt for s in sources]).squeeze()\n",
    "    x[i], dt[i], success, message, res = geolocalize_xtmap_1D(r, sources, pmap, clock_drift=False)\n",
    "    # rerun with adjusted expected errors on propagation time\n",
    "    for j in range(1):\n",
    "        x[i], dt[i], success, message, res = geolocalize_xtmap_1D(r, sources, pmap, clock_drift=False, \\\n",
    "                                                                     x0=[x[i], dt[i]])\n",
    "\n",
    "d_rms = np.sqrt( np.mean( (x - r.x)**2 ) )\n",
    "bias_x = x.mean()-r.x\n",
    "print('rms error : %.1f m \\nx bias    : %.3f m ' %(d_rms, bias_x))"
   ]
  },
  {
   "cell_type": "code",
   "execution_count": 10,
   "metadata": {},
   "outputs": [
    {
     "data": {
      "image/png": "[encoded data removed]",
      "text/plain": [
       "<Figure size 432x288 with 1 Axes>"
      ]
     },
     "metadata": {},
     "output_type": "display_data"
    }
   ],
   "source": [
    "plt.figure()\n",
    "ax=plt.subplot(111)\n",
    "ax.plot(x,np.zeros(Nmc),'.', label='estimates')\n",
    "ax.plot(r.x,r.y,'*', color='limegreen', markersize=10, label='truth')\n",
    "ax.axis('equal')\n",
    "ax.grid()\n",
    "ax.legend()\n",
    "ax.set_xlabel('x [m]')\n",
    "ax.set_ylabel('y [m]')\n",
    "plt.show()"
   ]
  },
  {
   "cell_type": "markdown",
   "metadata": {},
   "source": [
    "---\n",
    "# 4 - Transects "
   ]
  },
  {
   "cell_type": "markdown",
   "metadata": {},
   "source": [
    "**- Function \"simu\" : simulations for one receiver position ; returns rms and bias.  **"
   ]
  },
  {
   "cell_type": "code",
   "execution_count": 11,
   "metadata": {},
   "outputs": [],
   "source": [
    "def simu (r, sources, Nmc, var) : \n",
    "    ''' It returns rms and bias on x position for one receiver position'''\n",
    "    x=np.zeros(Nmc)\n",
    "    y=np.zeros(Nmc)\n",
    "    dt=np.zeros(Nmc)\n",
    "    su = np.zeros (Nmc)\n",
    "    \n",
    "    for i in range(Nmc):\n",
    "        \n",
    "        if var == 'celerity' : \n",
    "            [s.draw_celerity(s.e_c) for s in sources]\n",
    "        if var == 'dxdy' : \n",
    "            [s.draw_dxdy(10.) for s in sources]\n",
    "        if var == 'clock' : \n",
    "            r.draw_clock_drift()\n",
    "            #dt_truth[i] = r.dt    \n",
    "        \n",
    "        # solve a first time\n",
    "        r.t_r_tilda = np.array([s.t_e+pmap.draw_t(dist(s,r))+r.dt for s in sources]).squeeze()\n",
    "        x[i], dt[i], success, message, res = geolocalize_xtmap_1D(r, sources, pmap, clock_drift=False)\n",
    "        # rerun with adjusted expected errors on propagation time\n",
    "        for j in range(1):\n",
    "            x[i], dt[i], success, message, res = geolocalize_xtmap_1D(r, sources, pmap, \\\n",
    "                                                                         clock_drift=False, \\\n",
    "                                                                         x0=[x[i],y[i], dt[i]])\n",
    "        if success :\n",
    "            su[i] = 1 \n",
    "        elif message.find('iterations')!= -1 : \n",
    "            # \"Warning: Maximum number of iterations has been exceeded.\"\n",
    "            su[i] = -1\n",
    "        elif message.find('precision loss')!= -1 :\n",
    "            #Warning: Desired error not necessarily achieved due to precision loss.\n",
    "            su[i] = -2\n",
    "        else : \n",
    "            su[i] = -3\n",
    "    \n",
    "    \n",
    "    # rms error on the receiver position\n",
    "    d_rms = np.sqrt( np.mean( (x[np.where(su==1)] - r.x)**2 ) )\n",
    "    # biais on the receiver position\n",
    "    bias_x = x[np.where(su==1)].mean()-r.x\n",
    "    bias_y = y[np.where(su==1)].mean()-r.y\n",
    "    #print('x[np.where(su==1)].mean() :' , x[np.where(su==1)].mean())\n",
    "    #print('r.x : ', r.x)\n",
    "    return (d_rms, bias_x, su)\n",
    "\n",
    "\n"
   ]
  },
  {
   "cell_type": "markdown",
   "metadata": {},
   "source": [
    "**- Calculation and plot functions for transects : **"
   ]
  },
  {
   "cell_type": "code",
   "execution_count": 12,
   "metadata": {},
   "outputs": [],
   "source": [
    "from ipywidgets import FloatProgress\n",
    "from IPython.display import display\n",
    "\n",
    "\n",
    "def transect (sources, X, Y, Nmc, var) :\n",
    "    RMS_t = np.zeros((len(X)))\n",
    "    BiasX_t = np.zeros((len(X)))\n",
    "    Success_t = np.zeros((Nmc, len(X)))\n",
    "    \n",
    "    f = FloatProgress(value = 0., min=0., max=100., step=1., orientation='horizontal', description = 'Loading :')\n",
    "    display(f)\n",
    "    \n",
    "    for i in range (len(X)) :\n",
    "        \n",
    "        f.value = i/len(X)*100.\n",
    "\n",
    "        # init a receiver\n",
    "        r = receiver(X[i], Y)\n",
    "        r.dt = 1. # unchanged variable during simulations \n",
    "        #\n",
    "        d_rms, bias_x, su = simu (r, sources, Nmc, var = var)\n",
    "\n",
    "        RMS_t[i]       = d_rms\n",
    "        BiasX_t[i]     = bias_x\n",
    "        Success_t[:,i] = su\n",
    "\n",
    "    f.value = 100.\n",
    "    \n",
    "    return RMS_t, BiasX_t, Success_t\n",
    "\n",
    "\n",
    "def plot_transect (sources, X, Y, RMS_t, Biais_t):\n",
    "    print('mean (rms) = %.1fm  /// max (rms) = %.1f m' % (np.mean(RMS_t), np.max(RMS_t)))\n",
    "    print('mean (bias) = %.1fm /// max (bias) = %.1f m' % (np.mean(Biais_t), np.max(Biais_t)))\n",
    "    plt.figure(figsize=(17,4))\n",
    "    # plot sources \n",
    "    ax=plt.subplot(131)\n",
    "    [s.plot() for s in sources]\n",
    "    plt.title ('sources and transect')\n",
    "    plt.xlabel('x [km]')\n",
    "    plt.ylabel('y [km]')\n",
    "    ax.grid()\n",
    "    #ax.set_xlim([np.min(X)/1000.,np.max(X)/1000.])\n",
    "    ax.set_ylim([-abs(sources[0].y_s)/1000. - 5., abs(sources[0].y_s)/1000. + 5.])\n",
    "    ax.set_aspect('equal')\n",
    "    plt.plot([np.min(X)/1000.,np.max(X)/1000.],[Y/1000.,Y/1000.],'.-b')\n",
    "\n",
    "    ## plot rms result\n",
    "    ax2 = plt.subplot(132)\n",
    "    ax2.grid()\n",
    "    plt.plot(X/1.e3, RMS_t, '.') \n",
    "    plt.xlabel('x [km]')\n",
    "    plt.ylabel('RMS [m]')\n",
    "    plt.title('RMS error' )\n",
    "    \n",
    "    ## plot bias\n",
    "    ax3  = plt.subplot(133)\n",
    "    ax3.grid()\n",
    "    plt.plot(X/1.e3, Biais_t, '.')\n",
    "    plt.xlabel('x [km]')\n",
    "    plt.ylabel('Bias [m]')\n",
    "    plt.title('Bias on x ' )\n",
    "    \n",
    "    plt.show()\n",
    "    "
   ]
  },
  {
   "cell_type": "markdown",
   "metadata": {},
   "source": [
    "**- Creation of a transect : **"
   ]
  },
  {
   "cell_type": "code",
   "execution_count": 13,
   "metadata": {},
   "outputs": [],
   "source": [
    "L = 100.* 1.e3\n",
    "X = np.linspace(-L/2.,L/2.,100)  # resolution : 1km\n",
    "Y = 0. "
   ]
  },
  {
   "cell_type": "markdown",
   "metadata": {},
   "source": [
    "**- Calculations and plots : **"
   ]
  },
  {
   "cell_type": "code",
   "execution_count": 14,
   "metadata": {
    "scrolled": false
   },
   "outputs": [
    {
     "data": {
      "application/vnd.jupyter.widget-view+json": {
       "model_id": "12f7cb5ab02e4c70b07f12b9095a308c",
       "version_major": 2,
       "version_minor": 0
      },
      "text/plain": [
       "FloatProgress(value=0.0, description='Loading :')"
      ]
     },
     "metadata": {},
     "output_type": "display_data"
    }
   ],
   "source": [
    "Nmc = 100          # number of simulations\n",
    "var = 'celerity'   # only celerity is varying\n",
    "RMS_t, BiasX_t, Success_t = transect (sources, X, Y, Nmc, var)"
   ]
  },
  {
   "cell_type": "code",
   "execution_count": 15,
   "metadata": {
    "scrolled": false
   },
   "outputs": [
    {
     "name": "stdout",
     "output_type": "stream",
     "text": [
      "mean (rms) = 1.1m  /// max (rms) = 1.3 m\n",
      "mean (bias) = 0.0m /// max (bias) = 0.3 m\n"
     ]
    },
    {
     "data": {
      "image/png": "[encoded data removed]",
      "text/plain": [
       "<Figure size 1224x288 with 3 Axes>"
      ]
     },
     "metadata": {},
     "output_type": "display_data"
    }
   ],
   "source": [
    "plot_transect(sources, X, Y, RMS_t, BiasX_t)"
   ]
  },
  {
   "cell_type": "markdown",
   "metadata": {},
   "source": [
    "---\n",
    "---\n",
    "---\n",
    "Au dessus, l'erreur sur la célérité était considérée comme nulle et la seule erreur prise en compte était de 1.e-3s (erreur sur la détection du temps d'arrivée). \n",
    "\n",
    "Maintenant, on augmente l'erreur sur le temps d'arrivée (dû à une détection du mauvais rayon ou autre...). D'après les calculs de célérité équivalente (en Méditerrannée), on a un ecart-type sur la distance de 70m environ. Cela correspond à un cart type sur les temps d'arrivée de 0.045s.\n",
    "\n",
    "---\n",
    "---\n",
    "---"
   ]
  },
  {
   "cell_type": "markdown",
   "metadata": {},
   "source": [
    "### Avec une erreur sur le temps d'arrivée de 10 ms "
   ]
  },
  {
   "cell_type": "code",
   "execution_count": 16,
   "metadata": {},
   "outputs": [],
   "source": [
    "### init mapping\n",
    "pmap = xtmap(c_b=1500., e_c=0., e_t=1.e-2, e_min=1.e-3)  #e_min on time (Cramer-Rao)"
   ]
  },
  {
   "cell_type": "code",
   "execution_count": 17,
   "metadata": {},
   "outputs": [
    {
     "data": {
      "text/plain": [
       "array([36.66520547, 10.01263026])"
      ]
     },
     "execution_count": 17,
     "metadata": {},
     "output_type": "execute_result"
    }
   ],
   "source": [
    "r.t_r_tilda = np.array([s.t_e+pmap.draw_t(dist(s,r))+r.dt for s in sources]).squeeze()\n",
    "r.t_r_tilda"
   ]
  },
  {
   "cell_type": "code",
   "execution_count": 18,
   "metadata": {},
   "outputs": [
    {
     "data": {
      "application/vnd.jupyter.widget-view+json": {
       "model_id": "2082f998ecd24cbabc494fee07172692",
       "version_major": 2,
       "version_minor": 0
      },
      "text/plain": [
       "FloatProgress(value=0.0, description='Loading :')"
      ]
     },
     "metadata": {},
     "output_type": "display_data"
    }
   ],
   "source": [
    "Nmc = 100          # number of simulations\n",
    "var = 'celerity'   # only celerity is varying\n",
    "RMS_t, BiasX_t, Success_t = transect (sources, X, Y, Nmc, var)"
   ]
  },
  {
   "cell_type": "code",
   "execution_count": 19,
   "metadata": {},
   "outputs": [
    {
     "name": "stdout",
     "output_type": "stream",
     "text": [
      "mean (rms) = 10.5m  /// max (rms) = 12.1 m\n",
      "mean (bias) = -0.1m /// max (bias) = 2.3 m\n"
     ]
    },
    {
     "data": {
      "image/png": "[encoded data removed]",
      "text/plain": [
       "<Figure size 1224x288 with 3 Axes>"
      ]
     },
     "metadata": {},
     "output_type": "display_data"
    }
   ],
   "source": [
    "plot_transect(sources, X, Y, RMS_t, BiasX_t)"
   ]
  },
  {
   "cell_type": "markdown",
   "metadata": {},
   "source": [
    "---\n",
    "---\n",
    "### Avec une erreur sur le temps d'arrivée de 100 ms "
   ]
  },
  {
   "cell_type": "code",
   "execution_count": 20,
   "metadata": {},
   "outputs": [],
   "source": [
    "### init mapping\n",
    "pmap = xtmap(c_b=1500., e_c=0., e_t=1.e-1, e_min=1.e-3)  #e_min on time (Cramer-Rao)"
   ]
  },
  {
   "cell_type": "code",
   "execution_count": 21,
   "metadata": {},
   "outputs": [
    {
     "data": {
      "application/vnd.jupyter.widget-view+json": {
       "model_id": "385fedb25d9946ac951f56578f0b14e7",
       "version_major": 2,
       "version_minor": 0
      },
      "text/plain": [
       "FloatProgress(value=0.0, description='Loading :')"
      ]
     },
     "metadata": {},
     "output_type": "display_data"
    }
   ],
   "source": [
    "Nmc = 100          # number of simulations\n",
    "var = 'celerity'   # only celerity is varying\n",
    "RMS_t, BiasX_t, Success_t = transect (sources, X, Y, Nmc, var)"
   ]
  },
  {
   "cell_type": "code",
   "execution_count": 22,
   "metadata": {},
   "outputs": [
    {
     "name": "stdout",
     "output_type": "stream",
     "text": [
      "mean (rms) = 105.7m  /// max (rms) = 129.0 m\n",
      "mean (bias) = 1.4m /// max (bias) = 26.0 m\n"
     ]
    },
    {
     "data": {
      "image/png": "[encoded data removed]",
      "text/plain": [
       "<Figure size 1224x288 with 3 Axes>"
      ]
     },
     "metadata": {},
     "output_type": "display_data"
    }
   ],
   "source": [
    "plot_transect(sources, X, Y, RMS_t, BiasX_t)"
   ]
  },
  {
   "cell_type": "markdown",
   "metadata": {},
   "source": [
    "---\n",
    "---\n",
    "### En ajoutant 2 sources"
   ]
  },
  {
   "cell_type": "code",
   "execution_count": 23,
   "metadata": {},
   "outputs": [
    {
     "data": {
      "image/png": "[encoded data removed]",
      "text/plain": [
       "<Figure size 576x216 with 1 Axes>"
      ]
     },
     "metadata": {},
     "output_type": "display_data"
    }
   ],
   "source": [
    "### create an ensemble of sources\n",
    "dx=40. *1.e3 # in meters\n",
    "sources1=[]\n",
    "sources1.append(source( dx*.5, 0))\n",
    "sources1.append(source(-dx*.5, 0))\n",
    "sources1.append(source( dx, 0))\n",
    "sources1.append(source(-dx, 0))\n",
    "\n",
    "Ns = len(sources)\n",
    "\n",
    "### init a receiver\n",
    "#r=receiver(0. *1.e3, 0. *1.e3, e_x=10.e3)\n",
    "#r=receiver(-35. *1.e3, 0, e_x=10.e3, e_dt=0.)\n",
    "\n",
    "\n",
    "### plot\n",
    "plt.figure(figsize=(8,3))\n",
    "ax=plt.subplot(111)\n",
    "[s.plot() for s in sources1]\n",
    "#r.plot()\n",
    "plt.ylim([-5, 5])\n",
    "ax.grid()\n",
    "ax.set_aspect('equal')\n",
    "plt.xlabel('x [km]')\n",
    "plt.show()"
   ]
  },
  {
   "cell_type": "code",
   "execution_count": 24,
   "metadata": {},
   "outputs": [],
   "source": [
    "### init mapping  (we keep the one of previous section)\n",
    "#pmap = xtmap(c_b=1500., e_c=0., e_t=1.e-1, e_min=1.e-3)  #e_min on time (Cramer-Rao)"
   ]
  },
  {
   "cell_type": "code",
   "execution_count": 25,
   "metadata": {},
   "outputs": [
    {
     "data": {
      "application/vnd.jupyter.widget-view+json": {
       "model_id": "2c592bd286604b449fd1518e810319f8",
       "version_major": 2,
       "version_minor": 0
      },
      "text/plain": [
       "FloatProgress(value=0.0, description='Loading :')"
      ]
     },
     "metadata": {},
     "output_type": "display_data"
    }
   ],
   "source": [
    "Nmc = 100          # number of simulations\n",
    "var = 'celerity'   # only celerity is varying\n",
    "RMS_t, BiasX_t, Success_t = transect (sources1, X, Y, Nmc, var)"
   ]
  },
  {
   "cell_type": "code",
   "execution_count": 26,
   "metadata": {},
   "outputs": [
    {
     "name": "stdout",
     "output_type": "stream",
     "text": [
      "mean (rms) = 76.1m  /// max (rms) = 88.2 m\n",
      "mean (bias) = -0.8m /// max (bias) = 18.8 m\n"
     ]
    },
    {
     "data": {
      "image/png": "[encoded data removed]",
      "text/plain": [
       "<Figure size 1224x288 with 3 Axes>"
      ]
     },
     "metadata": {},
     "output_type": "display_data"
    }
   ],
   "source": [
    "plot_transect(sources1, X, Y, RMS_t, BiasX_t)"
   ]
  },
  {
   "cell_type": "markdown",
   "metadata": {},
   "source": [
    "---\n",
    "---\n",
    "### Avec une dérive d'horloge"
   ]
  },
  {
   "cell_type": "code",
   "execution_count": 27,
   "metadata": {},
   "outputs": [],
   "source": [
    "### prendre une valeur inférieure à 1s"
   ]
  },
  {
   "cell_type": "code",
   "execution_count": null,
   "metadata": {},
   "outputs": [],
   "source": []
  },
  {
   "cell_type": "code",
   "execution_count": null,
   "metadata": {},
   "outputs": [],
   "source": []
  },
  {
   "cell_type": "code",
   "execution_count": null,
   "metadata": {},
   "outputs": [],
   "source": []
  }
 ],
 "metadata": {
  "kernelspec": {
   "display_name": "Python 3",
   "language": "python",
   "name": "python3"
  },
  "language_info": {
   "codemirror_mode": {
    "name": "ipython",
    "version": 3
   },
   "file_extension": ".py",
   "mimetype": "text/x-python",
   "name": "python",
   "nbconvert_exporter": "python",
   "pygments_lexer": "ipython3",
   "version": "3.6.5"
  }
 },
 "nbformat": 4,
 "nbformat_minor": 2
}
