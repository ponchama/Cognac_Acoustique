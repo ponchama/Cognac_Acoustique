{
 "cells": [
  {
   "cell_type": "code",
   "execution_count": 1,
   "metadata": {},
   "outputs": [],
   "source": [
    "# this enable automatic reloading of libraries\n",
    "%load_ext autoreload\n",
    "%autoreload 2\n",
    "\n",
    "# import libraries\n",
    "import numpy as np\n",
    "import matplotlib.pyplot as plt\n",
    "from clib.geolocation_1D import *"
   ]
  },
  {
   "cell_type": "markdown",
   "metadata": {},
   "source": [
    "# 2 sources"
   ]
  },
  {
   "cell_type": "code",
   "execution_count": 2,
   "metadata": {},
   "outputs": [
    {
     "data": {
      "text/plain": [
       "Text(0.5,0,'x [km]')"
      ]
     },
     "execution_count": 2,
     "metadata": {},
     "output_type": "execute_result"
    },
    {
     "data": {
      "image/png": "[encoded data removed]",
      "text/plain": [
       "<Figure size 576x108 with 1 Axes>"
      ]
     },
     "metadata": {},
     "output_type": "display_data"
    }
   ],
   "source": [
    "### create an ensemble of sources\n",
    "dx=60. *1.e3 # in meters\n",
    "sources=[]\n",
    "sources.append(source( dx*.5, 0))\n",
    "sources.append(source(-dx*.5, 0))\n",
    "Ns2 = len(sources)\n",
    "\n",
    "### plot\n",
    "plt.figure(figsize=(8,1.5))\n",
    "ax=plt.subplot(111)\n",
    "[s.plot() for s in sources]\n",
    "plt.ylim([-3, 3])\n",
    "plt.xlim([-50,50])\n",
    "ax.grid()\n",
    "ax.set_aspect('equal')\n",
    "ax.get_yaxis().set_visible(False)\n",
    "plt.xlabel('x [km]')\n",
    "\n",
    "#plt.savefig('geoloc1D', dpi=100)"
   ]
  },
  {
   "cell_type": "markdown",
   "metadata": {},
   "source": [
    "# 3 sources"
   ]
  },
  {
   "cell_type": "code",
   "execution_count": 3,
   "metadata": {},
   "outputs": [
    {
     "data": {
      "text/plain": [
       "Text(0.5,0,'x [km]')"
      ]
     },
     "execution_count": 3,
     "metadata": {},
     "output_type": "execute_result"
    },
    {
     "data": {
      "image/png": "[encoded data removed]",
      "text/plain": [
       "<Figure size 576x108 with 1 Axes>"
      ]
     },
     "metadata": {},
     "output_type": "display_data"
    }
   ],
   "source": [
    "### create an ensemble of sources\n",
    "dx=60. *1.e3 # in meters\n",
    "sources3=[]\n",
    "sources3.append(source( dx*.5, 0))\n",
    "sources3.append(source( dx*0., 0))\n",
    "sources3.append(source(-dx*.5, 0))\n",
    "Ns3 = len(sources)\n",
    "\n",
    "\n",
    "### plot\n",
    "plt.figure(figsize=(8,1.5))\n",
    "ax=plt.subplot(111)\n",
    "[s.plot() for s in sources3]\n",
    "plt.ylim([-3, 3])\n",
    "plt.xlim([-50,50])\n",
    "ax.grid()\n",
    "ax.set_aspect('equal')\n",
    "ax.get_yaxis().set_visible(False)\n",
    "plt.xlabel('x [km]')\n",
    "\n",
    "#plt.savefig('geoloc1D', dpi=100)"
   ]
  },
  {
   "cell_type": "markdown",
   "metadata": {},
   "source": [
    "# 4 sources"
   ]
  },
  {
   "cell_type": "code",
   "execution_count": 4,
   "metadata": {},
   "outputs": [
    {
     "data": {
      "text/plain": [
       "Text(0.5,0,'x [km]')"
      ]
     },
     "execution_count": 4,
     "metadata": {},
     "output_type": "execute_result"
    },
    {
     "data": {
      "image/png": "[encoded data removed]",
      "text/plain": [
       "<Figure size 576x108 with 1 Axes>"
      ]
     },
     "metadata": {},
     "output_type": "display_data"
    }
   ],
   "source": [
    "### create an ensemble of sources\n",
    "dx=60. *1.e3 # in meters\n",
    "sources4=[]\n",
    "sources4.append(source(-dx*.5, 0))\n",
    "sources4.append(source(-dx/6, 0))\n",
    "sources4.append(source( dx/6, 0))\n",
    "sources4.append(source( dx*.5, 0))\n",
    "\n",
    "Ns4 = len(sources)\n",
    "\n",
    "\n",
    "### plot\n",
    "plt.figure(figsize=(8,1.5))\n",
    "ax=plt.subplot(111)\n",
    "[s.plot() for s in sources4]\n",
    "plt.ylim([-3, 3])\n",
    "plt.xlim([-50,50])\n",
    "ax.grid()\n",
    "ax.set_aspect('equal')\n",
    "ax.get_yaxis().set_visible(False)\n",
    "plt.xlabel('x [km]')\n",
    "\n",
    "#plt.savefig('geoloc1D', dpi=100)"
   ]
  },
  {
   "cell_type": "markdown",
   "metadata": {},
   "source": [
    "# 5 sources"
   ]
  },
  {
   "cell_type": "code",
   "execution_count": 5,
   "metadata": {},
   "outputs": [
    {
     "data": {
      "text/plain": [
       "Text(0.5,0,'x [km]')"
      ]
     },
     "execution_count": 5,
     "metadata": {},
     "output_type": "execute_result"
    },
    {
     "data": {
      "image/png": "[encoded data removed]",
      "text/plain": [
       "<Figure size 576x108 with 1 Axes>"
      ]
     },
     "metadata": {},
     "output_type": "display_data"
    }
   ],
   "source": [
    "### create an ensemble of sources\n",
    "dx=60. *1.e3 # in meters\n",
    "sources5=[]\n",
    "sources5.append(source(-dx*.5, 0))\n",
    "sources5.append(source(-dx/4, 0))\n",
    "sources5.append(source(-dx*0., 0))\n",
    "sources5.append(source( dx/4, 0))\n",
    "sources5.append(source( dx*.5, 0))\n",
    "\n",
    "Ns5 = len(sources)\n",
    "\n",
    "\n",
    "### plot\n",
    "plt.figure(figsize=(8,1.5))\n",
    "ax=plt.subplot(111)\n",
    "[s.plot() for s in sources5]\n",
    "plt.ylim([-3, 3])\n",
    "plt.xlim([-50,50])\n",
    "ax.grid()\n",
    "ax.set_aspect('equal')\n",
    "ax.get_yaxis().set_visible(False)\n",
    "plt.xlabel('x [km]')\n",
    "\n",
    "#plt.savefig('geoloc1D', dpi=100)"
   ]
  },
  {
   "cell_type": "markdown",
   "metadata": {},
   "source": [
    "# 6 sources"
   ]
  },
  {
   "cell_type": "code",
   "execution_count": 6,
   "metadata": {},
   "outputs": [
    {
     "data": {
      "text/plain": [
       "Text(0.5,0,'x [km]')"
      ]
     },
     "execution_count": 6,
     "metadata": {},
     "output_type": "execute_result"
    },
    {
     "data": {
      "image/png": "[encoded data removed]",
      "text/plain": [
       "<Figure size 576x108 with 1 Axes>"
      ]
     },
     "metadata": {},
     "output_type": "display_data"
    }
   ],
   "source": [
    "### create an ensemble of sources\n",
    "dx=60. *1.e3 # in meters\n",
    "sources6=[]\n",
    "sources6.append(source(-dx*.5, 0))\n",
    "sources6.append(source(-dx/3, 0))\n",
    "sources6.append(source(-dx/9., 0))\n",
    "sources6.append(source( dx/9., 0))\n",
    "sources6.append(source( dx/3, 0))\n",
    "sources6.append(source( dx*.5, 0))\n",
    "\n",
    "Ns6 = len(sources)\n",
    "\n",
    "\n",
    "### plot\n",
    "plt.figure(figsize=(8,1.5))\n",
    "ax=plt.subplot(111)\n",
    "[s.plot() for s in sources6]\n",
    "plt.ylim([-3, 3])\n",
    "plt.xlim([-50,50])\n",
    "ax.grid()\n",
    "ax.set_aspect('equal')\n",
    "ax.get_yaxis().set_visible(False)\n",
    "plt.xlabel('x [km]')\n",
    "\n",
    "#plt.savefig('geoloc1D', dpi=100)"
   ]
  },
  {
   "cell_type": "markdown",
   "metadata": {},
   "source": [
    "---\n",
    "---\n",
    "---\n",
    "# Fonctions de Calculs"
   ]
  },
  {
   "cell_type": "code",
   "execution_count": 7,
   "metadata": {},
   "outputs": [],
   "source": [
    "def simu (r, sources, Nmc, var, t_drift) : \n",
    "    ''' It returns rms and bias on x position for one receiver position'''\n",
    "    x=np.zeros(Nmc)\n",
    "    y=np.zeros(Nmc)\n",
    "    dt=np.zeros(Nmc)\n",
    "    su = np.zeros (Nmc)\n",
    "    \n",
    "    for i in range(Nmc):\n",
    "        \n",
    "        if var == 'celerity' : \n",
    "            [s.draw_celerity(s.e_c) for s in sources]\n",
    "        if var == 'dxdy' : \n",
    "            [s.draw_dxdy(10.) for s in sources]\n",
    "        if var == 'clock' : \n",
    "            r.draw_clock_drift()\n",
    "            #dt_truth[i] = r.dt    \n",
    "        \n",
    "        # solve a first time\n",
    "        r.t_r_tilda = np.array([s.t_e+pmap.draw_t(dist(s,r))+r.dt for s in sources]).squeeze()\n",
    "        x[i], dt[i], success, message, res = geolocalize_xtmap_1D(r, sources, pmap, clock_drift=t_drift)\n",
    "        # rerun with adjusted expected errors on propagation time\n",
    "        for j in range(1):\n",
    "            x[i], dt[i], success, message, res = geolocalize_xtmap_1D(r, sources, pmap, \\\n",
    "                                                                         clock_drift=t_drift, \\\n",
    "                                                                         x0=[x[i], dt[i]])\n",
    "        if success :\n",
    "            su[i] = 1 \n",
    "        elif message.find('iterations')!= -1 : \n",
    "            # \"Warning: Maximum number of iterations has been exceeded.\"\n",
    "            su[i] = -1\n",
    "        elif message.find('precision loss')!= -1 :\n",
    "            #Warning: Desired error not necessarily achieved due to precision loss.\n",
    "            su[i] = -2\n",
    "        else : \n",
    "            su[i] = -3\n",
    "    \n",
    "    \n",
    "    # rms error on the receiver position\n",
    "    d_rms = np.sqrt( np.mean( (x[np.where(su==1)] - r.x)**2 ) )\n",
    "    # biais on the receiver position\n",
    "    bias_x = x[np.where(su==1)].mean()-r.x\n",
    "    bias_y = y[np.where(su==1)].mean()-r.y\n",
    "    #print('x[np.where(su==1)].mean() :' , x[np.where(su==1)].mean())\n",
    "    #print('r.x : ', r.x)\n",
    "    return (d_rms, bias_x, su)\n",
    "\n"
   ]
  },
  {
   "cell_type": "code",
   "execution_count": 8,
   "metadata": {},
   "outputs": [],
   "source": [
    "from ipywidgets import FloatProgress\n",
    "from IPython.display import display\n",
    "\n",
    "\n",
    "def transect (sources, X, Y, Nmc, var, clock_drift = False, e_dt=0.01) :\n",
    "    RMS_t = np.zeros((len(X)))\n",
    "    BiasX_t = np.zeros((len(X)))\n",
    "    Success_t = np.zeros((Nmc, len(X)))\n",
    "    \n",
    "    r = receiver(X[0], Y, e_dt=e_dt)\n",
    "    r_dt = r.dt\n",
    "    \n",
    "    f = FloatProgress(value = 0., min=0., max=100., step=1., orientation='horizontal', description = 'Loading :')\n",
    "    display(f)\n",
    "    \n",
    "    for i in range (len(X)) :\n",
    "        \n",
    "        f.value = i/len(X)*100.\n",
    "\n",
    "        # init a receiver\n",
    "        r = receiver(X[i], Y, e_dt=e_dt)\n",
    "        #r.dt = r_dt # unchanged variable during simulations \n",
    "        #\n",
    "        d_rms, bias_x, su = simu (r, sources, Nmc, var = var, t_drift = clock_drift)\n",
    "\n",
    "        RMS_t[i]       = d_rms\n",
    "        BiasX_t[i]     = bias_x\n",
    "        Success_t[:,i] = su\n",
    "\n",
    "    f.value = 100.\n",
    "    \n",
    "    return RMS_t, BiasX_t, Success_t\n",
    "\n",
    "\n",
    "def plot_transect (sources, X, Y, RMS_t, Biais_t):\n",
    "    print('mean (rms) = %.1fm  /// max (rms) = %.1f m' % (np.mean(RMS_t), np.max(RMS_t)))\n",
    "    print('mean (bias) = %.1fm /// max (bias) = %.1f m' % (np.mean(Biais_t), np.max(Biais_t)))\n",
    "    plt.figure(figsize=(17,4))\n",
    "    # plot sources \n",
    "    ax=plt.subplot(131)\n",
    "    [s.plot() for s in sources]\n",
    "    plt.title ('sources and transect')\n",
    "    plt.xlabel('x [km]')\n",
    "    plt.ylabel('y [km]')\n",
    "    ax.grid()\n",
    "    #ax.set_xlim([np.min(X)/1000.,np.max(X)/1000.])\n",
    "    ax.set_ylim([-abs(sources[0].y_s)/1000. - 5., abs(sources[0].y_s)/1000. + 5.])\n",
    "    ax.set_aspect('equal')\n",
    "    plt.plot([np.min(X)/1000.,np.max(X)/1000.],[Y/1000.,Y/1000.],'.-b')\n",
    "\n",
    "    ## plot rms result\n",
    "    ax2 = plt.subplot(132)\n",
    "    ax2.grid()\n",
    "    plt.plot(X/1.e3, RMS_t, '.') \n",
    "    plt.xlabel('x [km]')\n",
    "    plt.ylabel('RMS [m]')\n",
    "    plt.title('RMS error' )\n",
    "    \n",
    "    ## plot bias\n",
    "    ax3  = plt.subplot(133)\n",
    "    ax3.grid()\n",
    "    plt.plot(X/1.e3, Biais_t, '.')\n",
    "    plt.xlabel('x [km]')\n",
    "    plt.ylabel('Bias [m]')\n",
    "    plt.title('Bias on x ' )\n",
    "    \n",
    "    plt.show()\n",
    "    "
   ]
  },
  {
   "cell_type": "markdown",
   "metadata": {},
   "source": [
    "---\n",
    "---\n",
    "# Calculs des RMS sur transect"
   ]
  },
  {
   "cell_type": "code",
   "execution_count": 9,
   "metadata": {},
   "outputs": [],
   "source": [
    "### init a receiver\n",
    "r=receiver(-35. *1.e3, 0, e_x=10.e3, e_dt=0.)\n",
    "### init mapping\n",
    "pmap = xtmap(c_b=1500., e_c=0., e_t=None, e_min=1.e-3)  #e_min on time (Cramer-Rao)"
   ]
  },
  {
   "cell_type": "code",
   "execution_count": 10,
   "metadata": {},
   "outputs": [],
   "source": [
    "L = 120.* 1.e3\n",
    "X = np.linspace(-L/2.,L/2.,121)  # resolution : 1km\n",
    "Y = 0. "
   ]
  },
  {
   "cell_type": "code",
   "execution_count": 11,
   "metadata": {},
   "outputs": [
    {
     "data": {
      "application/vnd.jupyter.widget-view+json": {
       "model_id": "4fd4bd505afa4e3a95048284bf4c2206",
       "version_major": 2,
       "version_minor": 0
      },
      "text/plain": [
       "FloatProgress(value=0.0, description='Loading :')"
      ]
     },
     "metadata": {},
     "output_type": "display_data"
    }
   ],
   "source": [
    "Nmc = 100          # number of simulations\n",
    "var = 'celerity'   # only celerity is varying\n",
    "RMS_t2, BiasX_t2, Success_t2 = transect (sources, X, Y, Nmc, var, \\\n",
    "                                      clock_drift = False)"
   ]
  },
  {
   "cell_type": "code",
   "execution_count": 12,
   "metadata": {},
   "outputs": [
    {
     "data": {
      "application/vnd.jupyter.widget-view+json": {
       "model_id": "b43967ed0d904c88a2eec125607fb25a",
       "version_major": 2,
       "version_minor": 0
      },
      "text/plain": [
       "FloatProgress(value=0.0, description='Loading :')"
      ]
     },
     "metadata": {},
     "output_type": "display_data"
    }
   ],
   "source": [
    "Nmc = 100          # number of simulations\n",
    "var = 'celerity'   # only celerity is varying\n",
    "RMS_t3, BiasX_t3, Success_t3 = transect (sources3, X, Y, Nmc, var, \\\n",
    "                                      clock_drift = False)"
   ]
  },
  {
   "cell_type": "code",
   "execution_count": 13,
   "metadata": {
    "scrolled": true
   },
   "outputs": [
    {
     "data": {
      "application/vnd.jupyter.widget-view+json": {
       "model_id": "94c9361b7c7b4f9f819a9dfd51e98a43",
       "version_major": 2,
       "version_minor": 0
      },
      "text/plain": [
       "FloatProgress(value=0.0, description='Loading :')"
      ]
     },
     "metadata": {},
     "output_type": "display_data"
    }
   ],
   "source": [
    "Nmc = 100          # number of simulations\n",
    "var = 'celerity'   # only celerity is varying\n",
    "RMS_t4, BiasX_t4, Success_t4 = transect (sources4, X, Y, Nmc, var, \\\n",
    "                                      clock_drift = False)"
   ]
  },
  {
   "cell_type": "code",
   "execution_count": 14,
   "metadata": {},
   "outputs": [
    {
     "data": {
      "application/vnd.jupyter.widget-view+json": {
       "model_id": "792a96d81a5a42f2b678a0bea16ba608",
       "version_major": 2,
       "version_minor": 0
      },
      "text/plain": [
       "FloatProgress(value=0.0, description='Loading :')"
      ]
     },
     "metadata": {},
     "output_type": "display_data"
    }
   ],
   "source": [
    "Nmc = 100          # number of simulations\n",
    "var = 'celerity'   # only celerity is varying\n",
    "RMS_t5, BiasX_t5, Success_t5 = transect (sources5, X, Y, Nmc, var, \\\n",
    "                                      clock_drift = False)"
   ]
  },
  {
   "cell_type": "code",
   "execution_count": 15,
   "metadata": {},
   "outputs": [
    {
     "data": {
      "application/vnd.jupyter.widget-view+json": {
       "model_id": "38fee240fa5846febb241380c85cb10b",
       "version_major": 2,
       "version_minor": 0
      },
      "text/plain": [
       "FloatProgress(value=0.0, description='Loading :')"
      ]
     },
     "metadata": {},
     "output_type": "display_data"
    }
   ],
   "source": [
    "Nmc = 100          # number of simulations\n",
    "var = 'celerity'   # only celerity is varying\n",
    "RMS_t6, BiasX_t6, Success_t6 = transect (sources6, X, Y, Nmc, var, \\\n",
    "                                      clock_drift = False)"
   ]
  },
  {
   "cell_type": "code",
   "execution_count": 19,
   "metadata": {},
   "outputs": [
    {
     "name": "stdout",
     "output_type": "stream",
     "text": [
      "RMS 2 sources :  1.0650204153021288\n",
      "RMS 3 sources :  0.8570431917614935\n",
      "RMS 4 sources :  0.745515398324802\n",
      "RMS 5 sources :  0.6724691073830956\n",
      "RMS 6 sources :  0.6077021221758122\n"
     ]
    }
   ],
   "source": [
    "### Sans dérive\n",
    "print('RMS 2 sources : ', np.mean(RMS_t2))\n",
    "print('RMS 3 sources : ', np.mean(RMS_t3[1:]))\n",
    "print('RMS 4 sources : ', np.mean(RMS_t4))\n",
    "print('RMS 5 sources : ', np.mean(RMS_t5))\n",
    "print('RMS 6 sources : ', np.mean(RMS_t6))"
   ]
  },
  {
   "cell_type": "code",
   "execution_count": 80,
   "metadata": {},
   "outputs": [
    {
     "name": "stdout",
     "output_type": "stream",
     "text": [
      "RMS 2 sources :  1.0518980063851389\n",
      "RMS 3 sources :  0.8613114000333876\n",
      "RMS 4 sources :  0.7497301724961143\n",
      "RMS 5 sources :  0.669007678726451\n",
      "RMS 6 sources :  0.6076429080027064\n"
     ]
    }
   ],
   "source": [
    "### Sans dérive\n",
    "print('RMS 2 sources : ', np.mean(RMS_t2))\n",
    "print('RMS 3 sources : ', np.mean(RMS_t3))\n",
    "print('RMS 4 sources : ', np.mean(RMS_t4))\n",
    "print('RMS 5 sources : ', np.mean(RMS_t5))\n",
    "print('RMS 6 sources : ', np.mean(RMS_t6))\n"
   ]
  },
  {
   "cell_type": "code",
   "execution_count": 20,
   "metadata": {},
   "outputs": [],
   "source": [
    "xx = np.array([2., 3., 4., 5.,6.])\n",
    "XX = 1/np.sqrt(xx)\n",
    "YY = np.array([np.mean(RMS_t2), np.mean(RMS_t3[1:]), \\\n",
    "               np.mean(RMS_t4), np.mean(RMS_t5), np.mean(RMS_t6)])"
   ]
  },
  {
   "cell_type": "code",
   "execution_count": 21,
   "metadata": {},
   "outputs": [
    {
     "data": {
      "image/png": "[encoded data removed]",
      "text/plain": [
       "<Figure size 576x360 with 1 Axes>"
      ]
     },
     "metadata": {},
     "output_type": "display_data"
    }
   ],
   "source": [
    "plt.figure(figsize=(8,5))\n",
    "plt.plot(XX,YY,'rx')\n",
    "res = np.polyfit(XX,YY,1)\n",
    "plt.plot(XX,res[0]*XX+res[1],'b')\n",
    "plt.xlabel('1 / sqrt(nombre de sources)', fontsize=14)\n",
    "plt.ylabel('RMS (m)', fontsize=14)\n",
    "plt.title ('Lien entre RMS et nombre de sources', fontsize=16)\n",
    "plt.grid()\n",
    "\n",
    "plt.savefig('nbre_sources', dpi=100)"
   ]
  },
  {
   "cell_type": "markdown",
   "metadata": {},
   "source": [
    "---\n",
    "---\n",
    "# Avec dérive"
   ]
  },
  {
   "cell_type": "code",
   "execution_count": 91,
   "metadata": {
    "scrolled": true
   },
   "outputs": [
    {
     "data": {
      "application/vnd.jupyter.widget-view+json": {
       "model_id": "a8b9f6a09c9143e99f5b48dcca605822",
       "version_major": 2,
       "version_minor": 0
      },
      "text/plain": [
       "FloatProgress(value=0.0, description='Loading :')"
      ]
     },
     "metadata": {},
     "output_type": "display_data"
    },
    {
     "name": "stdout",
     "output_type": "stream",
     "text": [
      "No convergence, try with 1000 more iterations\n",
      "No convergence, try with 1000 more iterations\n",
      "No convergence, try with 1000 more iterations\n",
      "No convergence, try with 1000 more iterations\n",
      "No convergence, try with 1000 more iterations\n",
      "No convergence, try with 1000 more iterations\n",
      "No convergence, try with 1000 more iterations\n",
      "No convergence, try with 1000 more iterations\n",
      "No convergence, try with 1000 more iterations\n",
      "No convergence, try with 1000 more iterations\n",
      "No convergence, try with 1000 more iterations\n",
      "No convergence, try with 1000 more iterations\n",
      "No convergence, try with 1000 more iterations\n",
      "No convergence, try with 1000 more iterations\n",
      "No convergence, try with 1000 more iterations\n",
      "No convergence, try with 1000 more iterations\n",
      "No convergence, try with 1000 more iterations\n",
      "No convergence, try with 1000 more iterations\n",
      "No convergence, try with 1000 more iterations\n",
      "No convergence, try with 1000 more iterations\n",
      "No convergence, try with 1000 more iterations\n",
      "No convergence, try with 1000 more iterations\n"
     ]
    }
   ],
   "source": [
    "Nmc = 100          # number of simulations\n",
    "var = 'celerity'   # only celerity is varying\n",
    "RMS_d2, BiasX_d2, Success_d2 = transect (sources, X, Y, Nmc, var, \\\n",
    "                                      clock_drift = True, e_dt=0.026)"
   ]
  },
  {
   "cell_type": "code",
   "execution_count": 92,
   "metadata": {},
   "outputs": [
    {
     "data": {
      "application/vnd.jupyter.widget-view+json": {
       "model_id": "54add5739f434f8b9734f460363e37fe",
       "version_major": 2,
       "version_minor": 0
      },
      "text/plain": [
       "FloatProgress(value=0.0, description='Loading :')"
      ]
     },
     "metadata": {},
     "output_type": "display_data"
    },
    {
     "name": "stdout",
     "output_type": "stream",
     "text": [
      "No convergence, try with 1000 more iterations\n",
      "No convergence, try with 1000 more iterations\n",
      "No convergence, try with 1000 more iterations\n",
      "No convergence, try with 1000 more iterations\n",
      "No convergence, try with 1000 more iterations\n",
      "No convergence, try with 1000 more iterations\n",
      "No convergence, try with 1000 more iterations\n",
      "No convergence, try with 1000 more iterations\n",
      "No convergence, try with 1000 more iterations\n",
      "No convergence, try with 1000 more iterations\n",
      "No convergence, try with 1000 more iterations\n"
     ]
    }
   ],
   "source": [
    "Nmc = 100          # number of simulations\n",
    "var = 'celerity'   # only celerity is varying\n",
    "RMS_d3, BiasX_d3, Success_d3 = transect (sources3, X, Y, Nmc, var, \\\n",
    "                                      clock_drift = True, e_dt=0.026)"
   ]
  },
  {
   "cell_type": "code",
   "execution_count": 93,
   "metadata": {},
   "outputs": [
    {
     "data": {
      "application/vnd.jupyter.widget-view+json": {
       "model_id": "7fd7258367c44a8092eb822edb30c982",
       "version_major": 2,
       "version_minor": 0
      },
      "text/plain": [
       "FloatProgress(value=0.0, description='Loading :')"
      ]
     },
     "metadata": {},
     "output_type": "display_data"
    },
    {
     "name": "stdout",
     "output_type": "stream",
     "text": [
      "No convergence, try with 1000 more iterations\n",
      "No convergence, try with 1000 more iterations\n",
      "No convergence, try with 1000 more iterations\n",
      "No convergence, try with 1000 more iterations\n",
      "No convergence, try with 1000 more iterations\n",
      "No convergence, try with 1000 more iterations\n",
      "No convergence, try with 1000 more iterations\n",
      "No convergence, try with 1000 more iterations\n",
      "No convergence, try with 1000 more iterations\n",
      "No convergence, try with 1000 more iterations\n",
      "No convergence, try with 1000 more iterations\n",
      "No convergence, try with 1000 more iterations\n",
      "No convergence, try with 1000 more iterations\n",
      "No convergence, try with 1000 more iterations\n",
      "No convergence, try with 1000 more iterations\n",
      "No convergence, try with 1000 more iterations\n",
      "No convergence, try with 1000 more iterations\n",
      "No convergence, try with 1000 more iterations\n"
     ]
    }
   ],
   "source": [
    "Nmc = 100          # number of simulations\n",
    "var = 'celerity'   # only celerity is varying\n",
    "RMS_d4, BiasX_d4, Success_d4 = transect (sources4, X, Y, Nmc, var, \\\n",
    "                                      clock_drift = True, e_dt=0.026)"
   ]
  },
  {
   "cell_type": "code",
   "execution_count": 94,
   "metadata": {
    "scrolled": true
   },
   "outputs": [
    {
     "data": {
      "application/vnd.jupyter.widget-view+json": {
       "model_id": "1c3ae06f644240dd94f6190b8ebc4c5f",
       "version_major": 2,
       "version_minor": 0
      },
      "text/plain": [
       "FloatProgress(value=0.0, description='Loading :')"
      ]
     },
     "metadata": {},
     "output_type": "display_data"
    },
    {
     "name": "stdout",
     "output_type": "stream",
     "text": [
      "No convergence, try with 1000 more iterations\n",
      "No convergence, try with 1000 more iterations\n",
      "No convergence, try with 1000 more iterations\n",
      "No convergence, try with 1000 more iterations\n",
      "No convergence, try with 1000 more iterations\n",
      "No convergence, try with 1000 more iterations\n",
      "No convergence, try with 1000 more iterations\n",
      "No convergence, try with 1000 more iterations\n",
      "No convergence, try with 1000 more iterations\n",
      "No convergence, try with 1000 more iterations\n",
      "No convergence, try with 1000 more iterations\n",
      "No convergence, try with 1000 more iterations\n",
      "No convergence, try with 1000 more iterations\n",
      "No convergence, try with 1000 more iterations\n",
      "No convergence, try with 1000 more iterations\n",
      "No convergence, try with 1000 more iterations\n",
      "No convergence, try with 1000 more iterations\n",
      "No convergence, try with 1000 more iterations\n",
      "No convergence, try with 1000 more iterations\n",
      "No convergence, try with 1000 more iterations\n",
      "No convergence, try with 1000 more iterations\n",
      "No convergence, try with 1000 more iterations\n",
      "No convergence, try with 1000 more iterations\n",
      "No convergence, try with 1000 more iterations\n",
      "No convergence, try with 1000 more iterations\n",
      "No convergence, try with 1000 more iterations\n",
      "No convergence, try with 1000 more iterations\n",
      "No convergence, try with 1000 more iterations\n",
      "No convergence, try with 1000 more iterations\n",
      "No convergence, try with 1000 more iterations\n",
      "No convergence, try with 1000 more iterations\n",
      "No convergence, try with 1000 more iterations\n",
      "No convergence, try with 1000 more iterations\n",
      "No convergence, try with 1000 more iterations\n",
      "No convergence, try with 1000 more iterations\n",
      "No convergence, try with 1000 more iterations\n",
      "No convergence, try with 1000 more iterations\n",
      "No convergence, try with 1000 more iterations\n",
      "No convergence, try with 1000 more iterations\n",
      "No convergence, try with 1000 more iterations\n",
      "No convergence, try with 1000 more iterations\n",
      "No convergence, try with 1000 more iterations\n",
      "No convergence, try with 1000 more iterations\n",
      "No convergence, try with 1000 more iterations\n",
      "No convergence, try with 1000 more iterations\n",
      "No convergence, try with 1000 more iterations\n",
      "No convergence, try with 1000 more iterations\n",
      "No convergence, try with 1000 more iterations\n",
      "No convergence, try with 1000 more iterations\n",
      "No convergence, try with 1000 more iterations\n",
      "No convergence, try with 1000 more iterations\n",
      "No convergence, try with 1000 more iterations\n",
      "No convergence, try with 1000 more iterations\n"
     ]
    }
   ],
   "source": [
    "Nmc = 100          # number of simulations\n",
    "var = 'celerity'   # only celerity is varying\n",
    "RMS_d5, BiasX_d5, Success_d5 = transect (sources5, X, Y, Nmc, var, \\\n",
    "                                      clock_drift = True, e_dt=0.026)"
   ]
  },
  {
   "cell_type": "code",
   "execution_count": 95,
   "metadata": {
    "scrolled": true
   },
   "outputs": [
    {
     "data": {
      "application/vnd.jupyter.widget-view+json": {
       "model_id": "b91955118c134770aa1c2d455df4c38b",
       "version_major": 2,
       "version_minor": 0
      },
      "text/plain": [
       "FloatProgress(value=0.0, description='Loading :')"
      ]
     },
     "metadata": {},
     "output_type": "display_data"
    },
    {
     "name": "stdout",
     "output_type": "stream",
     "text": [
      "No convergence, try with 1000 more iterations\n",
      "No convergence, try with 1000 more iterations\n",
      "No convergence, try with 1000 more iterations\n",
      "No convergence, try with 1000 more iterations\n",
      "No convergence, try with 1000 more iterations\n",
      "No convergence, try with 1000 more iterations\n",
      "No convergence, try with 1000 more iterations\n",
      "No convergence, try with 1000 more iterations\n",
      "No convergence, try with 1000 more iterations\n",
      "No convergence, try with 1000 more iterations\n",
      "No convergence, try with 1000 more iterations\n",
      "No convergence, try with 1000 more iterations\n",
      "No convergence, try with 1000 more iterations\n",
      "No convergence, try with 1000 more iterations\n",
      "No convergence, try with 1000 more iterations\n",
      "No convergence, try with 1000 more iterations\n",
      "No convergence, try with 1000 more iterations\n",
      "No convergence, try with 1000 more iterations\n",
      "No convergence, try with 1000 more iterations\n",
      "No convergence, try with 1000 more iterations\n",
      "No convergence, try with 1000 more iterations\n",
      "No convergence, try with 1000 more iterations\n",
      "No convergence, try with 1000 more iterations\n",
      "No convergence, try with 1000 more iterations\n",
      "No convergence, try with 1000 more iterations\n",
      "No convergence, try with 1000 more iterations\n",
      "No convergence, try with 1000 more iterations\n",
      "No convergence, try with 1000 more iterations\n",
      "No convergence, try with 1000 more iterations\n",
      "No convergence, try with 1000 more iterations\n",
      "No convergence, try with 1000 more iterations\n",
      "No convergence, try with 1000 more iterations\n",
      "No convergence, try with 1000 more iterations\n",
      "No convergence, try with 1000 more iterations\n",
      "No convergence, try with 1000 more iterations\n"
     ]
    }
   ],
   "source": [
    "Nmc = 100          # number of simulations\n",
    "var = 'celerity'   # only celerity is varying\n",
    "RMS_d6, BiasX_d6, Success_d6 = transect (sources6, X, Y, Nmc, var, \\\n",
    "                                      clock_drift = True, e_dt=0.026)"
   ]
  },
  {
   "cell_type": "code",
   "execution_count": 99,
   "metadata": {},
   "outputs": [
    {
     "name": "stdout",
     "output_type": "stream",
     "text": [
      "RMS 2 sources :  18.258261138681178\n",
      "RMS 3 sources :  15.497188193853255\n",
      "RMS 4 sources :  14.05844214591267\n",
      "RMS 5 sources :  15.238370787825758\n",
      "RMS 5 sources :  13.625463425562781\n"
     ]
    }
   ],
   "source": [
    "#### avec dérive à 26ms\n",
    "print('RMS 2 sources : ', np.mean(RMS_d2))\n",
    "print('RMS 3 sources : ', np.mean(RMS_d3))\n",
    "print('RMS 4 sources : ', np.mean(RMS_d4))\n",
    "print('RMS 5 sources : ', np.mean(RMS_d5))\n",
    "print('RMS 5 sources : ', np.mean(RMS_d6))"
   ]
  },
  {
   "cell_type": "code",
   "execution_count": 101,
   "metadata": {},
   "outputs": [
    {
     "name": "stdout",
     "output_type": "stream",
     "text": [
      "RMS 2 sources :  1.0675144840959228\n",
      "RMS 3 sources :  0.9223731156510548\n",
      "RMS 4 sources :  0.8276676877211134\n",
      "RMS 5 sources :  0.7420412216712161\n",
      "RMS 5 sources :  0.6725675859904768\n"
     ]
    }
   ],
   "source": [
    "#### avec dérive à 26ms\n",
    "print('RMS 2 sources : ', np.mean(RMS_d2[35:85]))\n",
    "print('RMS 3 sources : ', np.mean(RMS_d3[35:85]))\n",
    "print('RMS 4 sources : ', np.mean(RMS_d4[35:85]))\n",
    "print('RMS 5 sources : ', np.mean(RMS_d5[35:85]))\n",
    "print('RMS 5 sources : ', np.mean(RMS_d6[35:85]))"
   ]
  },
  {
   "cell_type": "code",
   "execution_count": null,
   "metadata": {},
   "outputs": [],
   "source": []
  },
  {
   "cell_type": "code",
   "execution_count": null,
   "metadata": {},
   "outputs": [],
   "source": []
  },
  {
   "cell_type": "code",
   "execution_count": 104,
   "metadata": {},
   "outputs": [],
   "source": [
    "xx = np.array([2., 3., 4., 5.,6.])\n",
    "XX = 1/np.sqrt(xx)\n",
    "YY = np.array([np.mean(RMS_d2[35:85]), np.mean(RMS_d3[35:85]), \\\n",
    "               np.mean(RMS_d4[35:85]), np.mean(RMS_d5[35:85]), np.mean(RMS_d6[35:85])])"
   ]
  },
  {
   "cell_type": "code",
   "execution_count": 105,
   "metadata": {},
   "outputs": [
    {
     "data": {
      "image/png": "[encoded data removed]",
      "text/plain": [
       "<Figure size 576x360 with 1 Axes>"
      ]
     },
     "metadata": {},
     "output_type": "display_data"
    }
   ],
   "source": [
    "plt.figure(figsize=(8,5))\n",
    "plt.plot(XX,YY,'rx')\n",
    "res = np.polyfit(XX,YY,1)\n",
    "plt.plot(XX,res[0]*XX+res[1],'b')\n",
    "plt.xlabel('1 / sqrt(nombre de sources)', fontsize=14)\n",
    "plt.ylabel('RMS (m)', fontsize=14)\n",
    "plt.title ('Lien entre RMS et nombre de sources', fontsize=16)\n",
    "plt.grid()"
   ]
  },
  {
   "cell_type": "code",
   "execution_count": null,
   "metadata": {},
   "outputs": [],
   "source": []
  }
 ],
 "metadata": {
  "kernelspec": {
   "display_name": "Python 3",
   "language": "python",
   "name": "python3"
  },
  "language_info": {
   "codemirror_mode": {
    "name": "ipython",
    "version": 3
   },
   "file_extension": ".py",
   "mimetype": "text/x-python",
   "name": "python",
   "nbconvert_exporter": "python",
   "pygments_lexer": "ipython3",
   "version": "3.6.5"
  }
 },
 "nbformat": 4,
 "nbformat_minor": 2
}
