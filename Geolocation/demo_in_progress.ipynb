{
 "cells": [
  {
   "cell_type": "markdown",
   "metadata": {},
   "source": [
    "# geolocation\n",
    "\n",
    "- formulation of a solver.\n",
    "\n",
    "- statistical simulations in order to determine sources of uncertainty"
   ]
  },
  {
   "cell_type": "markdown",
   "metadata": {},
   "source": [
    "---\n",
    "\n",
    "## formulation\n",
    "\n",
    "<img src='schematic.jpeg' alt='Drawing' align='right' style='width: 300px;'/>\n",
    "\n",
    "We want to find the float horizontal position $\\underline{x}=(x,y)$ of an underwater float \n",
    "given a number of **known variables**:\n",
    "- $\\underline{x}_s^i$ : source surface float horizontal position\n",
    "- $t_e^i$ : time of emission for source $i$\n",
    "- $\\tilde{t}_r^i$ : time of reception of the signal emitted by source $i$ by the underwater float\n",
    "- $\\epsilon_i$ : signal detection, $\\epsilon_i=1$ (detection) or $1$ (no detection)\n",
    "- $z$ : underwater float depth(perfect knowledge), not used for now\n",
    "\n",
    "'Perfect' knowledge is assumed for known variables wich amounts to say potential errors on there\n",
    "estimates may be neglected."
   ]
  },
  {
   "cell_type": "markdown",
   "metadata": {},
   "source": [
    "**Unknown variables** are:\n",
    "- $\\underline{x}=(x,y)$ : underwater float position\n",
    "- $\\delta t$ : underwater float clock offset, $\\delta t = \\tilde{t}_r^i - t_r^i$, where \n",
    "$t_r^i$ is the true time of reception\n",
    "- $\\delta \\underline{x}^i$ : vector difference between source $i$ transducer position and surface float position, $\\delta \\underline{x}^i = \\underline{x}_t^i - \\underline{x}_s^i$\n",
    "- $\\delta c (\\underline{x},\\underline{x}_t^i)$ : difference between equivalent celerity defined as \n",
    "$c(\\underline{x},\\underline{x}_t^i) = ||\\underline{x} - \\underline{x}_t^i ||/(t_r^i - t_e^i)$ and its background (a priori) estimate $c_b$, $\\delta c (\\underline{x},\\underline{x}_t^i) = c(\\underline{x},\\underline{x}_t^i) - c_b$.\n",
    "\n",
    "A priori standard deviations for $\\underline{x}$, $\\delta t$, $\\delta \\underline{x}^i$, $\\delta c (\\underline{x},\\underline{x}_t^i)$ are\n",
    "assumed to be known and given by: $e_x$, $e_{\\delta t}$, $e_{\\delta x}$, $e_{\\delta c}$.\n",
    "\n",
    "Background (a priori) estimates for $\\underline{x}$, $\\delta t$, $\\delta \\underline{x}^i$, $\\delta c (\\underline{x},\\underline{x}_t^i)$ may eventually be provided. We assume all are 0 for now except\n",
    "for the float position $\\underline{x}_b=(x=1km, y=0km)$.\n"
   ]
  },
  {
   "cell_type": "markdown",
   "metadata": {},
   "source": [
    "We impose **hard contraints** for each source-float acoustic travel:\n",
    "\n",
    "$$\n",
    "\\begin{align*}\n",
    "||\\underline{x} - \\underline{x}_s^i - \\delta \\underline{x}^i || = \\big (c_b + \\delta c(\\underline{x},\\underline{x}_t^i) \\big ) \\times (\\tilde{t}_r^i + \\delta t - t_e^i),\n",
    "\\end{align*}\n",
    "$$\n",
    "\n",
    "The estimate of the underwater float position $\\underline{\\hat{x}}$ minimizes:\n",
    "\n",
    "$$\n",
    "\\begin{align*}\n",
    "J(\\mathbf{x}, \\delta t, \\delta \\underline{x}_i, \\delta c (\\underline{x},\\underline{x}_t^i)) = \n",
    "||\\underline{x} - \\underline{x}_b||^2 /e_x^2\n",
    "+ \\delta t^2 / e_{\\delta t}^2 \n",
    "+ \\sum_i \\epsilon_i \\times ( ||\\delta \\underline{x}_i||^2 / e_{\\delta x}^2\n",
    "+ \\delta c (\\underline{x},\\underline{x}_t^i)^2 / e_c^2 )\n",
    "\\end{align*}\n",
    "$$\n",
    "\n",
    "subject to the hard constraints listed above.\n",
    "\n",
    "The hard constraint may used to estimate $\\delta c$ and plug it into the functional J:\n",
    "$$\n",
    "\\begin{align*}\n",
    "J(\\mathbf{x}, \\delta t, \\delta \\underline{x}_i) = \n",
    "||\\underline{x} - \\underline{x}_b||^2 /e_x^2\n",
    "+ \\delta t^2 / e_{\\delta t}^2 \n",
    "+ \\sum_i \\epsilon_i \\times \\Big \\{ \\frac{||\\delta \\underline{x}_i||^2} {e_{\\delta x}^2}\n",
    "+ \\frac{\\big [||\\underline{x} - \\underline{x}_s^i - \\delta \\underline{x}^i ||/(\\tilde{t}_r^i + \\delta t - t_e^i) - c_b \\big ]^2} {e_c^2} \\Big \\}\n",
    "\\end{align*}\n",
    "$$\n",
    "\n",
    "We assume $\\epsilon_i=1$ in all examples below for simplicity.\n",
    "\n",
    "We have assumed simultaneous (working assumption) emission of sources.\n",
    "The underwater float velocity may be added as an extra variable (future addition)."
   ]
  },
  {
   "cell_type": "code",
   "execution_count": 45,
   "metadata": {},
   "outputs": [
    {
     "name": "stdout",
     "output_type": "stream",
     "text": [
      "The autoreload extension is already loaded. To reload it, use:\n",
      "  %reload_ext autoreload\n"
     ]
    }
   ],
   "source": [
    "# this enable automatic reloading of libraries\n",
    "%load_ext autoreload\n",
    "%autoreload 2\n",
    "\n",
    "# import libraries\n",
    "import numpy as np\n",
    "import matplotlib.pyplot as plt\n",
    "\n",
    "from clib.geolocation import *\n"
   ]
  },
  {
   "cell_type": "code",
   "execution_count": 46,
   "metadata": {},
   "outputs": [
    {
     "data": {
      "image/png": "[encoded data removed]",
      "text/plain": [
       "<Figure size 432x288 with 1 Axes>"
      ]
     },
     "metadata": {},
     "output_type": "display_data"
    }
   ],
   "source": [
    "        \n",
    "### create an ensemble of sources\n",
    "\n",
    "# square formation:\n",
    "dx=10. *1.e3 # in meters\n",
    "sources=[]\n",
    "sources.append(source(-dx*.5,-dx*.5))\n",
    "sources.append(source(dx*.5,-dx*.5))\n",
    "sources.append(source(dx*.5,dx*.5))\n",
    "sources.append(source(-dx*.5,dx*.5))\n",
    "#sources.append(source(0.,dx*.25))\n",
    "Ns = len(sources)\n",
    "\n",
    "### init a receiver\n",
    "r=receiver(0. *1.e3, 0. *1.e3)\n",
    "\n",
    "### plot\n",
    "plt.figure()\n",
    "ax=plt.subplot(111)\n",
    "[s.plot() for s in sources]\n",
    "r.plot()\n",
    "ax.grid()\n",
    "#ax.set_xlim([-1.,21.])\n",
    "#ax.set_ylim([-1.,11.])\n",
    "ax.set_aspect('equal')\n",
    "plt.show()\n"
   ]
  },
  {
   "cell_type": "code",
   "execution_count": 47,
   "metadata": {},
   "outputs": [
    {
     "name": "stdout",
     "output_type": "stream",
     "text": [
      "Distance source 0 - float = 7.07 km\n",
      "  horizontal offset for a sound celerity difference of 10.0 m/s = 47.14 m\n",
      "Distance source 1 - float = 7.07 km\n",
      "  horizontal offset for a sound celerity difference of 10.0 m/s = 47.14 m\n",
      "Distance source 2 - float = 7.07 km\n",
      "  horizontal offset for a sound celerity difference of 10.0 m/s = 47.14 m\n",
      "Distance source 3 - float = 7.07 km\n",
      "  horizontal offset for a sound celerity difference of 10.0 m/s = 47.14 m\n"
     ]
    }
   ],
   "source": [
    "for i, s in enumerate(sources):\n",
    "    print('Distance source %d - float = %.2f km' %(i, dist(s,r)/1.e3))\n",
    "    print('  horizontal offset for a sound celerity difference of %.1f m/s = %.2f m' %(10., dist(s,r)*10./1500.))"
   ]
  },
  {
   "cell_type": "markdown",
   "metadata": {},
   "source": [
    "---\n",
    "\n",
    "## Demo case\n",
    "\n"
   ]
  },
  {
   "cell_type": "code",
   "execution_count": 48,
   "metadata": {},
   "outputs": [],
   "source": [
    "#[s.draw_celerity(10.) for s in sources]\n",
    "#[s.draw_dxdy(10.) for s in sources]\n",
    "#r.draw_clock_drift(1.)"
   ]
  },
  {
   "cell_type": "markdown",
   "metadata": {},
   "source": [
    "The true underwater float position and clock offset are:"
   ]
  },
  {
   "cell_type": "code",
   "execution_count": 49,
   "metadata": {
    "scrolled": true
   },
   "outputs": [
    {
     "name": "stdout",
     "output_type": "stream",
     "text": [
      "x = 0.0 m \n",
      "y = 0.0 m \n",
      "dt = -3.1e-01 s\n"
     ]
    }
   ],
   "source": [
    "print('x = %.1f m \\ny = %.1f m \\ndt = %.1e s' %(r.x, r.y, r.dt))"
   ]
  },
  {
   "cell_type": "markdown",
   "metadata": {},
   "source": [
    "We solve the geolocation problem with the a priori uncertainties and estimates :"
   ]
  },
  {
   "cell_type": "code",
   "execution_count": 26,
   "metadata": {
    "scrolled": true
   },
   "outputs": [
    {
     "name": "stdout",
     "output_type": "stream",
     "text": [
      "e_c  = 10.0 m/s  (celerity)\n",
      "e_dt = 1.0 s  (clock drift)\n",
      "e_x  = 10000.0 m  (underwater float position)\n"
     ]
    }
   ],
   "source": [
    "# a priori uncertainties : \n",
    "print(\"e_c  = %.1f m/s  (celerity)\" %s.e_c)\n",
    "print(\"e_dt = %.1f s  (clock drift)\" %r.e_dt)\n",
    "print(\"e_x  = %.1f m  (underwater float position)\" %r.e_x)\n",
    "#print(\"e_dx = %.1f m  (dx between transducer and surface float)\" %s.e_dx)"
   ]
  },
  {
   "cell_type": "code",
   "execution_count": 27,
   "metadata": {},
   "outputs": [],
   "source": [
    "# a priori estimates :\n",
    "x0 = np.zeros((3))\n",
    "# a priori position :\n",
    "x0[0] = 1.e3\n",
    "x0[1] = 0.e3 "
   ]
  },
  {
   "cell_type": "code",
   "execution_count": 28,
   "metadata": {},
   "outputs": [
    {
     "name": "stdout",
     "output_type": "stream",
     "text": [
      "Optimization terminated successfully.\n",
      "         Current function value: 0.985883\n",
      "         Iterations: 34\n",
      "         Function evaluations: 38\n",
      "         Gradient evaluations: 38\n"
     ]
    }
   ],
   "source": [
    "# optimization\n",
    "x_hat, y_hat, dt_hat, success, message, res = geolocalize_xydt(r, sources,x0 = x0, disp=True)"
   ]
  },
  {
   "cell_type": "code",
   "execution_count": 29,
   "metadata": {},
   "outputs": [
    {
     "name": "stdout",
     "output_type": "stream",
     "text": [
      "True values :\n",
      "x = 0.0m    y = 0.0m    dt = -6.3e-01s\n",
      "\n",
      "Estimated values :\n",
      "x_hat=-25.7m    y_hat = -24.2m    dt_hat = -6.3e-01s\n"
     ]
    }
   ],
   "source": [
    "# true values vs estimated by optimization\n",
    "x, y, dt, dc = r.x, r.y, r.dt, [s.c - s.c_b for s in sources]\n",
    "\n",
    "print (\"True values :\")\n",
    "print('x = %.1fm    y = %.1fm    dt = %.1es' %(x, y, dt))\n",
    "\n",
    "print (\"\\nEstimated values :\")\n",
    "print('x_hat=%.1fm    y_hat = %.1fm    dt_hat = %.1es' %(x_hat, y_hat, dt_hat))\n"
   ]
  },
  {
   "cell_type": "markdown",
   "metadata": {},
   "source": [
    "## celerity statistical simulations\n",
    "\n",
    "For each source-receiver acoustic path, a random value is drawn around **c_b = 1500m/s**.\n",
    "The standard deviation of the celerity is **e_c = 10 m/s**."
   ]
  },
  {
   "cell_type": "code",
   "execution_count": 32,
   "metadata": {},
   "outputs": [
    {
     "name": "stdout",
     "output_type": "stream",
     "text": [
      "s.x_t : [array([-4991.02512522]), array([4999.49880515]), array([5001.15330202]), array([-5010.32865639])]\n",
      "s.y_t : [array([-5003.50210105]), array([-4991.80731129]), array([4996.88408644]), array([5022.84938071])]\n",
      "s.dx  : [array([8.97487478]), array([-0.50119485]), array([1.15330202]), array([-10.32865639])]\n",
      "s.dy  : [array([-3.50210105]), array([8.19268871]), array([-3.11591356]), array([22.84938071])]\n",
      "r.dt  : [-0.6320494]\n"
     ]
    }
   ],
   "source": [
    "# unchanged variables during simulations\n",
    "print(\"s.x_t :\", [s.x_t for s in sources])\n",
    "print(\"s.y_t :\", [s.y_t for s in sources])\n",
    "print(\"s.dx  :\", [s.dx for s in sources])\n",
    "print(\"s.dy  :\", [s.dy for s in sources])\n",
    "print(\"r.dt  :\", r.dt)"
   ]
  },
  {
   "cell_type": "code",
   "execution_count": 37,
   "metadata": {
    "scrolled": true
   },
   "outputs": [],
   "source": [
    "# only celerity between receiver and each source is changing\n",
    "Nmc = 50\n",
    "\n",
    "x=np.zeros(Nmc)\n",
    "y=np.zeros(Nmc)\n",
    "dt=np.zeros(Nmc)\n",
    "\n",
    "for i in range(Nmc):\n",
    "    [s.draw_celerity(s.e_c) for s in sources]\n",
    "    #print(i, \" : s.c = \", [s.c for s in sources])\n",
    "    x[i], y[i], dt[i], success, message, res = geolocalize_xydt(r, sources, disp=False)\n",
    "\n"
   ]
  },
  {
   "cell_type": "code",
   "execution_count": 38,
   "metadata": {},
   "outputs": [
    {
     "data": {
      "text/plain": [
       "Text(0,0.5,'y [m]')"
      ]
     },
     "execution_count": 38,
     "metadata": {},
     "output_type": "execute_result"
    },
    {
     "data": {
      "image/png": "[encoded data removed]",
      "text/plain": [
       "<Figure size 432x288 with 1 Axes>"
      ]
     },
     "metadata": {},
     "output_type": "display_data"
    }
   ],
   "source": [
    "plt.figure()\n",
    "ax=plt.subplot(111)\n",
    "ax.plot(r.x,r.y,'*', color='green', markersize=10, label='truth')\n",
    "ax.plot(x,y,'.', label='estimates')\n",
    "ax.axis('equal')\n",
    "ax.grid()\n",
    "ax.legend()\n",
    "ax.set_xlabel('x [m]')\n",
    "ax.set_ylabel('y [m]')"
   ]
  },
  {
   "cell_type": "markdown",
   "metadata": {},
   "source": [
    "## Maps of errors"
   ]
  },
  {
   "cell_type": "code",
   "execution_count": 52,
   "metadata": {},
   "outputs": [
    {
     "name": "stdout",
     "output_type": "stream",
     "text": [
      "s.x_t : [array([-5007.4107716]), array([4998.44079423]), array([5004.22836981]), array([-4981.89224645])]\n",
      "s.y_t : [array([-5003.66290549]), array([-4984.01697701]), array([5004.70796152]), array([5001.36333034])]\n",
      "s.dx  : [array([-7.4107716]), array([-1.55920577]), array([4.22836981]), array([18.10775355])]\n",
      "s.dy  : [array([-3.66290549]), array([15.98302299]), array([4.70796152]), array([1.36333034])]\n",
      "r.dt  : [-0.4070542]\n"
     ]
    }
   ],
   "source": [
    "### create an ensemble of sources\n",
    "\n",
    "# square formation:\n",
    "dx=10. *1.e3 # in meters\n",
    "sources=[]\n",
    "sources.append(source(-dx*.5,-dx*.5))\n",
    "sources.append(source(dx*.5,-dx*.5))\n",
    "sources.append(source(dx*.5,dx*.5))\n",
    "sources.append(source(-dx*.5,dx*.5))\n",
    "#sources.append(source(0.,dx*.25))\n",
    "Ns = len(sources)\n",
    "\n",
    "# unchanged variables during simulations\n",
    "print(\"s.x_t :\", [s.x_t for s in sources])\n",
    "print(\"s.y_t :\", [s.y_t for s in sources])\n",
    "print(\"s.dx  :\", [s.dx for s in sources])\n",
    "print(\"s.dy  :\", [s.dy for s in sources])\n",
    "print(\"r.dt  :\", r.dt)\n"
   ]
  },
  {
   "cell_type": "code",
   "execution_count": 81,
   "metadata": {},
   "outputs": [],
   "source": [
    "#\n",
    "# Compute now a map of errors : CELERITY \n",
    "#\n",
    "\n",
    "def simu (r, sources, Nmc) : \n",
    "    x=np.zeros(Nmc)\n",
    "    y=np.zeros(Nmc)\n",
    "    dt=np.zeros(Nmc)\n",
    "    for i in range(Nmc):\n",
    "        [s.draw_celerity(s.e_c) for s in sources]\n",
    "        #print(i, \" : s.c = \", [s.c for s in sources])\n",
    "        x[i], y[i], dt[i], success, message, res = geolocalize_xydt(r, sources, disp=False)\n",
    "\n",
    "\n",
    "    # rms error on the receiver position\n",
    "    d_rms = np.sqrt( np.mean( (x - r.x)**2  + (y - r.y)**2 ) )\n",
    "    # biais on the receiver position\n",
    "    biais_x = x.mean()-r.x\n",
    "    biais_y = y.mean()-r.y\n",
    "    biais = np.sqrt(biais_x**2 + biais_y**2)\n",
    "    return (d_rms, biais)"
   ]
  },
  {
   "cell_type": "code",
   "execution_count": 86,
   "metadata": {},
   "outputs": [
    {
     "name": "stdout",
     "output_type": "stream",
     "text": [
      "i = 1/10\n",
      "i = 2/10\n",
      "i = 3/10\n",
      "i = 4/10\n",
      "i = 5/10\n",
      "i = 6/10\n",
      "i = 7/10\n",
      "i = 8/10\n",
      "i = 9/10\n",
      "i = 10/10\n"
     ]
    }
   ],
   "source": [
    "### grid\n",
    "Lx = 20.* 1.e3\n",
    "Ly = Lx\n",
    "\n",
    "xt = np.linspace(-Lx/2.,Lx/2.,10)   # affiner la grille ensuite avec 30 ou 50 valeurs\n",
    "yt = np.linspace(-Ly/2.,Ly/2.,10)\n",
    "Xt, Yt = np.meshgrid(xt,yt)\n",
    "\n",
    "### number of simulations \n",
    "Nmc = 50\n",
    "\n",
    "### map \n",
    "\n",
    "RMS = np.zeros((len(xt),len(yt)))\n",
    "Biais = np.zeros((len(xt),len(yt)))\n",
    "for i in range (len(xt)) :\n",
    "    print('i = %d/%d' %(i+1,len(xt)))\n",
    "    for j in range (len(yt)):\n",
    "        # init a receiver\n",
    "        r = receiver(xt[i], yt[j])\n",
    "        r.dt = 1. # unchanged variable during simulations \n",
    "        \n",
    "        # simulations \n",
    "        d_rms, biais = simu (r, sources, Nmc) \n",
    "        RMS[i,j]   = d_rms\n",
    "        Biais[i,j] = biais"
   ]
  },
  {
   "cell_type": "code",
   "execution_count": 88,
   "metadata": {},
   "outputs": [],
   "source": [
    "np.save('RMS', RMS)\n",
    "np.save('Biais', Biais)"
   ]
  },
  {
   "cell_type": "code",
   "execution_count": null,
   "metadata": {},
   "outputs": [],
   "source": [
    "############################# TO DO ON FRIDAY #############################\n",
    "### plot the error map\n",
    "\n",
    "cmap = plt.get_cmap('afmhot_r')\n",
    "\n",
    "plt.figure(figsize=(8,8))\n",
    "ax=plt.subplot(111)\n",
    "lvls=np.arange(0.,1.e2,5.)\n",
    "plt.contourf(Xt/1.e3,Yt/1.e3,drms,lvls,cmap=cmap)\n",
    "cbar = plt.colorbar()\n",
    "cbar.ax.set_ylabel('[m]', rotation=270)\n",
    "CS = plt.contour(Xt/1.e3,Yt/1.e3,drms,[10,20],colors='k')\n",
    "plt.clabel(CS, [10,20],  # label every second level\n",
    "           inline=1,\n",
    "           fmt='%1.0f',\n",
    "           fontsize=10)\n",
    "[s.plot() for s in sources]\n",
    "plt.xlabel('x [km]')\n",
    "plt.ylabel('y [km]')\n",
    "plt.title('rms error, min(drms) = %.1f m' % drms.min())\n",
    "ax.set_aspect('equal')\n",
    "plt.show()\n",
    "\n",
    "\n",
    "cmap = plt.get_cmap('Spectral')\n",
    "\n",
    "### bias in x direction\n",
    "plt.figure(figsize=(8,8))\n",
    "ax=plt.subplot(111)\n",
    "lvls=np.arange(-1.e1,1.e1,1.e0)\n",
    "plt.contourf(Xt/1.e3,Yt/1.e3,xbias,lvls,cmap=cmap)\n",
    "cbar = plt.colorbar()\n",
    "cbar.ax.set_ylabel('xbias [m]', rotation=270)\n",
    "[s.plot() for s in sources]\n",
    "plt.xlabel('x [km]')\n",
    "plt.ylabel('y [km]')\n",
    "plt.title('mean x position bias, max(|xbias|) = %.1f m' % np.abs(xbias).max())\n",
    "ax.set_aspect('equal')\n",
    "plt.show()\n",
    "\n",
    "\n",
    "### clock offset\n",
    "plt.figure(figsize=(8,8))\n",
    "ax=plt.subplot(111)\n",
    "eps=2.e-3\n",
    "lvls=np.arange(1.-eps,1.+eps,eps/10.)\n",
    "plt.contourf(Xt/1.e3,Yt/1.e3,clock_offset,lvls,cmap=cmap)\n",
    "cbar = plt.colorbar()\n",
    "cbar.ax.set_ylabel('[s]', rotation=270)\n",
    "[s.plot() for s in sources]\n",
    "plt.xlabel('x [km]')\n",
    "plt.ylabel('y [km]')\n",
    "plt.title('mean clock offset')\n",
    "ax.set_aspect('equal')\n",
    "plt.show()\n"
   ]
  },
  {
   "cell_type": "code",
   "execution_count": null,
   "metadata": {},
   "outputs": [],
   "source": []
  },
  {
   "cell_type": "code",
   "execution_count": null,
   "metadata": {},
   "outputs": [],
   "source": []
  },
  {
   "cell_type": "code",
   "execution_count": null,
   "metadata": {},
   "outputs": [],
   "source": []
  },
  {
   "cell_type": "code",
   "execution_count": null,
   "metadata": {},
   "outputs": [],
   "source": []
  },
  {
   "cell_type": "code",
   "execution_count": null,
   "metadata": {},
   "outputs": [],
   "source": []
  },
  {
   "cell_type": "code",
   "execution_count": null,
   "metadata": {},
   "outputs": [],
   "source": []
  },
  {
   "cell_type": "code",
   "execution_count": null,
   "metadata": {},
   "outputs": [],
   "source": [
    "Nmc = 10\n",
    "\n",
    "x=np.zeros(Nmc)\n",
    "y=np.zeros(Nmc)\n",
    "dt=np.zeros(Nmc)\n",
    "\n",
    "for i in range(Nmc):\n",
    "    [s.draw_celerity(s.e_c) for s in sources]\n",
    "    #print(i, \" : s.c = \", [s.c for s in sources])\n",
    "    #[s.draw_dxdy(10.) for s in sources]\n",
    "    #r.draw_clock_drift(1.)\n",
    "    #dt_truth[i] = r.dt\n",
    "    x[i], y[i], dt[i], success, message, res = geolocalize_xydt(r, sources, disp=False)\n",
    "\n"
   ]
  },
  {
   "cell_type": "code",
   "execution_count": null,
   "metadata": {},
   "outputs": [],
   "source": []
  },
  {
   "cell_type": "code",
   "execution_count": null,
   "metadata": {},
   "outputs": [],
   "source": []
  },
  {
   "cell_type": "code",
   "execution_count": null,
   "metadata": {},
   "outputs": [],
   "source": []
  },
  {
   "cell_type": "code",
   "execution_count": null,
   "metadata": {},
   "outputs": [],
   "source": []
  }
 ],
 "metadata": {
  "kernelspec": {
   "display_name": "Python 3",
   "language": "python",
   "name": "python3"
  },
  "language_info": {
   "codemirror_mode": {
    "name": "ipython",
    "version": 3
   },
   "file_extension": ".py",
   "mimetype": "text/x-python",
   "name": "python",
   "nbconvert_exporter": "python",
   "pygments_lexer": "ipython3",
   "version": "3.6.5"
  }
 },
 "nbformat": 4,
 "nbformat_minor": 2
}
