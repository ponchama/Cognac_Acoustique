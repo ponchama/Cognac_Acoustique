{
 "cells": [
  {
   "cell_type": "markdown",
   "metadata": {},
   "source": [
    "# geolocation\n",
    "\n",
    "- formulation of a solver.\n",
    "\n",
    "- statistical simulations in order to determine sources of uncertainty"
   ]
  },
  {
   "cell_type": "markdown",
   "metadata": {},
   "source": [
    "---\n",
    "\n",
    "## formulation\n",
    "\n",
    "<img src='schematic.jpeg' alt='Drawing' align='right' style='width: 300px;'/>\n",
    "\n",
    "We want to find the float horizontal position $\\underline{x}=(x,y)$ of an underwater float \n",
    "given a number of **known variables**:\n",
    "- $\\underline{x}_s^i$ : source surface float horizontal position\n",
    "- $t_e^i$ : time of emission for source $i$\n",
    "- $\\tilde{t}_r^i$ : time of reception of the signal emitted by source $i$ by the underwater float\n",
    "- $\\epsilon_i$ : signal detection, $\\epsilon_i=1$ (detection) or $1$ (no detection)\n",
    "- $z$ : underwater float depth(perfect knowledge), not used for now\n",
    "\n",
    "'Perfect' knowledge is assumed for known variables wich amounts to say potential errors on there\n",
    "estimates may be neglected."
   ]
  },
  {
   "cell_type": "markdown",
   "metadata": {},
   "source": [
    "**Unknown variables** are:\n",
    "- $\\underline{x}=(x,y)$ : underwater float position\n",
    "- $\\delta t$ : underwater float clock offset, $\\delta t = \\tilde{t}_r^i - t_r^i$, where \n",
    "$t_r^i$ is the true time of reception\n",
    "- $\\delta \\underline{x}^i$ : vector difference between source $i$ transducer position and surface float position, $\\delta \\underline{x}^i = \\underline{x}_t^i - \\underline{x}_s^i$\n",
    "- $\\delta c (\\underline{x},\\underline{x}_t^i)$ : difference between equivalent celerity defined as \n",
    "$c(\\underline{x},\\underline{x}_t^i) = ||\\underline{x} - \\underline{x}_t^i ||/(t_r^i - t_e^i)$ and its background (a priori) estimate $c_b$, $\\delta c (\\underline{x},\\underline{x}_t^i) = c(\\underline{x},\\underline{x}_t^i) - c_b$.\n",
    "\n",
    "A priori standard deviations for $\\underline{x}$, $\\delta t$, $\\delta \\underline{x}^i$, $\\delta c (\\underline{x},\\underline{x}_t^i)$ are\n",
    "assumed to be known and given by: $e_x$, $e_{\\delta t}$, $e_{\\delta x}$, $e_{\\delta c}$.\n",
    "\n",
    "Background (a priori) estimates for $\\underline{x}$, $\\delta t$, $\\delta \\underline{x}^i$, $\\delta c (\\underline{x},\\underline{x}_t^i)$ may eventually be provided. We assume all are 0 for now except\n",
    "for the float position $\\underline{x}_b=(x=1km, y=0km)$.\n"
   ]
  },
  {
   "cell_type": "markdown",
   "metadata": {},
   "source": [
    "We impose **hard contraints** for each source-float acoustic travel:\n",
    "\n",
    "$$\n",
    "\\begin{align*}\n",
    "||\\underline{x} - \\underline{x}_s^i - \\delta \\underline{x}^i || = \\big (c_b + \\delta c(\\underline{x},\\underline{x}_t^i) \\big ) \\times (\\tilde{t}_r^i + \\delta t - t_e^i),\n",
    "\\end{align*}\n",
    "$$\n",
    "\n",
    "The estimate of the underwater float position $\\underline{\\hat{x}}$ minimizes:\n",
    "\n",
    "$$\n",
    "\\begin{align*}\n",
    "J(\\mathbf{x}, \\delta t, \\delta \\underline{x}_i, \\delta c (\\underline{x},\\underline{x}_t^i)) = \n",
    "||\\underline{x} - \\underline{x}_b||^2 /e_x^2\n",
    "+ \\delta t^2 / e_{\\delta t}^2 \n",
    "+ \\sum_i \\epsilon_i \\times ( ||\\delta \\underline{x}_i||^2 / e_{\\delta x}^2\n",
    "+ \\delta c (\\underline{x},\\underline{x}_t^i)^2 / e_c^2 )\n",
    "\\end{align*}\n",
    "$$\n",
    "\n",
    "subject to the hard constraints listed above.\n",
    "\n",
    "The hard constraint may used to estimate $\\delta c$ and plug it into the functional J:\n",
    "$$\n",
    "\\begin{align*}\n",
    "J(\\mathbf{x}, \\delta t, \\delta \\underline{x}_i) = \n",
    "||\\underline{x} - \\underline{x}_b||^2 /e_x^2\n",
    "+ \\delta t^2 / e_{\\delta t}^2 \n",
    "+ \\sum_i \\epsilon_i \\times \\Big \\{ \\frac{||\\delta \\underline{x}_i||^2} {e_{\\delta x}^2}\n",
    "+ \\frac{\\big [||\\underline{x} - \\underline{x}_s^i - \\delta \\underline{x}^i ||/(\\tilde{t}_r^i + \\delta t - t_e^i) - c_b \\big ]^2} {e_c^2} \\Big \\}\n",
    "\\end{align*}\n",
    "$$\n",
    "\n",
    "We assume $\\epsilon_i=1$ in all examples below for simplicity.\n",
    "\n",
    "We have assumed simultaneous (working assumption) emission of sources.\n",
    "The underwater float velocity may be added as an extra variable (future addition)."
   ]
  },
  {
   "cell_type": "code",
   "execution_count": 1,
   "metadata": {},
   "outputs": [],
   "source": [
    "\n",
    "# import libraries\n",
    "import numpy as np\n",
    "import matplotlib.pyplot as plt\n",
    "\n",
    "from clib.geolocation import *\n"
   ]
  },
  {
   "cell_type": "code",
   "execution_count": 2,
   "metadata": {},
   "outputs": [
    {
     "data": {
      "image/png": "[encoded data removed]",
      "text/plain": [
       "<Figure size 432x288 with 1 Axes>"
      ]
     },
     "metadata": {},
     "output_type": "display_data"
    }
   ],
   "source": [
    "        \n",
    "### create an ensemble of sources\n",
    "\n",
    "# square formation:\n",
    "dx=10. *1.e3 # in meters\n",
    "sources=[]\n",
    "sources.append(source(-dx*.5,-dx*.5))\n",
    "sources.append(source(dx*.5,-dx*.5))\n",
    "sources.append(source(dx*.5,dx*.5))\n",
    "sources.append(source(-dx*.5,dx*.5))\n",
    "#sources.append(source(0.,dx*.25))\n",
    "Ns = len(sources)\n",
    "\n",
    "### init a receiver\n",
    "r=receiver(0. *1.e3,0. *1.e3)\n",
    "\n",
    "### plot\n",
    "plt.figure()\n",
    "ax=plt.subplot(111)\n",
    "[s.plot() for s in sources]\n",
    "r.plot()\n",
    "ax.grid()\n",
    "#ax.set_xlim([-1.,21.])\n",
    "#ax.set_ylim([-1.,11.])\n",
    "ax.set_aspect('equal')\n",
    "plt.show()\n"
   ]
  },
  {
   "cell_type": "code",
   "execution_count": 3,
   "metadata": {},
   "outputs": [
    {
     "name": "stdout",
     "output_type": "stream",
     "text": [
      "Distance source 0 - float = 7.07 km\n",
      "  horizontal offset for a sound celerity difference of 10.0 m/s = 47.14 m\n",
      "Distance source 1 - float = 7.07 km\n",
      "  horizontal offset for a sound celerity difference of 10.0 m/s = 47.14 m\n",
      "Distance source 2 - float = 7.07 km\n",
      "  horizontal offset for a sound celerity difference of 10.0 m/s = 47.14 m\n",
      "Distance source 3 - float = 7.07 km\n",
      "  horizontal offset for a sound celerity difference of 10.0 m/s = 47.14 m\n"
     ]
    }
   ],
   "source": [
    "for i, s in enumerate(sources):\n",
    "    print('Distance source %d - float = %.2f km' %(i, dist(s,r)/1.e3))\n",
    "    print('  horizontal offset for a sound celerity difference of %.1f m/s = %.2f m' %(10., dist(s,r)*10./1500.))"
   ]
  },
  {
   "cell_type": "markdown",
   "metadata": {},
   "source": [
    "---\n",
    "\n",
    "## celerity statistical simulations\n",
    "\n",
    "For each source-drifter acoustic path, a random value is drawn around **1500m/s**.\n",
    "The standard deviation of the celerity draw is **10 m/s**."
   ]
  },
  {
   "cell_type": "code",
   "execution_count": 4,
   "metadata": {},
   "outputs": [],
   "source": [
    "Nmc = 100\n",
    "\n",
    "x=np.zeros(Nmc)\n",
    "y=np.zeros(Nmc)\n",
    "dt=np.zeros(Nmc)\n",
    "#dt_truth=np.zeros(Nmc)\n",
    "for i in range(Nmc):\n",
    "    [s.draw_celerity(10.) for s in sources]\n",
    "    #[s.draw_dxdy(10.) for s in sources]\n",
    "    #r.draw_clock_drift(1.)\n",
    "    #dt_truth[i] = r.dt\n",
    "    x[i], y[i], dt[i], dx, dy, success, message, res = geolocalize(r, sources, disp=False)"
   ]
  },
  {
   "cell_type": "code",
   "execution_count": 5,
   "metadata": {},
   "outputs": [
    {
     "data": {
      "text/plain": [
       "Text(0,0.5,'y [m]')"
      ]
     },
     "execution_count": 5,
     "metadata": {},
     "output_type": "execute_result"
    },
    {
     "data": {
      "image/png": "[encoded data removed]",
      "text/plain": [
       "<Figure size 432x288 with 1 Axes>"
      ]
     },
     "metadata": {},
     "output_type": "display_data"
    }
   ],
   "source": [
    "plt.figure()\n",
    "ax=plt.subplot(111)\n",
    "ax.plot(r.x,r.y,'*', color='green', markersize=10, label='truth')\n",
    "ax.plot(x,y,'.', label='estimates')\n",
    "ax.axis('equal')\n",
    "ax.grid()\n",
    "ax.legend()\n",
    "ax.set_xlabel('x [m]')\n",
    "ax.set_ylabel('y [m]')"
   ]
  },
  {
   "cell_type": "markdown",
   "metadata": {},
   "source": [
    "---\n",
    "\n",
    "## clock drift statistical simulations\n",
    "\n",
    "A random value of the float clock offset is drawn around **0s**.\n",
    "The standard deviation of the float clock offset is **1s**."
   ]
  },
  {
   "cell_type": "code",
   "execution_count": 6,
   "metadata": {
    "scrolled": true
   },
   "outputs": [],
   "source": [
    "#Nmc = 10\n",
    "\n",
    "x=np.zeros(Nmc)\n",
    "y=np.zeros(Nmc)\n",
    "dt=np.zeros(Nmc)\n",
    "dt_truth=np.zeros(Nmc)\n",
    "for i in range(Nmc):\n",
    "    #[s.draw_celerity(10.) for s in sources]\n",
    "    #[s.draw_dxdy(10.) for s in sources]\n",
    "    r.draw_clock_drift(1.)\n",
    "    dt_truth[i] = r.dt\n",
    "    x[i], y[i], dt[i], dx, dy, success, message, res = geolocalize(r, sources, disp=False)"
   ]
  },
  {
   "cell_type": "code",
   "execution_count": 7,
   "metadata": {},
   "outputs": [
    {
     "data": {
      "image/png": "[encoded data removed]",
      "text/plain": [
       "<Figure size 432x288 with 1 Axes>"
      ]
     },
     "metadata": {},
     "output_type": "display_data"
    },
    {
     "data": {
      "image/png": "[encoded data removed]",
      "text/plain": [
       "<Figure size 432x288 with 2 Axes>"
      ]
     },
     "metadata": {},
     "output_type": "display_data"
    }
   ],
   "source": [
    "plt.figure()\n",
    "ax=plt.subplot(111)\n",
    "ax.plot(r.x,r.y,'*', color='green', markersize=10, label='truth')\n",
    "ax.plot(x,y,'.', label='estimates')\n",
    "ax.axis('equal')\n",
    "ax.grid()\n",
    "ax.legend()\n",
    "ax.set_xlabel('x [m]')\n",
    "ax.set_ylabel('y [m]')\n",
    "\n",
    "plt.figure()\n",
    "ax = plt.subplot(121)\n",
    "#lax = ax[0]\n",
    "ax.plot(dt_truth, dt,'.')\n",
    "ax.axhline(0.,color='green')\n",
    "ax.axis('equal')\n",
    "ax.grid()\n",
    "ax.set_ylabel('dt estimate [s]')\n",
    "ax.set_xlabel('dt truth [s]')\n",
    "#\n",
    "ax = plt.subplot(122)\n",
    "ax.plot(dt_truth, dt-dt_truth,'.')\n",
    "ax.axhline(0.,color='green')\n",
    "ax.set_xlabel('dt truth [s]')\n",
    "ax.set_ylabel('dt estimate - dt truth [s]')\n",
    "ax.yaxis.tick_right()\n",
    "ax.yaxis.set_label_position('right')\n"
   ]
  },
  {
   "cell_type": "markdown",
   "metadata": {},
   "source": [
    "---\n",
    "\n",
    "##  transducer horizontal offset statistical simulations\n",
    "\n",
    "For each source, a random offset of the transducer horizontal position with respect to the source surface float is drawn around **0m**.\n",
    "The standard deviation of random draws is **10 m**."
   ]
  },
  {
   "cell_type": "code",
   "execution_count": 8,
   "metadata": {},
   "outputs": [],
   "source": [
    "#Nmc = 100\n",
    "\n",
    "x=np.zeros(Nmc)\n",
    "y=np.zeros(Nmc)\n",
    "dt=np.zeros(Nmc)\n",
    "for i in range(Nmc):\n",
    "    #[s.draw_celerity(10.) for s in sources]\n",
    "    [s.draw_dxdy(10.) for s in sources]\n",
    "    #r.draw_clock_drift(1.)\n",
    "    #dt_truth[i] = r.dt\n",
    "    x[i], y[i], dt[i], dx, dy, success, message, res = geolocalize(r, sources, disp=False)"
   ]
  },
  {
   "cell_type": "code",
   "execution_count": 9,
   "metadata": {},
   "outputs": [
    {
     "data": {
      "text/plain": [
       "Text(0,0.5,'y [m]')"
      ]
     },
     "execution_count": 9,
     "metadata": {},
     "output_type": "execute_result"
    },
    {
     "data": {
      "image/png": "[encoded data removed]",
      "text/plain": [
       "<Figure size 432x288 with 1 Axes>"
      ]
     },
     "metadata": {},
     "output_type": "display_data"
    }
   ],
   "source": [
    "plt.figure()\n",
    "ax=plt.subplot(111)\n",
    "ax.plot(r.x,r.y,'*', color='green', markersize=10, label='truth')\n",
    "ax.plot(x,y,'.', label='estimates')\n",
    "ax.axis('equal')\n",
    "ax.grid()\n",
    "ax.legend()\n",
    "ax.set_xlabel('x [m]')\n",
    "ax.set_ylabel('y [m]')"
   ]
  },
  {
   "cell_type": "markdown",
   "metadata": {},
   "source": [
    "--- \n",
    "\n",
    "## error on relative position\n",
    "\n",
    "For draws of celerity, move the float by 100m and compute the distance between positions"
   ]
  },
  {
   "cell_type": "code",
   "execution_count": null,
   "metadata": {},
   "outputs": [],
   "source": []
  }
 ],
 "metadata": {
  "kernelspec": {
   "display_name": "Python 3",
   "language": "python",
   "name": "python3"
  },
  "language_info": {
   "codemirror_mode": {
    "name": "ipython",
    "version": 3
   },
   "file_extension": ".py",
   "mimetype": "text/x-python",
   "name": "python",
   "nbconvert_exporter": "python",
   "pygments_lexer": "ipython3",
   "version": "3.6.5"
  }
 },
 "nbformat": 4,
 "nbformat_minor": 2
}
