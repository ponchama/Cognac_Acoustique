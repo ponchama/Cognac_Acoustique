{
 "cells": [
  {
   "cell_type": "code",
   "execution_count": 1,
   "metadata": {},
   "outputs": [],
   "source": [
    "# this enable automatic reloading of libraries\n",
    "%load_ext autoreload\n",
    "%autoreload 2\n",
    "from clib.bellhop import *\n",
    "import numpy as np\n",
    "import matplotlib.pyplot as plt\n",
    "import warnings\n",
    "warnings.filterwarnings(action='ignore')"
   ]
  },
  {
   "cell_type": "code",
   "execution_count": 2,
   "metadata": {},
   "outputs": [],
   "source": [
    "bell = bellhop({'mediterrannee': '../SSP_4profils.mat'},name='cognac_cmap',rmax=100.)"
   ]
  },
  {
   "cell_type": "markdown",
   "metadata": {},
   "source": [
    "---\n",
    "# Choix des paramètres "
   ]
  },
  {
   "cell_type": "code",
   "execution_count": 3,
   "metadata": {},
   "outputs": [],
   "source": [
    "zs = 100.                   # profondeur de la source\n",
    "Z = 2000.                   # profondeur totale"
   ]
  },
  {
   "cell_type": "code",
   "execution_count": 4,
   "metadata": {},
   "outputs": [],
   "source": [
    "zr = 300.                   # profondeur du récepteur \n",
    "r  = 60000.                 # range du récepteur\n",
    "zf = Z - zs - abs(zr - zs)  # profondeur entre récepteur et fond"
   ]
  },
  {
   "cell_type": "markdown",
   "metadata": {},
   "source": [
    "---\n",
    "# Calcul des réponses impulsionnelles"
   ]
  },
  {
   "cell_type": "code",
   "execution_count": 5,
   "metadata": {},
   "outputs": [],
   "source": [
    "### Rayons définis quatre par quatre \n",
    "N = 20\n",
    "DIST = []\n",
    "for n in range (N) : \n",
    "    ray1 = (2*n+1)*Z - zf - zs\n",
    "    ray2 = (2*n+1)*Z - zf + zs\n",
    "    ray3 = (2*n+1)*Z + zf - zs\n",
    "    ray4 = (2*n+1)*Z + zf + zs\n",
    "    Rays = [ray1, ray2, ray3, ray4]\n",
    "    \n",
    "    for i in range (len(Rays)):\n",
    "        teta = np.arctan (Rays[i]/r)\n",
    "        R = r/np.cos(teta)\n",
    "        DIST.append(R)\n",
    "\n",
    "DIST = np.array(DIST)"
   ]
  },
  {
   "cell_type": "code",
   "execution_count": 6,
   "metadata": {},
   "outputs": [],
   "source": [
    "### Conversion en temps avec profil célérité constant (1500m/s)\n",
    "TIMES = DIST / 1500."
   ]
  },
  {
   "cell_type": "code",
   "execution_count": 7,
   "metadata": {},
   "outputs": [],
   "source": [
    "### Calcul des amplitudes (réflexions parfaites fond et surface)\n",
    "alpha = 0.19 /1000.    # en dB/m\n",
    "TL = 20*np.log10(DIST) + alpha * DIST\n",
    "A = 10**(-TL/20.) "
   ]
  },
  {
   "cell_type": "code",
   "execution_count": 9,
   "metadata": {
    "scrolled": true
   },
   "outputs": [
    {
     "data": {
      "image/png": "[encoded data removed]",
      "text/plain": [
       "<Figure size 576x360 with 1 Axes>"
      ]
     },
     "metadata": {},
     "output_type": "display_data"
    }
   ],
   "source": [
    "### PLOTS \n",
    "plt.figure(figsize=(8,5))\n",
    "ax = plt.subplot(111)\n",
    "markerline, stemlines, baseline = plt.stem(TIMES, A)\n",
    "plt.setp(stemlines, color = 'k')\n",
    "plt.setp(stemlines[0], color = 'r')\n",
    "plt.setp(stemlines[1], color = 'b')\n",
    "plt.setp(markerline, color = 'k')\n",
    "plt.setp(baseline, color='w') \n",
    "\n",
    "ax.ticklabel_format(axis='y', style='scientific', scilimits=(-1, 2))\n",
    "#plt.yscale('log')\n",
    "plt.title ('Depth : %dm -- Range : %.dkm' %(zr,r/1000.), fontsize=16)\n",
    "plt.xlabel('time (s)', fontsize=14)\n",
    "plt.ylabel('amplitude', fontsize=14)\n",
    "plt.xlim([39.5,47.])\n",
    "plt.grid()\n",
    "\n",
    "plt.savefig('rep_imp_anali', dpi=100)"
   ]
  },
  {
   "cell_type": "markdown",
   "metadata": {},
   "source": [
    "---\n",
    "# Toutes les réponses"
   ]
  },
  {
   "cell_type": "code",
   "execution_count": 10,
   "metadata": {},
   "outputs": [
    {
     "name": "stdout",
     "output_type": "stream",
     "text": [
      "Max.number of arrivals for source index 0 is 174\n"
     ]
    }
   ],
   "source": [
    "Arr1, Pos1 = bell.read_arrivals_asc ('../files_arr/isocel_parfait.arr', Narrmx = 180)"
   ]
  },
  {
   "cell_type": "code",
   "execution_count": 11,
   "metadata": {},
   "outputs": [],
   "source": [
    "### Reponses impulsionnelles\n",
    "D = np.array([100., 200., 300., 400.])\n",
    "R = np.array([10., 30., 50., 70., 90.]) * 1000."
   ]
  },
  {
   "cell_type": "code",
   "execution_count": 12,
   "metadata": {},
   "outputs": [],
   "source": [
    "### Indices correspondants aux récepteurs choisis\n",
    "IRD = np.zeros_like(D)\n",
    "for i in range (D.size) : \n",
    "    IRD[i] = np.where(Pos1['r']['depth']==D[i])[0][0]\n",
    "    \n",
    "IRR = np.zeros_like(R)\n",
    "for i in range (R.size) : \n",
    "    IRR[i] = np.where(Pos1['r']['range']==R[i])[0][0]"
   ]
  },
  {
   "cell_type": "code",
   "execution_count": 13,
   "metadata": {},
   "outputs": [],
   "source": [
    "isd=0\n",
    "\n",
    "NN=[]\n",
    "MAT = np.zeros((D.size, R.size, 180))\n",
    "k = 0\n",
    "for i in range (IRD.size):\n",
    "    for j in range(IRR.size):\n",
    "        k+=1\n",
    "        ird = int(IRD[i])     # choice of receiver depth\n",
    "        irr = int(IRR[j])     # choice of receiver range\n",
    "        \n",
    "        Narr = int(Arr1['Narr'][irr,ird,isd])\n",
    "        NN.append(Narr)\n",
    "        times = sorted(Arr1['delay'][irr, :Narr, ird, isd])\n",
    "        MAT[i, j, :Narr] = times"
   ]
  },
  {
   "cell_type": "code",
   "execution_count": 14,
   "metadata": {},
   "outputs": [],
   "source": [
    "c = 1500.      # célérité (en m/s)\n",
    "N = 45\n",
    "\n",
    "MAT_A = np.zeros((D.size, R.size, 180))\n",
    "\n",
    "for i in range (D.size):\n",
    "    for j in range(R.size):\n",
    "        k+=1\n",
    "        zr = D[i]                   # profondeur du récepteur\n",
    "        r  = R[j]                   # range du récepteur\n",
    "        zf = Z - zs - abs(zr - zs)  # profondeur entre récepteur et fond\n",
    "\n",
    "        ###### Calcul de la réponse impulsionnelle\n",
    "       \n",
    "        DIST = []\n",
    "        for n in range (N) : \n",
    "            ray1 = (2*n+1)*Z - zf - zs\n",
    "            ray2 = (2*n+1)*Z - zf + zs\n",
    "            ray3 = (2*n+1)*Z + zf - zs\n",
    "            ray4 = (2*n+1)*Z + zf + zs\n",
    "            Rays = [ray1, ray2, ray3, ray4]\n",
    "\n",
    "            for m in range (len(Rays)):\n",
    "                teta = np.arctan (Rays[m]/r)\n",
    "                RR = r/np.cos(teta)\n",
    "                DIST.append(RR)\n",
    "                \n",
    "        DIST = np.array(DIST)\n",
    "        TIMES = DIST / c\n",
    "\n",
    "        MAT_A[i, j, :] = sorted(TIMES)"
   ]
  },
  {
   "cell_type": "code",
   "execution_count": 19,
   "metadata": {},
   "outputs": [
    {
     "name": "stdout",
     "output_type": "stream",
     "text": [
      "max  :  5.616497638527562e-06\n",
      "mean :  1.1949379114837043e-06\n"
     ]
    }
   ],
   "source": [
    "diff = MAT[:,:,:18] - MAT_A[:,:,:18]\n",
    "print('max  : ', np.max(abs(diff)))\n",
    "print('mean : ', np.mean(abs(diff)))"
   ]
  },
  {
   "cell_type": "code",
   "execution_count": null,
   "metadata": {},
   "outputs": [],
   "source": []
  }
 ],
 "metadata": {
  "kernelspec": {
   "display_name": "Python 3",
   "language": "python",
   "name": "python3"
  },
  "language_info": {
   "codemirror_mode": {
    "name": "ipython",
    "version": 3
   },
   "file_extension": ".py",
   "mimetype": "text/x-python",
   "name": "python",
   "nbconvert_exporter": "python",
   "pygments_lexer": "ipython3",
   "version": "3.6.5"
  }
 },
 "nbformat": 4,
 "nbformat_minor": 2
}
