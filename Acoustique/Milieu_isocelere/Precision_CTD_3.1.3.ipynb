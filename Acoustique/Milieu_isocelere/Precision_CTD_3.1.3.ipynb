{
 "cells": [
  {
   "cell_type": "markdown",
   "metadata": {},
   "source": [
    "## Ce notebook a pour but d'estimer la précision des mesures de la CTD (SBE37 MicroCAT). Cela nous permet d'évaluer l'incertitude liée à la connaissance de la célérité. "
   ]
  },
  {
   "cell_type": "code",
   "execution_count": 1,
   "metadata": {},
   "outputs": [],
   "source": [
    "# this enable automatic reloading of libraries\n",
    "%load_ext autoreload\n",
    "%autoreload 2\n",
    "\n",
    "from clib.bellhop import *\n",
    "import numpy as np\n",
    "import matplotlib.pyplot as plt\n",
    "import warnings\n",
    "warnings.filterwarnings(action='ignore')\n",
    "from matplotlib.animation import FuncAnimation"
   ]
  },
  {
   "cell_type": "markdown",
   "metadata": {},
   "source": [
    "---\n",
    "---\n",
    "## Lien entre erreur de conductivité C et salinité SP"
   ]
  },
  {
   "cell_type": "code",
   "execution_count": 6,
   "metadata": {},
   "outputs": [
    {
     "data": {
      "text/plain": [
       "0.00029416361580558714"
      ]
     },
     "execution_count": 6,
     "metadata": {},
     "output_type": "execute_result"
    }
   ],
   "source": [
    "import gsw\n",
    "gsw.C_from_SP(34.5+3e-4, 10, 250)-gsw.C_from_SP(34.5, 10, 250)\n"
   ]
  },
  {
   "cell_type": "markdown",
   "metadata": {},
   "source": [
    "Conclusion : une erreur de 3e-4 en conductivité revient à la même erreur en salinité."
   ]
  },
  {
   "cell_type": "markdown",
   "metadata": {},
   "source": [
    "---\n",
    "---\n",
    "---\n",
    "# Calcul d'erreur sur un champ de célérité (107profils)"
   ]
  },
  {
   "cell_type": "code",
   "execution_count": 21,
   "metadata": {},
   "outputs": [
    {
     "name": "stdout",
     "output_type": "stream",
     "text": [
      "1 grid file found, uses: /home/datawork-lops-osi/jgula/NESED/nesea_grd.nc\n",
      "-- Grid object\n",
      "dim lon_rho: 1602  2002\n",
      "lon_rho min= -72.123, max=-58.273\n",
      "lat_rho min= 34.123, max=43.734\n",
      "h min= 20.000, max=5543.070\n",
      "Uses the following output file: /home/datawork-lops-osi/jgula/NESED/nesed_avg.00260.nc\n",
      "Uses the following time : 10\n",
      "The transect will contain 107 horizontal points\n"
     ]
    }
   ],
   "source": [
    "#### Calcul des célérités sans erreur\n",
    "\n",
    "S = bellhop({'gs': {'datadir': '/home/datawork-lops-osi/jgula/NESED/', \\\n",
    "                    'file':10, 'itime':10, 'lon': [-66.6, -66.], 'lat': [36.,36.], \\\n",
    "                    'plot_map': False, 'contour':False}}, zmax = 4900)"
   ]
  },
  {
   "cell_type": "code",
   "execution_count": 20,
   "metadata": {},
   "outputs": [
    {
     "name": "stdout",
     "output_type": "stream",
     "text": [
      "1 grid file found, uses: /home/datawork-lops-osi/jgula/NESED/nesea_grd.nc\n",
      "-- Grid object\n",
      "dim lon_rho: 1602  2002\n",
      "lon_rho min= -72.123, max=-58.273\n",
      "lat_rho min= 34.123, max=43.734\n",
      "h min= 20.000, max=5543.070\n",
      "Uses the following output file: /home/datawork-lops-osi/jgula/NESED/nesed_avg.00260.nc\n",
      "Uses the following time : 10\n",
      "The transect will contain 107 horizontal points\n"
     ]
    }
   ],
   "source": [
    "### Ajout d'une erreur sur la température de 0.002°C (à changer dans la fonction \n",
    "#   \"get_soundc\" dans le script flow.py)\n",
    "\n",
    "ST = bellhop({'gs': {'datadir': '/home/datawork-lops-osi/jgula/NESED/', \\\n",
    "                    'file':10, 'itime':10, 'lon': [-66.6, -66.], 'lat': [36.,36.], \\\n",
    "                    'plot_map': False, 'contour':False}}, zmax = 4900)"
   ]
  },
  {
   "cell_type": "code",
   "execution_count": 19,
   "metadata": {},
   "outputs": [
    {
     "name": "stdout",
     "output_type": "stream",
     "text": [
      "1 grid file found, uses: /home/datawork-lops-osi/jgula/NESED/nesea_grd.nc\n",
      "-- Grid object\n",
      "dim lon_rho: 1602  2002\n",
      "lon_rho min= -72.123, max=-58.273\n",
      "lat_rho min= 34.123, max=43.734\n",
      "h min= 20.000, max=5543.070\n",
      "Uses the following output file: /home/datawork-lops-osi/jgula/NESED/nesed_avg.00260.nc\n",
      "Uses the following time : 10\n",
      "The transect will contain 107 horizontal points\n"
     ]
    }
   ],
   "source": [
    "### Ajout d'une erreur de salinité de 0.0003 S/m (à changer dans la fonction \n",
    "#   \"get_soundc\" dans le script flow.py)\n",
    "\n",
    "SS = bellhop({'gs': {'datadir': '/home/datawork-lops-osi/jgula/NESED/', \\\n",
    "                    'file':10, 'itime':10, 'lon': [-66.6, -66.], 'lat': [36.,36.], \\\n",
    "                    'plot_map': False, 'contour':False}}, zmax = 4900)"
   ]
  },
  {
   "cell_type": "markdown",
   "metadata": {},
   "source": [
    "---\n",
    "---\n",
    "## Erreurs liées aux mesures de température et salinité"
   ]
  },
  {
   "cell_type": "code",
   "execution_count": 22,
   "metadata": {},
   "outputs": [
    {
     "data": {
      "text/plain": [
       "array([[-0.00548044, -0.00548014, -0.00548002, ..., -0.00872899,\n",
       "        -0.00871057, -0.00870101],\n",
       "       [-0.00547964, -0.00547933, -0.00547919, ..., -0.00872898,\n",
       "        -0.00871082, -0.00870119],\n",
       "       [-0.00547952, -0.00547922, -0.00547908, ..., -0.00872896,\n",
       "        -0.00871079, -0.00870109],\n",
       "       ...,\n",
       "       [-0.00538462, -0.00538431, -0.00538417, ..., -0.00874655,\n",
       "        -0.00873496, -0.00870703],\n",
       "       [-0.00538442, -0.00538411, -0.00538397, ..., -0.00874684,\n",
       "        -0.0087347 , -0.00870652],\n",
       "       [-0.00538402, -0.00538372, -0.00538359, ..., -0.00874703,\n",
       "        -0.00873452, -0.00870614]])"
      ]
     },
     "execution_count": 22,
     "metadata": {},
     "output_type": "execute_result"
    }
   ],
   "source": [
    "ET = S.SSP['gs']['c'] - ST.SSP['gs']['c']\n",
    "ET"
   ]
  },
  {
   "cell_type": "code",
   "execution_count": 23,
   "metadata": {},
   "outputs": [
    {
     "data": {
      "text/plain": [
       "array([[-0.00033623, -0.00033621, -0.00033619, ..., -0.00039557,\n",
       "        -0.00039545, -0.00039549],\n",
       "       [-0.00033621, -0.00033619, -0.00033617, ..., -0.00039557,\n",
       "        -0.00039545, -0.00039549],\n",
       "       [-0.00033621, -0.00033619, -0.00033617, ..., -0.00039557,\n",
       "        -0.00039545, -0.00039549],\n",
       "       ...,\n",
       "       [-0.00033456, -0.00033453, -0.00033451, ..., -0.00039594,\n",
       "        -0.00039597, -0.00039562],\n",
       "       [-0.00033455, -0.00033453, -0.00033451, ..., -0.00039594,\n",
       "        -0.00039597, -0.00039561],\n",
       "       [-0.00033455, -0.00033452, -0.0003345 , ..., -0.00039595,\n",
       "        -0.00039596, -0.0003956 ]])"
      ]
     },
     "execution_count": 23,
     "metadata": {},
     "output_type": "execute_result"
    }
   ],
   "source": [
    "ES = S.SSP['gs']['c'] - SS.SSP['gs']['c']\n",
    "ES"
   ]
  },
  {
   "cell_type": "code",
   "execution_count": 24,
   "metadata": {},
   "outputs": [
    {
     "name": "stdout",
     "output_type": "stream",
     "text": [
      "0.008756061601843612\n",
      "0.006696193521712583\n"
     ]
    }
   ],
   "source": [
    "### pour le champ de 107 profils\n",
    "print (np.max(abs(ET)))\n",
    "print(np.mean(abs(ET)))"
   ]
  },
  {
   "cell_type": "code",
   "execution_count": 25,
   "metadata": {},
   "outputs": [
    {
     "name": "stdout",
     "output_type": "stream",
     "text": [
      "0.0003959963748911832\n",
      "0.0003574711691533883\n"
     ]
    }
   ],
   "source": [
    "## pour le champ de 107 profils\n",
    "print (np.max(abs(ES)))\n",
    "print(np.mean(abs(ES)))"
   ]
  },
  {
   "cell_type": "markdown",
   "metadata": {},
   "source": [
    "### Ainsi, on considère que l'erreur sur la célérité correspond à la plus importante des deux contributions (température et salinité), soit environ 10^-2 m/s."
   ]
  }
 ],
 "metadata": {
  "kernelspec": {
   "display_name": "Python 3",
   "language": "python",
   "name": "python3"
  },
  "language_info": {
   "codemirror_mode": {
    "name": "ipython",
    "version": 3
   },
   "file_extension": ".py",
   "mimetype": "text/x-python",
   "name": "python",
   "nbconvert_exporter": "python",
   "pygments_lexer": "ipython3",
   "version": "3.6.5"
  }
 },
 "nbformat": 4,
 "nbformat_minor": 2
}
