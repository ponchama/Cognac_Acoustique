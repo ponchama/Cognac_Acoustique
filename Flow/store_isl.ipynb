{
 "cells": [
  {
   "cell_type": "markdown",
   "metadata": {},
   "source": [
    "# Store velocities and sound celerity in the Gulf Stream area for ISL collab."
   ]
  },
  {
   "cell_type": "code",
   "execution_count": 1,
   "metadata": {},
   "outputs": [],
   "source": [
    "# import libraries\n",
    "%matplotlib inline\n",
    "from glob import glob\n",
    "#from netCDF4 import Dataset\n",
    "#import numpy as np\n",
    "import xarray as xr\n",
    "import matplotlib.pyplot as plt\n",
    "import cartopy.crs as ccrs\n",
    "import gsw\n",
    "\n",
    "#from dask.distributed import Client\n",
    "#client = Client(processes=False)\n",
    "\n",
    "from clib.flow import *"
   ]
  },
  {
   "cell_type": "code",
   "execution_count": 2,
   "metadata": {},
   "outputs": [
    {
     "name": "stdout",
     "output_type": "stream",
     "text": [
      "1 grid file found, uses: /home/datawork-lops-osi/jgula/NESED/nesea_grd.nc\n",
      "-- Grid object\n",
      "dim lon_rho: 1602  2002\n",
      "lon_rho min= -72.123, max=-58.273\n",
      "lat_rho min= 34.123, max=43.734\n",
      "h min= 20.000, max=5543.070\n"
     ]
    }
   ],
   "source": [
    "# load grid info\n",
    "grd = grid()\n",
    "\n",
    "# output files\n",
    "ofiles = sorted(glob(grd._data_dir+'*avg*.nc'))\n",
    "ofile = ofiles[0]\n",
    "\n",
    "# time to extract\n",
    "it = 0\n",
    "ds = xr.open_dataset(ofile).isel(time=it).drop('time')\n",
    "#ds = xr.open_dataset(ofile, chunks={'s_rho': 2}).isel(time=it).drop('time')\n",
    "#ds = xr.open_dataset(ofile, chunks={'xi_rho': 10}).isel(time=it).drop('time')\n",
    "#ds = xr.open_dataset(ofile, chunks={'xi_rho': 100, 'eta_rho':100, 'xi_u': 100, 'eta_v':100}).isel(time=it).drop('time')"
   ]
  },
  {
   "cell_type": "code",
   "execution_count": 3,
   "metadata": {},
   "outputs": [
    {
     "name": "stdout",
     "output_type": "stream",
     "text": [
      "<xarray.Dataset>\n",
      "Dimensions:    (eta_psi: 1601, eta_rho: 1602, eta_u: 1602, eta_v: 1601, one: 1, s_rho: 50, s_w: 51, xi_psi: 2001, xi_rho: 2002, xi_u: 2001, xi_v: 2002)\n",
      "Coordinates:\n",
      "  * s_w        (s_w) float32 -1.0 -0.98 -0.96 -0.94 -0.92 -0.9 -0.88 -0.86 ...\n",
      "  * s_rho      (s_rho) float32 -0.99 -0.97 -0.95 -0.93 -0.91 -0.89 -0.87 ...\n",
      "Dimensions without coordinates: eta_psi, eta_rho, eta_u, eta_v, one, xi_psi, xi_rho, xi_u, xi_v\n",
      "Data variables:\n",
      "    spherical  (one) |S1 ...\n",
      "    angle      (eta_rho, xi_rho) float64 ...\n",
      "    h          (eta_rho, xi_rho) float64 5.352e+03 5.348e+03 5.344e+03 ...\n",
      "    hraw       (eta_rho, xi_rho) float64 ...\n",
      "    f          (eta_rho, xi_rho) float64 ...\n",
      "    pm         (eta_rho, xi_rho) float64 ...\n",
      "    pn         (eta_rho, xi_rho) float64 ...\n",
      "    lon_rho    (eta_rho, xi_rho) float64 -68.81 -68.81 -68.8 -68.8 -68.79 ...\n",
      "    lat_rho    (eta_rho, xi_rho) float64 34.12 34.12 34.13 34.13 34.13 34.13 ...\n",
      "    mask_rho   (eta_rho, xi_rho) float64 ...\n",
      "    lon_psi    (eta_psi, xi_psi) float64 ...\n",
      "    lat_psi    (eta_psi, xi_psi) float64 ...\n",
      "    xl         (one) float64 ...\n",
      "    el         (one) float64 ...\n",
      "    lon_u      (eta_u, xi_u) float64 ...\n",
      "    lat_u      (eta_u, xi_u) float64 ...\n",
      "    lon_v      (eta_v, xi_v) float64 ...\n",
      "    lat_v      (eta_v, xi_v) float64 ...\n",
      "    Cs_w       (s_w) float32 -1.0 -0.95316756 -0.901204 -0.8453515 ...\n",
      "    Cs_r       (s_rho) float32 -0.97729516 -0.92775345 -0.8736807 -0.816387 ...\n"
     ]
    }
   ],
   "source": [
    "print(grd._ds)"
   ]
  },
  {
   "cell_type": "code",
   "execution_count": 4,
   "metadata": {},
   "outputs": [
    {
     "name": "stdout",
     "output_type": "stream",
     "text": [
      "<xarray.DataArray 'z_rho' (s_rho: 50, eta_rho: 1602, xi_rho: 2002)>\n",
      "array([[[-5.233859e+03, -5.229779e+03, ..., -4.822513e+03, -4.849863e+03],\n",
      "        [-5.228435e+03, -5.225364e+03, ..., -4.771928e+03, -4.818311e+03],\n",
      "        ...,\n",
      "        [-3.876936e+01, -3.872557e+01, ..., -5.158374e+01, -5.162989e+01],\n",
      "        [-3.832301e+01, -3.829179e+01, ..., -5.146575e+01, -5.151167e+01]],\n",
      "\n",
      "       [[-4.977100e+03, -4.973226e+03, ..., -4.586569e+03, -4.612535e+03],\n",
      "        [-4.971951e+03, -4.969035e+03, ..., -4.538543e+03, -4.582580e+03],\n",
      "        ...,\n",
      "        [-3.786456e+01, -3.782194e+01, ..., -5.032653e+01, -5.037136e+01],\n",
      "        [-3.743013e+01, -3.739974e+01, ..., -5.021189e+01, -5.025650e+01]],\n",
      "\n",
      "       ...,\n",
      "\n",
      "       [[-8.677816e+00, -8.677074e+00, ..., -8.619758e+00, -8.625111e+00],\n",
      "        [-8.676829e+00, -8.676263e+00, ..., -8.609783e+00, -8.618933e+00],\n",
      "        ...,\n",
      "        [-1.596205e+00, -1.595172e+00, ..., -1.943701e+00, -1.944717e+00],\n",
      "        [-1.585553e+00, -1.584807e+00, ..., -1.941083e+00, -1.942100e+00]],\n",
      "\n",
      "       [[-2.574471e+00, -2.574310e+00, ..., -2.576933e+00, -2.578137e+00],\n",
      "        [-2.574257e+00, -2.574129e+00, ..., -2.574683e+00, -2.576747e+00],\n",
      "        ...,\n",
      "        [-9.123329e-01, -9.119957e-01, ..., -1.064498e+00, -1.064832e+00],\n",
      "        [-9.087842e-01, -9.085357e-01, ..., -1.063622e+00, -1.063961e+00]]])\n",
      "Coordinates:\n",
      "  * s_rho    (s_rho) float32 -0.99 -0.97 -0.95 -0.93 -0.91 -0.89 -0.87 -0.85 ...\n",
      "Dimensions without coordinates: eta_rho, xi_rho\n"
     ]
    }
   ],
   "source": [
    "lon, lat = grd['lon_rho'], grd['lat_rho']\n",
    "h, zeta = grd['h'], ds['zeta']\n",
    "z = grd.get_z(zeta, h, name='z_rho')\n",
    "#\n",
    "h_u, zeta_u = rho2u(h), rho2u(zeta)\n",
    "z_u = grd.get_z(zeta_u, h_u, name='z_u')\n",
    "#\n",
    "h_v, zeta_v = rho2v(h), rho2v(zeta)\n",
    "z_v = grd.get_z(zeta_v, h_v, name='z_v')\n",
    "#\n",
    "z_w = grd.get_z(zeta, h, sc=grd.sc_w, cs=grd.Cs_w,name='z_w')\n",
    "#\n",
    "print(z)\n",
    "#print(z, z_u, z_v)"
   ]
  },
  {
   "cell_type": "code",
   "execution_count": 5,
   "metadata": {},
   "outputs": [
    {
     "name": "stdout",
     "output_type": "stream",
     "text": [
      "<xarray.DataArray 'z' (s_rho: 50)>\n",
      "array([-5.029471e+03, -4.783056e+03, -4.514622e+03, -4.230537e+03,\n",
      "       -3.937379e+03, -3.641442e+03, -3.348362e+03, -3.062902e+03,\n",
      "       -2.788852e+03, -2.529029e+03, -2.285353e+03, -2.058951e+03,\n",
      "       -1.850290e+03, -1.659311e+03, -1.485549e+03, -1.328250e+03,\n",
      "       -1.186459e+03, -1.059103e+03, -9.450490e+02, -8.431484e+02,\n",
      "       -7.522753e+02, -6.713478e+02, -5.993451e+02, -5.353164e+02,\n",
      "       -4.783862e+02, -4.277551e+02, -3.826989e+02, -3.425653e+02,\n",
      "       -3.067701e+02, -2.747922e+02, -2.461687e+02, -2.204896e+02,\n",
      "       -1.973930e+02, -1.765603e+02, -1.577117e+02, -1.406019e+02,\n",
      "       -1.250165e+02, -1.107688e+02, -9.769604e+01, -8.565745e+01,\n",
      "       -7.453135e+01, -6.421314e+01, -5.461349e+01, -4.565669e+01,\n",
      "       -3.727929e+01, -2.942893e+01, -2.206340e+01, -1.514982e+01,\n",
      "       -8.664080e+00, -2.590330e+00])\n",
      "Coordinates:\n",
      "  * s_rho    (s_rho) float32 -0.99 -0.97 -0.95 -0.93 -0.91 -0.89 -0.87 -0.85 ...\n"
     ]
    },
    {
     "data": {
      "image/png": "[encoded data removed]",
      "text/plain": [
       "<Figure size 432x288 with 1 Axes>"
      ]
     },
     "metadata": {},
     "output_type": "display_data"
    }
   ],
   "source": [
    "# select one depth profile\n",
    "ilon, ilat = int(grd.Lp/2),0\n",
    "z_uni = z.isel(xi_rho=ilon, eta_rho=ilat).rename('z')\n",
    "z_uni.plot(marker='.')\n",
    "print(z_uni)"
   ]
  },
  {
   "cell_type": "markdown",
   "metadata": {},
   "source": [
    "--- \n",
    "\n",
    "## on native grids"
   ]
  },
  {
   "cell_type": "code",
   "execution_count": 6,
   "metadata": {},
   "outputs": [],
   "source": [
    "def store(v, fname):\n",
    "    v.to_dataset().to_netcdf('/home1/datawork/aponte/cognac/isl/'+fname,  mode='w', \n",
    "                             encoding={v.name: {'dtype': 'float32'}})"
   ]
  },
  {
   "cell_type": "code",
   "execution_count": 7,
   "metadata": {},
   "outputs": [
    {
     "name": "stderr",
     "output_type": "stream",
     "text": [
      "/home1/datahome/aponte/.miniconda3/envs/cognac/lib/python3.6/site-packages/dask/utils.py:1010: UserWarning: Deprecated, see dask.base.get_scheduler instead\n",
      "  warnings.warn(\"Deprecated, see dask.base.get_scheduler instead\")\n",
      "/home1/datahome/aponte/.miniconda3/envs/cognac/lib/python3.6/site-packages/distributed/utils.py:128: RuntimeWarning: Couldn't detect a suitable IP address for reaching '8.8.8.8', defaulting to '127.0.0.1': [Errno 101] Network is unreachable\n",
      "  % (host, default, e), RuntimeWarning)\n",
      "/home1/datahome/aponte/.miniconda3/envs/cognac/lib/python3.6/site-packages/dask/utils.py:1010: UserWarning: Deprecated, see dask.base.get_scheduler instead\n",
      "  warnings.warn(\"Deprecated, see dask.base.get_scheduler instead\")\n"
     ]
    }
   ],
   "source": [
    "store(ds.u, 'u.nc')\n",
    "store(z_u, 'z_u.nc')"
   ]
  },
  {
   "cell_type": "code",
   "execution_count": 8,
   "metadata": {},
   "outputs": [
    {
     "name": "stderr",
     "output_type": "stream",
     "text": [
      "/home1/datahome/aponte/.miniconda3/envs/cognac/lib/python3.6/site-packages/dask/utils.py:1010: UserWarning: Deprecated, see dask.base.get_scheduler instead\n",
      "  warnings.warn(\"Deprecated, see dask.base.get_scheduler instead\")\n"
     ]
    }
   ],
   "source": [
    "store(ds.v, 'v.nc')\n",
    "store(z_v, 'z_v.nc')"
   ]
  },
  {
   "cell_type": "code",
   "execution_count": 9,
   "metadata": {},
   "outputs": [
    {
     "name": "stderr",
     "output_type": "stream",
     "text": [
      "/home1/datahome/aponte/.miniconda3/envs/cognac/lib/python3.6/site-packages/dask/utils.py:1010: UserWarning: Deprecated, see dask.base.get_scheduler instead\n",
      "  warnings.warn(\"Deprecated, see dask.base.get_scheduler instead\")\n"
     ]
    }
   ],
   "source": [
    "store(ds.omega, 'omega.nc')\n",
    "store(z_w, 'z_w.nc')"
   ]
  },
  {
   "cell_type": "code",
   "execution_count": 10,
   "metadata": {},
   "outputs": [],
   "source": [
    "T, S = ds['temp'], ds['salt']\n",
    "T['s_rho'] = z.s_rho # should be fixed upstream\n",
    "S['s_rho'] = z.s_rho # should be fixed upstream"
   ]
  },
  {
   "cell_type": "code",
   "execution_count": 11,
   "metadata": {},
   "outputs": [],
   "source": [
    "# compute acoustic celerity\n",
    "c = xr.apply_ufunc(get_soundc, T, S, z, lon, lat, dask='parallelized', output_dtypes=[float])\n",
    "c = c.rename('acelerity')"
   ]
  },
  {
   "cell_type": "code",
   "execution_count": 12,
   "metadata": {},
   "outputs": [
    {
     "name": "stderr",
     "output_type": "stream",
     "text": [
      "/home1/datahome/aponte/.miniconda3/envs/cognac/lib/python3.6/site-packages/dask/utils.py:1010: UserWarning: Deprecated, see dask.base.get_scheduler instead\n",
      "  warnings.warn(\"Deprecated, see dask.base.get_scheduler instead\")\n"
     ]
    }
   ],
   "source": [
    "store(c, 'c.nc')\n",
    "store(z, 'z_rho.nc')"
   ]
  },
  {
   "cell_type": "code",
   "execution_count": null,
   "metadata": {},
   "outputs": [],
   "source": []
  },
  {
   "cell_type": "code",
   "execution_count": null,
   "metadata": {},
   "outputs": [],
   "source": []
  },
  {
   "cell_type": "code",
   "execution_count": null,
   "metadata": {},
   "outputs": [],
   "source": []
  },
  {
   "cell_type": "code",
   "execution_count": null,
   "metadata": {},
   "outputs": [],
   "source": []
  },
  {
   "cell_type": "code",
   "execution_count": null,
   "metadata": {},
   "outputs": [],
   "source": []
  },
  {
   "cell_type": "code",
   "execution_count": null,
   "metadata": {},
   "outputs": [],
   "source": []
  },
  {
   "cell_type": "code",
   "execution_count": 6,
   "metadata": {},
   "outputs": [
    {
     "data": {
      "text/plain": [
       "<matplotlib.collections.QuadMesh at 0x2aaae6d13390>"
      ]
     },
     "execution_count": 6,
     "metadata": {},
     "output_type": "execute_result"
    },
    {
     "data": {
      "image/png": "[encoded data removed]",
      "text/plain": [
       "<Figure size 432x288 with 2 Axes>"
      ]
     },
     "metadata": {},
     "output_type": "display_data"
    }
   ],
   "source": [
    "z_u.isel(s_rho=0).plot()"
   ]
  },
  {
   "cell_type": "code",
   "execution_count": 6,
   "metadata": {},
   "outputs": [],
   "source": [
    "#ds = xr.open_dataset(ofile, chunks={'s_rho': 2}).isel(time=it)\n",
    "#u, v, omega = ds['u'], ds['v'], ds['omega']\n",
    "#T, S, u, v, omega = ds['temp'], ds['salt'], ds['u'], ds['v'], ds['omega']\n",
    "# fix indices\n",
    "#T['s_rho'] = z.s_rho # should be fixed upstream\n",
    "#S['s_rho'] = z.s_rho # should be fixed upstream\n",
    "u['s_rho'] = z.s_rho # should be fixed upstream\n",
    "v['s_rho'] = z.s_rho # should be fixed upstream\n",
    "#omega['s_rho'] = z.s_rho # should be fixed upstream"
   ]
  },
  {
   "cell_type": "code",
   "execution_count": 7,
   "metadata": {},
   "outputs": [
    {
     "name": "stdout",
     "output_type": "stream",
     "text": [
      "<xarray.Dataset>\n",
      "Dimensions:     (auxil: 4, eta_rho: 1602, eta_v: 1601, s_rho: 50, s_w: 51, xi_rho: 2002, xi_u: 2001)\n",
      "Coordinates:\n",
      "    time        float32 64802000.0\n",
      "Dimensions without coordinates: auxil, eta_rho, eta_v, s_rho, s_w, xi_rho, xi_u\n",
      "Data variables:\n",
      "    time_step   (auxil) int32 dask.array<shape=(4,), chunksize=(4,)>\n",
      "    scrum_time  float32 dask.array<shape=(), chunksize=()>\n",
      "    zeta        (eta_rho, xi_rho) float32 dask.array<shape=(1602, 2002), chunksize=(1602, 2002)>\n",
      "    ubar        (eta_rho, xi_u) float32 dask.array<shape=(1602, 2001), chunksize=(1602, 2001)>\n",
      "    vbar        (eta_v, xi_rho) float32 dask.array<shape=(1601, 2002), chunksize=(1601, 2002)>\n",
      "    u           (s_rho, eta_rho, xi_u) float32 dask.array<shape=(50, 1602, 2001), chunksize=(2, 1602, 2001)>\n",
      "    v           (s_rho, eta_v, xi_rho) float32 dask.array<shape=(50, 1601, 2002), chunksize=(2, 1601, 2002)>\n",
      "    temp        (s_rho, eta_rho, xi_rho) float32 dask.array<shape=(50, 1602, 2002), chunksize=(2, 1602, 2002)>\n",
      "    salt        (s_rho, eta_rho, xi_rho) float32 dask.array<shape=(50, 1602, 2002), chunksize=(2, 1602, 2002)>\n",
      "    rho         (s_rho, eta_rho, xi_rho) float32 dask.array<shape=(50, 1602, 2002), chunksize=(2, 1602, 2002)>\n",
      "    omega       (s_w, eta_rho, xi_rho) float32 dask.array<shape=(51, 1602, 2002), chunksize=(51, 1602, 2002)>\n",
      "    hbl         (eta_rho, xi_rho) float32 dask.array<shape=(1602, 2002), chunksize=(1602, 2002)>\n",
      "    hbbl        (eta_rho, xi_rho) float32 dask.array<shape=(1602, 2002), chunksize=(1602, 2002)>\n",
      "Attributes:\n",
      "    partition_ucla:  [  0 448   1   1]\n",
      "    type:            ROMS averages file\n",
      "    title:           NESEC\n",
      "    date:            \n",
      "    rst_file:        chaba_rst.000.nc\n",
      "    his_file:        ./HIS/nesed_his.00060.000.nc\n",
      "    avg_file:        ./HIS/nesed_avg.00060.000.nc\n",
      "    grd_file:        ../NESEA/INIT_28_16/nesea_grd.000.nc\n",
      "    ini_file:        ../NESEA/INIT_28_16/nesea_his.000.nc\n",
      "    frc_file:        ../NESEA/INIT_28_16/nesea_frc.000.nc\n",
      "    VertCoordType:   NEW\n",
      "    skpp:            2005\n",
      "    theta_s:         7.0\n",
      "    theta_s_expl:    S-coordinate surface control parameter\n",
      "    theta_b:         2.0\n",
      "    theta_b_expl:    S-coordinate bottom control parameter\n",
      "    Tcline:          300.0\n",
      "    Tcline_expl:     S-coordinate surface/bottom layer width\n",
      "    Tcline_units:    meter\n",
      "    hc:              300.0\n",
      "    hc_expl:         S-coordinate parameter, critical depth\n",
      "    hc_units:        meter\n",
      "    sc_w:            [-1.   -0.98 -0.96 -0.94 -0.92 -0.9  -0.88 -0.86 -0.84 -...\n",
      "    sc_w_expl:       S-coordinate at W-points\n",
      "    Cs_w:            [-1.0000000e+00 -9.5316756e-01 -9.0120399e-01 -8.4535152...\n",
      "    Cs_w_expl:       S-coordinate stretching curves at W-points\n",
      "    sc_r:            [-0.99 -0.97 -0.95 -0.93 -0.91 -0.89 -0.87 -0.85 -0.83 -...\n",
      "    sc_r_expl:       S-coordinate at W-points\n",
      "    Cs_r:            [-9.77295160e-01 -9.27753448e-01 -8.73680711e-01 -8.1638...\n",
      "    Cs_r_expl:       S-coordinate stretching curves at RHO-points\n",
      "    ntimes:          10072000\n",
      "    ndtfast:         60\n",
      "    dt:              60.0\n",
      "    dtfast:          1.0\n",
      "    nwrt:            60\n",
      "    ntsavg:          1\n",
      "    ntsavg_expl:     starting time-step for accumulation of time-averaged fields\n",
      "    navg:            60\n",
      "    navg_expl:       number of time-steps between time-averaged records\n",
      "    Zob:             0.01\n",
      "    Zob_expl:        VonKarman/Prandtl log layer : roughness scale\n",
      "    Zob_units:       meter\n",
      "    Cdb_max:         0.1\n",
      "    Cdb_min:         1e-04\n",
      "    Cdb_expl:        Range of quadratic drag coefficientr\n",
      "    rho0:            1027.4\n",
      "    rho0_expl:       Mean density used in Boussinesq approximation\n",
      "    rho0_units:      kilogram meter-3\n",
      "    gamma2:          1.0\n",
      "    gamma2_expl:     Slipperiness parameter\n",
      "    x_sponge:        0.0\n",
      "    v_sponge:        0.0\n",
      "    sponge_expl:     Sponge parameters : extent (m) & viscosity (m2.s-1)\n",
      "    SRCS:            main.F step.F read_inp.F timers_roms.F init_scalars.F in...\n",
      "    CPPS:            REGIONAL NESEA MPI OBC_EAST OBC_WEST OBC_NORTH OBC_SOUTH...\n"
     ]
    }
   ],
   "source": [
    "print(ds)"
   ]
  },
  {
   "cell_type": "code",
   "execution_count": 8,
   "metadata": {},
   "outputs": [
    {
     "name": "stdout",
     "output_type": "stream",
     "text": [
      "<xarray.DataArray 'omega' (s_rho: 50, eta_rho: 1602, xi_rho: 2002)>\n",
      "dask.array<shape=(50, 1602, 2002), dtype=float32, chunksize=(50, 1602, 2002)>\n",
      "Coordinates:\n",
      "    time     float32 64802000.0\n",
      "Dimensions without coordinates: s_rho, eta_rho, xi_rho\n"
     ]
    }
   ],
   "source": [
    "# interpolate u,v, w at rho points\n",
    "lu = u.rename({'xi_u': 'xi_rho'})\n",
    "u = xr.concat([lu.isel(xi_rho=0), \n",
    "                ((lu.shift(xi_rho=1)+lu)*.5).isel(xi_rho=slice(1,None)), \n",
    "                lu.isel(xi_rho=-1)], dim='xi_rho', compat='equals')\n",
    "#\n",
    "lv = v.rename({'eta_v': 'eta_rho'})\n",
    "v = xr.concat([lv.isel(eta_rho=0), \n",
    "                ((lv.shift(eta_rho=1)+lv)*.5).isel(eta_rho=slice(1,None)), \n",
    "                lv.isel(eta_rho=-1)], dim='eta_rho', compat='equals')\n",
    "#\n",
    "lomega = omega.rename({'s_w': 's_rho'})\n",
    "omega = ((lomega.shift(s_rho=1)+lomega)*.5).isel(s_rho=slice(1,None))\n",
    "#\n",
    "print(omega)"
   ]
  },
  {
   "cell_type": "code",
   "execution_count": 9,
   "metadata": {},
   "outputs": [],
   "source": [
    "# compute acoustic celerity\n",
    "c = xr.apply_ufunc(get_soundc, T, S, z, lon, lat, dask='parallelized', output_dtypes=[float])\n",
    "c = c.rename('acelerity')"
   ]
  },
  {
   "cell_type": "code",
   "execution_count": 10,
   "metadata": {},
   "outputs": [
    {
     "name": "stdout",
     "output_type": "stream",
     "text": [
      "<xarray.Dataset>\n",
      "Dimensions:    (eta_rho: 1602, s_rho: 50, xi_rho: 2002)\n",
      "Coordinates:\n",
      "  * s_rho      (s_rho) float64 -0.99 -0.97 -0.95 -0.93 -0.91 -0.89 -0.87 ...\n",
      "    time       float32 64802000.0\n",
      "Dimensions without coordinates: eta_rho, xi_rho\n",
      "Data variables:\n",
      "    u          (s_rho, eta_rho, xi_rho) float32 dask.array<shape=(50, 1602, 2002), chunksize=(2, 1602, 1)>\n",
      "    v          (s_rho, xi_rho, eta_rho) float32 dask.array<shape=(50, 2002, 1602), chunksize=(2, 2002, 1)>\n",
      "    omega      (s_rho, eta_rho, xi_rho) float32 dask.array<shape=(50, 1602, 2002), chunksize=(50, 1602, 2002)>\n",
      "    acelerity  (s_rho, eta_rho, xi_rho) float64 dask.array<shape=(50, 1602, 2002), chunksize=(2, 1602, 2002)>\n",
      "    z          (s_rho, eta_rho, xi_rho) float64 dask.array<shape=(50, 1602, 2002), chunksize=(50, 1602, 2002)>\n"
     ]
    },
    {
     "name": "stderr",
     "output_type": "stream",
     "text": [
      "/home1/datahome/aponte/.miniconda3/envs/cognac/lib/python3.6/site-packages/dask/utils.py:1010: UserWarning: Deprecated, see dask.base.get_scheduler instead\n",
      "  warnings.warn(\"Deprecated, see dask.base.get_scheduler instead\")\n",
      "/home1/datahome/aponte/.miniconda3/envs/cognac/lib/python3.6/site-packages/distributed/utils.py:128: RuntimeWarning: Couldn't detect a suitable IP address for reaching '8.8.8.8', defaulting to '127.0.0.1': [Errno 101] Network is unreachable\n",
      "  % (host, default, e), RuntimeWarning)\n"
     ]
    },
    {
     "ename": "ValueError",
     "evalue": "inconsistent chunks",
     "output_type": "error",
     "traceback": [
      "\u001b[0;31m---------------------------------------------------------------------------\u001b[0m",
      "\u001b[0;31mValueError\u001b[0m                                Traceback (most recent call last)",
      "\u001b[0;32m<ipython-input-10-21239e93f052>\u001b[0m in \u001b[0;36m<module>\u001b[0;34m()\u001b[0m\n\u001b[1;32m      3\u001b[0m \u001b[0;31m#sds = sds.chunk({'xi_rho': 10, 'eta_rho': None})\u001b[0m\u001b[0;34m\u001b[0m\u001b[0;34m\u001b[0m\u001b[0m\n\u001b[1;32m      4\u001b[0m \u001b[0mprint\u001b[0m\u001b[0;34m(\u001b[0m\u001b[0msds\u001b[0m\u001b[0;34m)\u001b[0m\u001b[0;34m\u001b[0m\u001b[0m\n\u001b[0;32m----> 5\u001b[0;31m \u001b[0msds\u001b[0m\u001b[0;34m.\u001b[0m\u001b[0mto_netcdf\u001b[0m\u001b[0;34m(\u001b[0m\u001b[0;34m'/home1/datawork/aponte/cognac/isl/uvomega.nc'\u001b[0m\u001b[0;34m,\u001b[0m  \u001b[0mmode\u001b[0m\u001b[0;34m=\u001b[0m\u001b[0;34m'w'\u001b[0m\u001b[0;34m)\u001b[0m\u001b[0;34m\u001b[0m\u001b[0m\n\u001b[0m\u001b[1;32m      6\u001b[0m \u001b[0mprint\u001b[0m\u001b[0;34m(\u001b[0m\u001b[0msds\u001b[0m\u001b[0;34m)\u001b[0m\u001b[0;34m\u001b[0m\u001b[0m\n",
      "\u001b[0;32m~/.miniconda3/envs/cognac/lib/python3.6/site-packages/xarray/core/dataset.py\u001b[0m in \u001b[0;36mto_netcdf\u001b[0;34m(self, path, mode, format, group, engine, encoding, unlimited_dims, compute)\u001b[0m\n\u001b[1;32m   1148\u001b[0m                          \u001b[0mengine\u001b[0m\u001b[0;34m=\u001b[0m\u001b[0mengine\u001b[0m\u001b[0;34m,\u001b[0m \u001b[0mencoding\u001b[0m\u001b[0;34m=\u001b[0m\u001b[0mencoding\u001b[0m\u001b[0;34m,\u001b[0m\u001b[0;34m\u001b[0m\u001b[0m\n\u001b[1;32m   1149\u001b[0m                          \u001b[0munlimited_dims\u001b[0m\u001b[0;34m=\u001b[0m\u001b[0munlimited_dims\u001b[0m\u001b[0;34m,\u001b[0m\u001b[0;34m\u001b[0m\u001b[0m\n\u001b[0;32m-> 1150\u001b[0;31m                          compute=compute)\n\u001b[0m\u001b[1;32m   1151\u001b[0m \u001b[0;34m\u001b[0m\u001b[0m\n\u001b[1;32m   1152\u001b[0m     def to_zarr(self, store=None, mode='w-', synchronizer=None, group=None,\n",
      "\u001b[0;32m~/.miniconda3/envs/cognac/lib/python3.6/site-packages/xarray/backends/api.py\u001b[0m in \u001b[0;36mto_netcdf\u001b[0;34m(dataset, path_or_file, mode, format, group, engine, writer, encoding, unlimited_dims, compute)\u001b[0m\n\u001b[1;32m    701\u001b[0m     \u001b[0;31m# handle scheduler specific logic\u001b[0m\u001b[0;34m\u001b[0m\u001b[0;34m\u001b[0m\u001b[0m\n\u001b[1;32m    702\u001b[0m     \u001b[0mscheduler\u001b[0m \u001b[0;34m=\u001b[0m \u001b[0mget_scheduler\u001b[0m\u001b[0;34m(\u001b[0m\u001b[0;34m)\u001b[0m\u001b[0;34m\u001b[0m\u001b[0m\n\u001b[0;32m--> 703\u001b[0;31m     if (dataset.chunks and scheduler in ['distributed', 'multiprocessing'] and\n\u001b[0m\u001b[1;32m    704\u001b[0m             engine != 'netcdf4'):\n\u001b[1;32m    705\u001b[0m         raise NotImplementedError(\"Writing netCDF files with the %s backend \"\n",
      "\u001b[0;32m~/.miniconda3/envs/cognac/lib/python3.6/site-packages/xarray/core/dataset.py\u001b[0m in \u001b[0;36mchunks\u001b[0;34m(self)\u001b[0m\n\u001b[1;32m   1237\u001b[0m                 \u001b[0;32mfor\u001b[0m \u001b[0mdim\u001b[0m\u001b[0;34m,\u001b[0m \u001b[0mc\u001b[0m \u001b[0;32min\u001b[0m \u001b[0mzip\u001b[0m\u001b[0;34m(\u001b[0m\u001b[0mv\u001b[0m\u001b[0;34m.\u001b[0m\u001b[0mdims\u001b[0m\u001b[0;34m,\u001b[0m \u001b[0mv\u001b[0m\u001b[0;34m.\u001b[0m\u001b[0mchunks\u001b[0m\u001b[0;34m)\u001b[0m\u001b[0;34m:\u001b[0m\u001b[0;34m\u001b[0m\u001b[0m\n\u001b[1;32m   1238\u001b[0m                     \u001b[0;32mif\u001b[0m \u001b[0mdim\u001b[0m \u001b[0;32min\u001b[0m \u001b[0mchunks\u001b[0m \u001b[0;32mand\u001b[0m \u001b[0mc\u001b[0m \u001b[0;34m!=\u001b[0m \u001b[0mchunks\u001b[0m\u001b[0;34m[\u001b[0m\u001b[0mdim\u001b[0m\u001b[0;34m]\u001b[0m\u001b[0;34m:\u001b[0m\u001b[0;34m\u001b[0m\u001b[0m\n\u001b[0;32m-> 1239\u001b[0;31m                         \u001b[0;32mraise\u001b[0m \u001b[0mValueError\u001b[0m\u001b[0;34m(\u001b[0m\u001b[0;34m'inconsistent chunks'\u001b[0m\u001b[0;34m)\u001b[0m\u001b[0;34m\u001b[0m\u001b[0m\n\u001b[0m\u001b[1;32m   1240\u001b[0m                     \u001b[0mchunks\u001b[0m\u001b[0;34m[\u001b[0m\u001b[0mdim\u001b[0m\u001b[0;34m]\u001b[0m \u001b[0;34m=\u001b[0m \u001b[0mc\u001b[0m\u001b[0;34m\u001b[0m\u001b[0m\n\u001b[1;32m   1241\u001b[0m         \u001b[0;32mreturn\u001b[0m \u001b[0mFrozen\u001b[0m\u001b[0;34m(\u001b[0m\u001b[0mSortedKeysDict\u001b[0m\u001b[0;34m(\u001b[0m\u001b[0mchunks\u001b[0m\u001b[0;34m)\u001b[0m\u001b[0;34m)\u001b[0m\u001b[0;34m\u001b[0m\u001b[0m\n",
      "\u001b[0;31mValueError\u001b[0m: inconsistent chunks"
     ]
    }
   ],
   "source": [
    "# store to netcdf file\n",
    "sds = xr.merge([u, v, omega, c, z])\n",
    "#sds = sds.chunk({'xi_rho': 10, 'eta_rho': None})\n",
    "print(sds)\n",
    "sds.to_netcdf('/home1/datawork/aponte/cognac/isl/uvomega.nc',  mode='w')\n",
    "print(sds)"
   ]
  },
  {
   "cell_type": "markdown",
   "metadata": {},
   "source": [
    "---\n",
    "\n",
    "## Computes sound celerity now on horizontally uniform vertical grid"
   ]
  },
  {
   "cell_type": "code",
   "execution_count": null,
   "metadata": {},
   "outputs": [],
   "source": []
  },
  {
   "cell_type": "code",
   "execution_count": 5,
   "metadata": {},
   "outputs": [],
   "source": [
    "# chunk along one dimension\n",
    "grd._ds = grd._ds.chunk({'xi_rho':10})\n",
    "#ds = ds.chunk({'xi_rho':1})"
   ]
  },
  {
   "cell_type": "code",
   "execution_count": 9,
   "metadata": {},
   "outputs": [],
   "source": [
    "T, S, u, v, omega = ds['temp'], ds['salt'], ds['u'], ds['v'], ds['omega']\n",
    "# fix indices\n",
    "T['s_rho'] = z.s_rho # should be fixed upstream\n",
    "S['s_rho'] = z.s_rho # should be fixed upstream"
   ]
  },
  {
   "cell_type": "code",
   "execution_count": 10,
   "metadata": {},
   "outputs": [
    {
     "name": "stdout",
     "output_type": "stream",
     "text": [
      "<xarray.DataArray (s_rho: 50, eta_rho: 1602, xi_rho: 2002)>\n",
      "dask.array<shape=(50, 1602, 2002), dtype=float64, chunksize=(50, 1602, 10)>\n",
      "Coordinates:\n",
      "    time     float32 64802000.0\n",
      "  * s_rho    (s_rho) float32 -0.99 -0.97 -0.95 -0.93 -0.91 -0.89 -0.87 -0.85 ...\n",
      "Dimensions without coordinates: eta_rho, xi_rho\n"
     ]
    }
   ],
   "source": [
    "T_uni = xr.apply_ufunc(interp2z, z_uni+0.*z, z, T, dask='parallelized', output_dtypes=[float])\n",
    "S_uni = xr.apply_ufunc(interp2z, z_uni+0.*z, z, S, dask='parallelized', output_dtypes=[float])\n",
    "u_uni = xr.apply_ufunc(interp2z, z_uni+0.*z, z, u, dask='parallelized', output_dtypes=[float]).rename('u')\n",
    "v_uni = xr.apply_ufunc(interp2z, z_uni+0.*z, z, v, dask='parallelized', output_dtypes=[float]).rename('v')\n",
    "omega_uni = xr.apply_ufunc(interp2z, z_uni+0.*z, z, omega, dask='parallelized', output_dtypes=[float]).rename('omega')\n",
    "print(T_uni)"
   ]
  },
  {
   "cell_type": "code",
   "execution_count": 11,
   "metadata": {},
   "outputs": [],
   "source": [
    "# compute acoustic celerity\n",
    "c = xr.apply_ufunc(get_soundc, T_uni, S_uni, z_uni+0.*z, lon, lat, dask='parallelized', output_dtypes=[float])\n",
    "c = c.rename('acelerity')"
   ]
  },
  {
   "cell_type": "code",
   "execution_count": 12,
   "metadata": {},
   "outputs": [
    {
     "name": "stdout",
     "output_type": "stream",
     "text": [
      "<xarray.DataArray 'acelerity' (s_rho: 50, eta_rho: 1602, xi_rho: 2002)>\n",
      "dask.array<shape=(50, 1602, 2002), dtype=float64, chunksize=(50, 1602, 10)>\n",
      "Coordinates:\n",
      "    time     float32 64802000.0\n",
      "  * s_rho    (s_rho) float32 -0.99 -0.97 -0.95 -0.93 -0.91 -0.89 -0.87 -0.85 ...\n",
      "Dimensions without coordinates: eta_rho, xi_rho\n"
     ]
    }
   ],
   "source": [
    "print(c)"
   ]
  },
  {
   "cell_type": "code",
   "execution_count": 14,
   "metadata": {},
   "outputs": [
    {
     "data": {
      "text/plain": [
       "<matplotlib.collections.QuadMesh at 0x2aaad0b206d8>"
      ]
     },
     "execution_count": 14,
     "metadata": {},
     "output_type": "execute_result"
    },
    {
     "data": {
      "image/png": "[encoded data removed]",
      "text/plain": [
       "<Figure size 432x288 with 2 Axes>"
      ]
     },
     "metadata": {},
     "output_type": "display_data"
    }
   ],
   "source": [
    "c.isel(xi_rho=10).plot()"
   ]
  },
  {
   "cell_type": "code",
   "execution_count": null,
   "metadata": {},
   "outputs": [
    {
     "name": "stdout",
     "output_type": "stream",
     "text": [
      "<xarray.Dataset>\n",
      "Dimensions:    (eta_rho: 1602, s_rho: 50, xi_rho: 2002)\n",
      "Coordinates:\n",
      "    time       float32 64802000.0\n",
      "  * s_rho      (s_rho) float32 -0.99 -0.97 -0.95 -0.93 -0.91 -0.89 -0.87 ...\n",
      "Dimensions without coordinates: eta_rho, xi_rho\n",
      "Data variables:\n",
      "    u          (s_rho, eta_rho, xi_rho) float64 dask.array<shape=(50, 1602, 2002), chunksize=(50, 1602, 10)>\n",
      "    v          (s_rho, eta_rho, xi_rho) float64 dask.array<shape=(50, 1602, 2002), chunksize=(50, 1602, 10)>\n",
      "    omega      (s_rho, eta_rho, xi_rho) float64 dask.array<shape=(50, 1602, 2002), chunksize=(50, 1602, 10)>\n",
      "    acelerity  (s_rho, eta_rho, xi_rho) float64 dask.array<shape=(50, 1602, 2002), chunksize=(50, 1602, 10)>\n",
      "    z          (s_rho) float64 dask.array<shape=(50,), chunksize=(50,)>\n"
     ]
    },
    {
     "name": "stderr",
     "output_type": "stream",
     "text": [
      "/home1/datahome/aponte/.miniconda3/envs/cognac/lib/python3.6/site-packages/dask/utils.py:1010: UserWarning: Deprecated, see dask.base.get_scheduler instead\n",
      "  warnings.warn(\"Deprecated, see dask.base.get_scheduler instead\")\n"
     ]
    }
   ],
   "source": [
    "# store to netcdf file\n",
    "sds = xr.merge([u_uni, v_uni, omega_uni, c, z_uni])\n",
    "sds = sds.chunk({'xi_rho': 10, 'eta_rho': None})\n",
    "print(sds)\n",
    "sds.to_netcdf('/home1/datawork/aponte/cognac/isl/uvomegac.nc',  mode='w')\n",
    "print(sds)"
   ]
  },
  {
   "cell_type": "code",
   "execution_count": 17,
   "metadata": {},
   "outputs": [
    {
     "name": "stdout",
     "output_type": "stream",
     "text": [
      "<xarray.DataArray 'u' (s_rho: 50, eta_rho: 1602, xi_rho: 2002)>\n",
      "dask.array<shape=(50, 1602, 2002), dtype=float32, chunksize=(50, 1602, 1)>\n",
      "Coordinates:\n",
      "    time     float32 64802000.0\n",
      "  * s_rho    (s_rho) float32 -0.99 -0.97 -0.95 -0.93 -0.91 -0.89 -0.87 -0.85 ...\n",
      "Dimensions without coordinates: eta_rho, xi_rho\n",
      "<xarray.DataArray 'u' (s_rho: 50, eta_rho: 1602, xi_rho: 2002)>\n",
      "dask.array<shape=(50, 1602, 2002), dtype=float64, chunksize=(50, 1602, 1)>\n",
      "Coordinates:\n",
      "    time     float32 64802000.0\n",
      "  * s_rho    (s_rho) float32 -0.99 -0.97 -0.95 -0.93 -0.91 -0.89 -0.87 -0.85 ...\n",
      "Dimensions without coordinates: eta_rho, xi_rho\n"
     ]
    }
   ],
   "source": [
    "print(u)\n",
    "print(u_uni)"
   ]
  },
  {
   "cell_type": "markdown",
   "metadata": {},
   "source": [
    "---\n",
    "\n",
    "---\n",
    "\n",
    "---"
   ]
  },
  {
   "cell_type": "code",
   "execution_count": null,
   "metadata": {},
   "outputs": [],
   "source": []
  }
 ],
 "metadata": {
  "kernelspec": {
   "display_name": "Python 3",
   "language": "python",
   "name": "python3"
  },
  "language_info": {
   "codemirror_mode": {
    "name": "ipython",
    "version": 3
   },
   "file_extension": ".py",
   "mimetype": "text/x-python",
   "name": "python",
   "nbconvert_exporter": "python",
   "pygments_lexer": "ipython3",
   "version": "3.6.5"
  }
 },
 "nbformat": 4,
 "nbformat_minor": 2
}
