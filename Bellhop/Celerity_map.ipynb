{
 "cells": [
  {
   "cell_type": "code",
   "execution_count": 1,
   "metadata": {},
   "outputs": [],
   "source": [
    "# this enable automatic reloading of libraries\n",
    "%load_ext autoreload\n",
    "%autoreload 2\n",
    "\n",
    "from clib.bellhop import *\n",
    "import subprocess\n",
    "import numpy as np\n",
    "import matplotlib.pyplot as plt\n",
    "import warnings\n",
    "warnings.filterwarnings(action='ignore')"
   ]
  },
  {
   "cell_type": "markdown",
   "metadata": {},
   "source": [
    "# Celerity profile selection"
   ]
  },
  {
   "cell_type": "code",
   "execution_count": 2,
   "metadata": {},
   "outputs": [],
   "source": [
    "s = bellhop({'mediterrannee': './SSP_4profils.mat'},name='cognac_cmap',rmax=50.)\n",
    "#s.params"
   ]
  },
  {
   "cell_type": "code",
   "execution_count": 3,
   "metadata": {},
   "outputs": [
    {
     "data": {
      "image/png": "[encoded data removed]",
      "text/plain": [
       "<Figure size 720x216 with 2 Axes>"
      ]
     },
     "metadata": {},
     "output_type": "display_data"
    }
   ],
   "source": [
    "issp=0   # sound speed profile number\n",
    "s.plotssp('mediterrannee', Issp=issp)"
   ]
  },
  {
   "cell_type": "markdown",
   "metadata": {},
   "source": [
    "# Full arrival calculations on this profile\n",
    "\n",
    "- *Bathymetry* : flat bottom at 2000 m depth\n",
    "\n",
    "- *Source* : one source at 100m depth at range 0km\n",
    "\n",
    "- *Receivers* : **Depth** : from 0 to 500m depth    /    **Range** : from 0 to 10 km "
   ]
  },
  {
   "cell_type": "code",
   "execution_count": 4,
   "metadata": {},
   "outputs": [
    {
     "name": "stdout",
     "output_type": "stream",
     "text": [
      "Output file is : cognac_cmap_A.env\n"
     ]
    }
   ],
   "source": [
    "# Generate .env file A\n",
    "\n",
    "s.params['file_type'] = 'A'           # 'A' : arrivals time and amplitude file (.arr)\n",
    "s.params['zs'] = 100.                 # source depth\n",
    "s.params['ALimites'] = [-90.0, 90.0]  # limit angles\n",
    "\n",
    "s.params['NDepth'] = 501              # number of receiver depths\n",
    "s.params['zmin'] = 0.                 # minimum depth (m)\n",
    "s.params['zmax'] = 500.               # maximum depth (m) (unuseful if NDepth=1)\n",
    "                 \n",
    "\n",
    "s.params['NRange'] = 10001            # number of receiver range    \n",
    "s.params['rmin'] = 0.                 # minimum range (km)\n",
    "s.params['rmax'] = 100.               # maximum range (km) (unuseful if NRange=1)            \n",
    "\n",
    "s.params['zbox'] = 2500.              # box depth limit \n",
    "s.params['rbox'] = 101.               # box range limit \n",
    "\n",
    "s.generate_envfile('mediterrannee',file_env = s.params['name']+'_A.env', Issp=issp, SSP_depth_step=10)\n"
   ]
  },
  {
   "cell_type": "code",
   "execution_count": 5,
   "metadata": {},
   "outputs": [
    {
     "name": "stdout",
     "output_type": "stream",
     "text": [
      "Max.number of arrivals for source index 0 is 10\n"
     ]
    }
   ],
   "source": [
    "Arr, Pos = s.read_arrivals_asc ('files_arr/cognac_2000m_test_A_full.arr', Narrmx = 15)"
   ]
  },
  {
   "cell_type": "code",
   "execution_count": 6,
   "metadata": {},
   "outputs": [
    {
     "name": "stdout",
     "output_type": "stream",
     "text": [
      "number of source depths   : Nsd =  1\n",
      "number of receiver depths : Nrd =  501\n",
      "number of receiver ranges : Nrr =  10001\n"
     ]
    }
   ],
   "source": [
    "Nsd = np.shape(Pos['s']['depth'])[0]\n",
    "Nrd = np.shape(Pos['r']['depth'])[0]\n",
    "Nrr = np.shape(Pos['r']['range'])[0]\n",
    "\n",
    "print('number of source depths   : Nsd = ', Nsd)\n",
    "print('number of receiver depths : Nrd = ', Nrd)\n",
    "print('number of receiver ranges : Nrr = ', Nrr)"
   ]
  },
  {
   "cell_type": "markdown",
   "metadata": {},
   "source": [
    "# Error dC between real and equivalent celerities"
   ]
  },
  {
   "cell_type": "code",
   "execution_count": null,
   "metadata": {},
   "outputs": [],
   "source": [
    "# error dc for all sources (only one here) and all receivers\n",
    "\n",
    "s.params['file_type'] = 'E'          # 'E' : Eigenrays (.ray)\n",
    "s.params['NDepth'] = 1               # number of receiver depths\n",
    "s.params['NRange'] = 1               # number of receiver range   \n",
    "s.params['NBeams'] = 5000 # 20000           # number of beams (if 0, bellhop choose automatically)\n",
    "\n",
    "\n",
    "dstep = 10      # depth step (here 10m)\n",
    "rstep = 100     # range step (here 1km)\n",
    "\n",
    "DC = np.zeros( (int(Nrr/rstep)+1, int(Nrd/dstep)+1, Nsd) )\n",
    "\n",
    "for isd1 in range (Nsd):\n",
    "    print('source number : ', isd1)\n",
    "    for ird1 in range (0,Nrd+1,dstep) :\n",
    "        print('%d/%d' %(ird1,Nrd))\n",
    "        for irr1 in range (0,Nrr+1,rstep) : \n",
    "            Narr = int(Arr['Narr'][irr1, ird1, isd1])\n",
    "            if not Narr ==0 :\n",
    "                \n",
    "                \n",
    "                # Generate .env file E\n",
    "                s.params['zmin'] = Pos['r']['depth'][ird1]          # receiver depth (m)\n",
    "                s.params['rmin'] = Pos['r']['range'][irr1]/1000.    # receiver range (km)          \n",
    "                s.generate_envfile('mediterrannee', file_env = s.params['name']+'_E.env', \\\n",
    "                                   Issp=issp, SSP_depth_step=50)\n",
    "                \n",
    "\n",
    "                # execute bellhop to obtain .ray\n",
    "                print('a')\n",
    "                subprocess.call([\"bellhop.exe\", s.params['name']+'_E'])\n",
    "                print('b')\n",
    "                \n",
    "                # dictE from s.plotE (with plot=False)\n",
    "                dictE = s.plotE (s.params['name']+'_E.ray', plot = False)\n",
    "        \n",
    "                # link between A and E (idx_E)\n",
    "                angles_A = Arr['SrcAngle'][irr1, :Narr, ird1, isd1]\n",
    "                print(\"len angles_A\", len(angles_A))\n",
    "                angles_E = dictE['SrcAngle']\n",
    "                print(\"len angles_E\", len(angles_E))\n",
    "                \n",
    "                if len(angles_E) >= len(angles_A) : \n",
    "                    idx_E = np.zeros_like(angles_A)\n",
    "                    Diff = np.zeros_like(angles_A)\n",
    "\n",
    "                    for i in range (len(angles_A)):\n",
    "                        angle = angles_A[i]\n",
    "                        diff = np.abs(angles_E - angle)\n",
    "                        idx = diff.argmin()\n",
    "                        a = angles_E[idx]\n",
    "\n",
    "                        idx_E[i] = idx \n",
    "                        Diff[i] = angle - a\n",
    "\n",
    "\n",
    "                    #real celerity for arrivals from .arr file\n",
    "                    t = Arr['delay'][irr1, :Narr, ird1, isd1]\n",
    "                    d = dictE['Dist']\n",
    "                    c_real = np.zeros_like(angles_A)\n",
    "                    for i in range (len(c_real)):\n",
    "                        c_real[i] = d[int(idx_E[i])]/t[i]\n",
    "\n",
    "\n",
    "                    # equivalent celerity\n",
    "                    sr = 0.                         # source range(m)\n",
    "                    sd = Pos['s']['depth'][isd1]    # source depth (m)\n",
    "                    rr = Pos['r']['range'][irr1]    #receiver range (m)\n",
    "                    rd = Pos['r']['depth'][ird1]    #receiver depth (m)\n",
    "\n",
    "                    dist_eq = np.sqrt( (rr-sr)**2 + (rd-sd)**2)\n",
    "                    c_eq = dist_eq / t\n",
    "\n",
    "\n",
    "                    # diff of amplitude max\n",
    "                    A = abs(Arr['A'][irr1, :Narr, ird1, isd1]) \n",
    "                    dc = c_real - c_eq\n",
    "                    dc_max = dc [np.where(A==np.max(A))][0]\n",
    "                    DC [int(irr1/rstep), int(ird1/dstep), isd1] = dc_max  \n",
    "                    print(\"La diff de célérité pour le max d'amplitude est de %.2f m/s.\" %dc_max)\n",
    "                    print('La différence entre les angles E et A est de %.2e°.' %Diff[np.where(dc==dc_max)][0])\n",
    "                \n",
    "                else : \n",
    "                    DC [int(irr1/rstep), int(ird1/dstep), isd1] = np.NaN\n",
    "                    print(\"Pas de diff de célérité calculée : pas assez de Eigenrays\")\n",
    "            else : \n",
    "                DC [int(irr1/rstep), int(ird1/dstep), isd1] = np.NaN\n",
    "                print(\"Pas de diff de célérité calculée : pas d'arrivée\")"
   ]
  },
  {
   "cell_type": "code",
   "execution_count": 88,
   "metadata": {},
   "outputs": [
    {
     "data": {
      "image/png": "[encoded data removed]",
      "text/plain": [
       "<Figure size 432x288 with 2 Axes>"
      ]
     },
     "metadata": {},
     "output_type": "display_data"
    }
   ],
   "source": [
    "# PLOT \n",
    "\n",
    "isd = 0    # source number (only 1 source here)\n",
    "R = Pos['r']['range']\n",
    "Z = Pos['r']['depth']\n",
    "\n",
    "r = R [::rstep]\n",
    "z = Z [::dstep]\n",
    "    \n",
    "plt.pcolormesh(r, z, DC[:,:,isd].T, cmap='jet')\n",
    "plt.title ('dc = real celerity - equivalent celerity')\n",
    "plt.xlabel(\"range (m)\")\n",
    "plt.ylabel(\"depth (m)\")\n",
    "cbar = plt.colorbar()\n",
    "cbar.set_label(\"dc(m/s)\")\n",
    "plt.clim ([0,50])\n",
    "plt.gca().invert_yaxis()\n",
    "\n",
    "#plt.xlim(1990,2050)\n",
    "#plt.ylim(ymin = 295, ymax=305)"
   ]
  },
  {
   "cell_type": "code",
   "execution_count": 81,
   "metadata": {},
   "outputs": [],
   "source": [
    "## more than 4h to execute : saving of the array DC\n",
    "\n",
    "np.save('DC_10m_1km', DC)\n",
    "#np.load('DC_10m_1km.npy')"
   ]
  },
  {
   "cell_type": "code",
   "execution_count": null,
   "metadata": {},
   "outputs": [],
   "source": []
  }
 ],
 "metadata": {
  "kernelspec": {
   "display_name": "COGNAC project env",
   "language": "python",
   "name": "cognac"
  },
  "language_info": {
   "codemirror_mode": {
    "name": "ipython",
    "version": 3
   },
   "file_extension": ".py",
   "mimetype": "text/x-python",
   "name": "python",
   "nbconvert_exporter": "python",
   "pygments_lexer": "ipython3",
   "version": "3.6.5"
  }
 },
 "nbformat": 4,
 "nbformat_minor": 2
}
