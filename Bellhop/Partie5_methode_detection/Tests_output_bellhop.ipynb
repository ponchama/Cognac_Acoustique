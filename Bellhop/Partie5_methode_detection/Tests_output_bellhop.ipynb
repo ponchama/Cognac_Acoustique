{
 "cells": [
  {
   "cell_type": "code",
   "execution_count": 1,
   "metadata": {},
   "outputs": [],
   "source": [
    "# this enable automatic reloading of libraries\n",
    "%load_ext autoreload\n",
    "%autoreload 2\n",
    "\n",
    "from clib.flow import *\n",
    "from clib.bellhop import *\n",
    "import subprocess\n",
    "import matplotlib.pyplot as plt\n",
    "import warnings\n",
    "warnings.filterwarnings(action='ignore')"
   ]
  },
  {
   "cell_type": "code",
   "execution_count": 2,
   "metadata": {},
   "outputs": [],
   "source": [
    "s = bellhop({'mediterrannee': '../SSP_4profils.mat'},name='profiles')"
   ]
  },
  {
   "cell_type": "code",
   "execution_count": 206,
   "metadata": {},
   "outputs": [
    {
     "name": "stdout",
     "output_type": "stream",
     "text": [
      "Max.number of arrivals for source index 0 is 2786\n"
     ]
    }
   ],
   "source": [
    "### read file .arr \n",
    "#Arr1, Pos1 = s.read_arrivals_asc ('files/med1.arr', Narrmx = 2785)\n",
    "\n",
    "Arr1, Pos1 =   s.read_arrivals_asc ('tests/med1_same.arr', Narrmx = 2787)\n",
    "#Arr1, Pos1 = s.load_dict('../Dictio', 'Arr1'), s.load_dict('../Dictio', 'Pos1')"
   ]
  },
  {
   "cell_type": "code",
   "execution_count": 207,
   "metadata": {},
   "outputs": [
    {
     "name": "stdout",
     "output_type": "stream",
     "text": [
      "Nombre total de réponses impulsionnelles :  36\n"
     ]
    }
   ],
   "source": [
    "### Reponses impulsionnelles\n",
    "D = np.array([100., 200., 300., 400.])\n",
    "R = np.array([10., 20., 30., 40., 50., 60., 70., 80., 90.]) * 1000.\n",
    "print('Nombre total de réponses impulsionnelles : ', D.size * R.size)\n",
    "\n",
    "### Indices correspondants aux récepteurs choisis\n",
    "IRD = np.zeros_like(D)\n",
    "for i in range (D.size) : \n",
    "    IRD[i] = np.where(Pos1['r']['depth']==D[i])[0][0]\n",
    "    \n",
    "IRR = np.zeros_like(R)\n",
    "for i in range (R.size) : \n",
    "    IRR[i] = np.where(Pos1['r']['range']==R[i])[0][0]"
   ]
  },
  {
   "cell_type": "markdown",
   "metadata": {},
   "source": [
    "# Méthode de détection : 1ere arrivée > 10 dB"
   ]
  },
  {
   "cell_type": "code",
   "execution_count": 208,
   "metadata": {},
   "outputs": [],
   "source": [
    "# sonar equation\n",
    "SL = 185                 # Souce level (dB)\n",
    "NL = 81.7                # Noise level (dB)\n",
    "DI = 0                   # Directivity index (dB)\n",
    "B = 200                  # bandwidth (Hz)\n",
    "T = 1                    # transmitted signal duration (s)\n",
    "PG = 10.0*np.log10(B*T)  # Processing gain (dB)\n",
    "\n",
    "# SL - TL - NL + DI + PG  >  RL "
   ]
  },
  {
   "cell_type": "code",
   "execution_count": 218,
   "metadata": {},
   "outputs": [],
   "source": [
    "### MAX D'AMPLITUDE\n",
    "\n",
    "isd = 0       # choice of source depth\n",
    "    \n",
    "Tarr = []\n",
    "TopBnc = []\n",
    "BotBnc = []\n",
    "SrcAngle = []\n",
    "\n",
    "\n",
    "Tarr_Test = []\n",
    "\n",
    "k = 0\n",
    "for i in range (IRD.size):\n",
    "    for j in range(IRR.size):\n",
    "        k+=1\n",
    "\n",
    "        ird = int(IRD[i])     # choice of receiver depth\n",
    "        irr = int(IRR[j])     # choice of receiver range\n",
    "        \n",
    "        # Received level\n",
    "        Narr = int(Arr1['Narr'][irr,ird,isd])\n",
    "        amp = Arr1['A'][irr,:Narr, ird, isd]\n",
    "        TL = -20*np.log10 (abs(amp))\n",
    "        RL = SL - TL -NL +DI + PG\n",
    "        \n",
    "        # Times\n",
    "        times = Arr1['delay'][irr, :Narr, ird, isd]\n",
    "        idx_first = np.where(RL==np.max(RL))[0][0]\n",
    "        \n",
    "        # Chosen ray features\n",
    "        NumTopBnc_f = Arr1['NumTopBnc'][irr, :Narr, ird, isd][idx_first]\n",
    "        NumBotBnc_f = Arr1['NumBotBnc'][irr, :Narr, ird, isd][idx_first]\n",
    "        SrcAngle_f  = Arr1['SrcAngle'][irr, :Narr, ird, isd][idx_first]\n",
    "\n",
    "        # Appends\n",
    "        TopBnc.append(NumTopBnc_f)\n",
    "        BotBnc.append(NumBotBnc_f)\n",
    "        SrcAngle.append(SrcAngle_f)\n",
    "        Tarr.append(times[idx_first])\n",
    "\n",
    "    \n",
    "    \n",
    "    \n",
    "        ### test avec ancienne méthode\n",
    "\n",
    "        t = Arr1['delay'][irr, :Narr, ird, isd]             # arrival time   \n",
    "        idx_max = np.where(RL==np.max(RL))\n",
    "        Tarr_Test.append(t [idx_max][0]) \n",
    "        \n",
    "\n",
    "TimeA = np.array(Tarr)\n",
    "Tarr_TestA = np.array(Tarr_Test)    "
   ]
  },
  {
   "cell_type": "code",
   "execution_count": 219,
   "metadata": {},
   "outputs": [],
   "source": [
    "### SEUIL DE DETECTION A 10dB\n",
    "\n",
    "isd = 0       # choice of source depth\n",
    "seuil_d = 10.\n",
    "    \n",
    "Tarr = []\n",
    "TopBnc = []\n",
    "BotBnc = []\n",
    "SrcAngle = []\n",
    "\n",
    "\n",
    "Tarr_Test = []\n",
    "\n",
    "k = 0\n",
    "for i in range (IRD.size):\n",
    "    for j in range(IRR.size):\n",
    "        k+=1\n",
    "\n",
    "        ird = int(IRD[i])     # choice of receiver depth\n",
    "        irr = int(IRR[j])     # choice of receiver range\n",
    "        \n",
    "        # Received level\n",
    "        Narr = int(Arr1['Narr'][irr,ird,isd])\n",
    "        amp = Arr1['A'][irr,:Narr, ird, isd]\n",
    "        TL = -20*np.log10 (abs(amp))\n",
    "        RL = SL - TL -NL +DI + PG\n",
    "        \n",
    "        # Times\n",
    "        times = Arr1['delay'][irr, :Narr, ird, isd]\n",
    "        idx = np.where(RL > 10.)\n",
    "        t_ok = times[idx]\n",
    "        if len(t_ok) != 0 : \n",
    "            t_first = np.min(t_ok)\n",
    "            idx_first = np.where(times==t_first)[0][0]\n",
    "        \n",
    "            # Chosen ray features\n",
    "            NumTopBnc_f = Arr1['NumTopBnc'][irr, :Narr, ird, isd][idx_first]\n",
    "            NumBotBnc_f = Arr1['NumBotBnc'][irr, :Narr, ird, isd][idx_first]\n",
    "            SrcAngle_f  = Arr1['SrcAngle'][irr, :Narr, ird, isd][idx_first]\n",
    "        \n",
    "            # Appends\n",
    "            TopBnc.append(NumTopBnc_f)\n",
    "            BotBnc.append(NumBotBnc_f)\n",
    "            SrcAngle.append(SrcAngle_f)\n",
    "            Tarr.append(t_first)\n",
    "            \n",
    "        else : \n",
    "            TopBnc.append(np.NaN)\n",
    "            BotBnc.append(np.NaN)\n",
    "            SrcAngle.append(np.NaN)\n",
    "            Tarr.append(np.NaN)\n",
    "    \n",
    "    \n",
    "    \n",
    "        ### test avec ancienne méthode\n",
    "\n",
    "        t = Arr1['delay'][irr, :Narr, ird, isd]             # arrival time   \n",
    "        t_ok = t[np.where(RL > seuil_d)]  \n",
    "        if len(t_ok) > 0: \n",
    "            t_min = np.min(t_ok)\n",
    "            idx_tresh = np.where(t==t_min)\n",
    "            Tarr_Test.append(t[idx_tresh[0]])\n",
    "\n",
    "        else : \n",
    "            Tarr_Test.append(np.NaN)\n",
    "\n",
    "\n",
    "Time = np.array(Tarr)\n",
    "Tarr_Test = np.array(Tarr_Test)    "
   ]
  },
  {
   "cell_type": "code",
   "execution_count": 217,
   "metadata": {},
   "outputs": [
    {
     "data": {
      "text/plain": [
       "array([0., 0., 0., 0., 0., 0., 0., 0., 0., 0., 0., 0., 0., 0., 0., 0., 0.,\n",
       "       0., 0., 0., 0., 0., 0., 0., 0., 0., 0., 0., 0., 0., 0., 0., 0., 0.,\n",
       "       0., 0.])"
      ]
     },
     "execution_count": 217,
     "metadata": {},
     "output_type": "execute_result"
    }
   ],
   "source": [
    "Tarr_Test - Time"
   ]
  },
  {
   "cell_type": "code",
   "execution_count": 220,
   "metadata": {},
   "outputs": [
    {
     "data": {
      "text/plain": [
       "array([0., 0., 0., 0., 0., 0., 0., 0., 0., 0., 0., 0., 0., 0., 0., 0., 0.,\n",
       "       0., 0., 0., 0., 0., 0., 0., 0., 0., 0., 0., 0., 0., 0., 0., 0., 0.,\n",
       "       0., 0.])"
      ]
     },
     "execution_count": 220,
     "metadata": {},
     "output_type": "execute_result"
    }
   ],
   "source": [
    "Tarr_TestA - TimeA"
   ]
  },
  {
   "cell_type": "code",
   "execution_count": 10,
   "metadata": {},
   "outputs": [],
   "source": [
    "### On connaît le temps d'arrivée et le range correspondant pour les 20 vignettes\n",
    "TT = np.array(Tarr)\n",
    "REAL_RANGE = np.zeros(D.size*R.size)\n",
    "for k in range (D.size) :\n",
    "    REAL_RANGE[k*R.size:(k+1)*R.size]=R\n",
    "    \n",
    "PROF = np.zeros(D.size*R.size)\n",
    "for k in range (D.size) :\n",
    "    PROF[k*R.size:(k+1)*R.size] = D[k]"
   ]
  },
  {
   "cell_type": "code",
   "execution_count": 11,
   "metadata": {},
   "outputs": [],
   "source": [
    "### 1 seule régression linéaire \n",
    "res = np.polyfit(TT, REAL_RANGE,1)\n",
    "Rreg = res[0] * TT + res[1]\n",
    "Diff1 = REAL_RANGE - Rreg"
   ]
  },
  {
   "cell_type": "code",
   "execution_count": 12,
   "metadata": {},
   "outputs": [
    {
     "name": "stdout",
     "output_type": "stream",
     "text": [
      "r-squared: 0.99998975946889\n"
     ]
    }
   ],
   "source": [
    "### autre méthode, qui nous donne le coef de détermination r²\n",
    "from scipy import stats\n",
    "slope, intercept, r_value, p_value, std_err = stats.linregress(TT, REAL_RANGE)\n",
    "\n",
    "#To get coefficient of determination (r_squared)\n",
    "print(\"r-squared:\", r_value**2)"
   ]
  },
  {
   "cell_type": "code",
   "execution_count": null,
   "metadata": {},
   "outputs": [],
   "source": []
  },
  {
   "cell_type": "code",
   "execution_count": 13,
   "metadata": {},
   "outputs": [],
   "source": [
    "D_EQ = np.sqrt((REAL_RANGE - 0)**2 + (PROF - Pos1['s']['depth'][0])**2)"
   ]
  },
  {
   "cell_type": "code",
   "execution_count": null,
   "metadata": {},
   "outputs": [],
   "source": []
  },
  {
   "cell_type": "code",
   "execution_count": null,
   "metadata": {},
   "outputs": [],
   "source": []
  },
  {
   "cell_type": "markdown",
   "metadata": {},
   "source": [
    "### Ancien calcul "
   ]
  },
  {
   "cell_type": "code",
   "execution_count": 248,
   "metadata": {
    "scrolled": true
   },
   "outputs": [
    {
     "name": "stdout",
     "output_type": "stream",
     "text": [
      "Max.number of arrivals for source index 0 is 1962\n"
     ]
    }
   ],
   "source": [
    "#Arr, Pos = s.read_arrivals_asc ('../files_arr/cognac_2000m_test_A_full.arr', Narrmx = 15)\n",
    "\n",
    "#Arr, Pos = s.load_dict('../Dictio', 'Arr1'), s.load_dict('../Dictio', 'Pos1')\n",
    "#Arr, Pos =   s.read_arrivals_asc ('tests/med1_OLD.arr', Narrmx = 7752)\n",
    "#Arr, Pos =   s.read_arrivals_asc ('tests/med1_51_101.arr', Narrmx = 3883)\n",
    "#Arr, Pos =   s.read_arrivals_asc ('tests/med1_12000NBeams.arr', Narrmx = 1963)\n",
    "Arr, Pos =   s.read_arrivals_asc ('tests/med1_density_ok.arr', Narrmx = 7752)\n",
    "#Arr, Pos =   s.read_arrivals_asc ('tests/med1_same.arr', Narrmx = 2787)"
   ]
  },
  {
   "cell_type": "code",
   "execution_count": 249,
   "metadata": {},
   "outputs": [
    {
     "name": "stdout",
     "output_type": "stream",
     "text": [
      "Number of source depths   : Nsd =  1\n",
      "Number of receiver depths : Nrd =  6\n",
      "Number of receiver ranges : Nrr =  11\n",
      "\n",
      "Total number of receivers :  66\n"
     ]
    }
   ],
   "source": [
    "\n",
    "Nsd = np.shape(Pos['s']['depth'])[0]\n",
    "Nrd = np.shape(Pos['r']['depth'])[0]\n",
    "Nrr = np.shape(Pos['r']['range'])[0]\n",
    "print('Number of source depths   : Nsd = ', Nsd)\n",
    "print('Number of receiver depths : Nrd = ', Nrd)\n",
    "print('Number of receiver ranges : Nrr = ', Nrr)\n",
    "print('\\nTotal number of receivers : ', Nrd*Nrr)"
   ]
  },
  {
   "cell_type": "code",
   "execution_count": 250,
   "metadata": {},
   "outputs": [],
   "source": [
    "dstep = 1    #100      # depth step (here 100m)\n",
    "rstep = 1    #1000     # range step (here 10km)"
   ]
  },
  {
   "cell_type": "code",
   "execution_count": 252,
   "metadata": {
    "scrolled": true
   },
   "outputs": [],
   "source": [
    "###SSP values\n",
    "issp = 0\n",
    "SSP_value = s.SSP['mediterrannee']['c'][issp,:]\n",
    "depth = s.SSP['mediterrannee']['depth'][:]\n",
    "\n",
    "###Sonar equation\n",
    "seuil_d = 10.            # Detection treshold (dB)\n",
    "\n",
    "###Variables\n",
    "Dist_eq    = np.zeros( (int(Nrr/rstep)+1, int(Nrd/dstep)+1, Nsd) )    # distance source-receiver\n",
    "#maximum amplitude\n",
    "Tarr_A       = np.zeros( (int(Nrr/rstep)+1, int(Nrd/dstep)+1, Nsd) )    # time of arrival\n",
    "#detection treshold\n",
    "Tarr_T       = np.zeros( (int(Nrr/rstep)+1, int(Nrd/dstep)+1, Nsd) )    # time of arrival\n",
    "\n",
    "\n",
    "\n",
    "for isd1 in range (Nsd):\n",
    "    #for ird1 in range (0,Nrd+1,dstep) :\n",
    "    for ird1 in range (Nrd) : \n",
    "        #for irr1 in range (0,Nrr+1,rstep) :\n",
    "        for irr1 in range (Nrr) :\n",
    "            Narr = int(Arr['Narr'][irr1, ird1, isd1])\n",
    "            if not Narr ==0 :\n",
    "\n",
    "\n",
    "                ## data from arrivals (A)\n",
    "                numBot_A = Arr['NumBotBnc'][irr1, :Narr, ird1, isd1]  # bottom reflections\n",
    "                numTop_A = Arr['NumTopBnc'][irr1, :Narr, ird1, isd1]  # top reflections\n",
    "                t = Arr['delay'][irr1, :Narr, ird1, isd1]             # arrival time                  \n",
    "                A = abs(Arr['A'][irr1, :Narr, ird1, isd1])            # amplitude\n",
    "                TL = - 20.0*np.log10(A)                               # transmission losss \n",
    "                RL = SL - TL - NL +DI + PG                            # received level\n",
    "\n",
    "\n",
    "                ################## Amplitude ######################\n",
    "\n",
    "                idx_max = np.where(RL==np.max(RL))\n",
    "                Tarr_A [int(irr1/rstep), int(ird1/dstep), isd1] = t [idx_max][0] \n",
    "\n",
    "\n",
    "                ################### Treshold ######################\n",
    "\n",
    "                t_ok = t[np.where(RL > seuil_d)]                    \n",
    "                if len(t_ok > 0): \n",
    "                    t_min = np.min(t_ok)\n",
    "                    idx_tresh = np.where(t==t_min)[0][0]\n",
    "                    Tarr_T [int(irr1/rstep), int(ird1/dstep), isd1] = t[idx_tresh]\n",
    "\n",
    "                else : \n",
    "                    Tarr_T [int(irr1/rstep), int(ird1/dstep), isd1] = np.NaN\n",
    "                    \n",
    "                    \n",
    "\n",
    "                ### test avec ancienne méthode\n",
    " \n",
    "                #t_ok = t[np.where(RL > seuil_d)]  \n",
    "                #if len(t_ok) > 0: \n",
    "                #    t_min = np.min(t_ok)\n",
    "                #    idx_tresh = np.where(t==t_min)\n",
    "                #    Tarr_Test.append(t[idx_tresh[0]])\n",
    "\n",
    "                #else : \n",
    "                #    Tarr_Test.append(np.NaN)\n",
    "\n",
    "\n",
    "\n",
    "                ############## Equivalent distance ################\n",
    "\n",
    "                sr = 0.                           # source range(m)\n",
    "                sd = Pos['s']['depth'][isd1]      # source depth (m)\n",
    "                rr = Pos['r']['range'][irr1]      #receiver range (m)\n",
    "                rd = Pos['r']['depth'][ird1]      #receiver depth (m)\n",
    "                dist_eq = np.sqrt( (rr-sr)**2 + (rd-sd)**2)\n",
    "                Dist_eq [int(irr1/rstep), int(ird1/dstep), isd1] = dist_eq\n",
    "\n",
    "            \n",
    "            else : \n",
    "                Tarr_A [int(irr1/rstep), int(ird1/dstep), isd1] = np.NaN\n",
    "                Tarr_T [int(irr1/rstep), int(ird1/dstep), isd1] = np.NaN\n",
    "                Dist_eq [int(irr1/rstep), int(ird1/dstep), isd1] = np.NaN\n",
    "\n",
    "\n",
    "Dist_eq = Dist_eq[1:-2,1:-2].squeeze().T\n",
    "#Dist_eq = Dist_eq[:-1,:-1].squeeze().T\n",
    "#Dist_eq = Dist_eq.T.flatten()\n",
    "\n",
    "Tarr_T = Tarr_T[1:-2,1:-2].squeeze().T\n",
    "#Tarr_T = Tarr_T[:-1,:-1].squeeze().T\n",
    "#Tarr_T = Tarr_T.T.flatten()\n",
    "\n",
    "\n",
    "Tarr_A = Tarr_A[1:-2,1:-2].squeeze().T\n",
    "#Tarr_A = Tarr_A[:-1,:-1].squeeze().T\n",
    "#Tarr_A = Tarr_A.T.flatten()"
   ]
  },
  {
   "cell_type": "code",
   "execution_count": 198,
   "metadata": {},
   "outputs": [
    {
     "data": {
      "text/plain": [
       "array([0., 0., 0., 0., 0., 0., 0., 0., 0., 0., 0., 0., 0., 0., 0., 0., 0.,\n",
       "       0., 0., 0., 0., 0., 0., 0., 0., 0., 0., 0., 0., 0., 0., 0., 0., 0.,\n",
       "       0., 0.])"
      ]
     },
     "execution_count": 198,
     "metadata": {},
     "output_type": "execute_result"
    }
   ],
   "source": [
    "D_EQ - Dist_eq.flatten()"
   ]
  },
  {
   "cell_type": "code",
   "execution_count": 169,
   "metadata": {},
   "outputs": [
    {
     "data": {
      "text/plain": [
       "array([[ 6.62018299, 13.1910839 , 19.7801056 , 26.3735714 , 33.0494041 ,\n",
       "        39.6289673 , 46.1730995 , 52.8712463 , 59.4673882 ],\n",
       "       [ 6.61237144, 13.1860409 , 19.7811298 , 26.3672218 , 32.9545631 ,\n",
       "        39.6200676 , 46.161869  , 52.8628426 , 59.4578819 ],\n",
       "       [ 6.60918903, 13.179822  , 19.782156  , 26.3608742 , 32.9580612 ,\n",
       "        39.6111679 , 46.1490021 , 52.8544426 , 59.4483757 ],\n",
       "       [ 6.60591412, 13.1735964 , 19.7831821 , 26.3808079 , 32.9615593 ,\n",
       "        39.601387  , 46.1476822 , 52.8460388 , 59.9470787 ]])"
      ]
     },
     "execution_count": 169,
     "metadata": {},
     "output_type": "execute_result"
    }
   ],
   "source": [
    "Tarr_T"
   ]
  },
  {
   "cell_type": "code",
   "execution_count": 205,
   "metadata": {},
   "outputs": [
    {
     "data": {
      "text/plain": [
       "array([ 6.62478209, 13.1912718 , 19.7972031 , 26.3745308 , 33.0499725 ,\n",
       "       39.6280632 , 46.1828499 , 52.8760643 , 59.4247093 ,  6.62170219,\n",
       "       13.1862659 , 19.7916851 , 26.3685207 , 33.0195961 , 39.6196098 ,\n",
       "       46.1726761 , 53.1003685 , 59.4145126 ,  6.61241865, 13.1809559 ,\n",
       "       19.7825336 , 26.3625088 , 32.9886513 , 39.612957  , 46.1610107 ,\n",
       "       52.8917923 , 59.4312096 ,  6.60736609, 13.1747932 , 19.7842598 ,\n",
       "       26.3564987 , 32.9847679 , 39.6043701 , 46.1503983 , 52.8253021 ,\n",
       "       59.4267044 ])"
      ]
     },
     "execution_count": 205,
     "metadata": {},
     "output_type": "execute_result"
    }
   ],
   "source": [
    "Time_OK = Time\n",
    "Time_OK"
   ]
  },
  {
   "cell_type": "code",
   "execution_count": 211,
   "metadata": {},
   "outputs": [
    {
     "data": {
      "text/plain": [
       "array([ 5.9318000e-04, -7.6000000e-06, -1.5946000e-03, -1.3905000e-03,\n",
       "       -2.3109400e-02, -4.0440000e-04, -1.6491000e-02, -3.2257100e-02,\n",
       "        1.5260000e-04, -2.7894900e-03, -1.7730000e-04, -1.0974900e-02,\n",
       "       -5.7220000e-04,  9.1629000e-03, -1.5525000e-03, -1.8474600e-02,\n",
       "       -2.6659010e-01,  4.4250000e-04, -1.2340500e-03, -1.2121000e-03,\n",
       "       -3.8140000e-04,  1.3540000e-04,  3.6666800e-02, -4.9057000e-03,\n",
       "       -1.0528500e-02, -6.5986600e-02,  1.0224876e+00,  4.6250000e-05,\n",
       "       -1.3895000e-03, -1.0414000e-03,  2.4758000e-03,  3.6373200e-02,\n",
       "       -5.1422000e-03, -1.1222900e-02, -3.6812000e-03,  5.6755100e-02])"
      ]
     },
     "execution_count": 211,
     "metadata": {},
     "output_type": "execute_result"
    }
   ],
   "source": [
    "Time - Time_OK"
   ]
  },
  {
   "cell_type": "code",
   "execution_count": 233,
   "metadata": {},
   "outputs": [
    {
     "data": {
      "text/plain": [
       "array([0., 0., 0., 0., 0., 0., 0., 0., 0., 0., 0., 0., 0., 0., 0., 0., 0.,\n",
       "       0., 0., 0., 0., 0., 0., 0., 0., 0., 0., 0., 0., 0., 0., 0., 0., 0.,\n",
       "       0., 0.])"
      ]
     },
     "execution_count": 233,
     "metadata": {},
     "output_type": "execute_result"
    }
   ],
   "source": [
    "TimeA - Tarr_A.flatten()"
   ]
  },
  {
   "cell_type": "code",
   "execution_count": 90,
   "metadata": {},
   "outputs": [],
   "source": [
    "reg_new = np.polyfit(Time, Dist_eq,1)\n",
    "reg_old = np.polyfit(Tarr_T[~np.isnan(Tarr_T)], Dist_eq[~np.isnan(Tarr_T)],1)"
   ]
  },
  {
   "cell_type": "code",
   "execution_count": 91,
   "metadata": {},
   "outputs": [
    {
     "data": {
      "text/plain": [
       "1513.3652157403837"
      ]
     },
     "execution_count": 91,
     "metadata": {},
     "output_type": "execute_result"
    }
   ],
   "source": [
    "reg_new[0]"
   ]
  },
  {
   "cell_type": "code",
   "execution_count": 92,
   "metadata": {},
   "outputs": [
    {
     "data": {
      "text/plain": [
       "1511.3067996970028"
      ]
     },
     "execution_count": 92,
     "metadata": {},
     "output_type": "execute_result"
    }
   ],
   "source": [
    "reg_old[0]"
   ]
  },
  {
   "cell_type": "code",
   "execution_count": null,
   "metadata": {},
   "outputs": [],
   "source": []
  },
  {
   "cell_type": "code",
   "execution_count": 247,
   "metadata": {},
   "outputs": [
    {
     "data": {
      "text/plain": [
       "array([0., 0., 0., 0., 0., 0., 0., 0., 0., 0., 0., 0., 0., 0., 0., 0., 0.,\n",
       "       0., 0., 0., 0., 0., 0., 0., 0., 0., 0., 0., 0., 0., 0., 0., 0., 0.,\n",
       "       0., 0.])"
      ]
     },
     "execution_count": 247,
     "metadata": {},
     "output_type": "execute_result"
    }
   ],
   "source": [
    "## SAME\n",
    "Time - Tarr_T.flatten()\n"
   ]
  },
  {
   "cell_type": "code",
   "execution_count": 253,
   "metadata": {},
   "outputs": [
    {
     "data": {
      "text/plain": [
       "array([ 5.1922800e-03,  1.8030000e-04,  1.5502900e-02, -4.3110000e-04,\n",
       "       -2.2541000e-02, -1.3085000e-03, -6.7406000e-03, -2.7439100e-02,\n",
       "       -4.2526300e-02,  6.5412600e-03,  4.7700000e-05, -4.1960000e-04,\n",
       "        7.2670000e-04,  7.4195900e-02, -2.0103000e-03, -7.6675000e-03,\n",
       "       -2.9064200e-02, -4.2926800e-02,  1.9955700e-03, -7.8200000e-05,\n",
       "       -3.8000000e-06,  1.7700000e-03,  6.7256900e-02, -3.1166000e-03,\n",
       "        1.4801000e-03, -2.8636900e-02,  1.0053215e+00,  1.4982200e-03,\n",
       "       -1.9270000e-04,  3.6300000e-05, -2.1833400e-02,  5.9581800e-02,\n",
       "       -2.1591000e-03, -8.5068000e-03, -2.4417900e-02,            nan])"
      ]
     },
     "execution_count": 253,
     "metadata": {},
     "output_type": "execute_result"
    }
   ],
   "source": [
    "## avec la bonne densité (et 12000 NBeams) : la seule différence est dans les angles limites....\n",
    "Time - Tarr_T.flatten()"
   ]
  },
  {
   "cell_type": "code",
   "execution_count": null,
   "metadata": {},
   "outputs": [],
   "source": [
    "### différence de temps d'arrivées déjà très importante .... Plusieurs mètres d'erreur."
   ]
  },
  {
   "cell_type": "code",
   "execution_count": null,
   "metadata": {},
   "outputs": [],
   "source": []
  },
  {
   "cell_type": "code",
   "execution_count": 178,
   "metadata": {},
   "outputs": [
    {
     "data": {
      "text/plain": [
       "array([-3.809450e-03, -9.820000e-05,  1.830300e-02,  6.619000e-04,\n",
       "        3.147100e-03,  4.241900e-03,  1.630780e-02,  3.515240e-02,\n",
       "       -1.940920e-02,  2.836220e-03,  2.231000e-04, -1.729770e-02,\n",
       "        7.476000e-04, -1.206590e-02,  2.052300e-02,  1.349260e-02,\n",
       "        4.898070e-02, -6.291657e-01, -3.643100e-04,  5.570000e-04,\n",
       "       -1.667790e-02,  3.910000e-04, -4.292680e-02,  3.041460e-02,\n",
       "       -4.692000e-04,  2.893450e-02, -4.089350e-02, -5.078300e-04,\n",
       "       -2.318000e-04, -2.300300e-03, -1.264600e-03, -8.396200e-03,\n",
       "       -6.180000e-04,  2.048500e-02, -3.074270e-02,  3.002200e-03])"
      ]
     },
     "execution_count": 178,
     "metadata": {},
     "output_type": "execute_result"
    }
   ],
   "source": [
    "## avec la bonne densité (mais 60000 NBeams)\n",
    "Time - Tarr_T.flatten()"
   ]
  },
  {
   "cell_type": "code",
   "execution_count": 171,
   "metadata": {},
   "outputs": [
    {
     "data": {
      "text/plain": [
       "array([ 4.599100e-03,  1.879000e-04,  1.709750e-02,  9.594000e-04,\n",
       "        5.684000e-04, -9.041000e-04,  9.750400e-03,  4.818000e-03,\n",
       "       -4.267890e-02,  9.330750e-03,  2.250000e-04,  1.055530e-02,\n",
       "        1.298900e-03,  6.503300e-02, -4.578000e-04,  1.080710e-02,\n",
       "        2.375259e-01, -4.336930e-02,  3.229620e-03,  1.133900e-03,\n",
       "        3.776000e-04,  1.634600e-03,  3.059010e-02,  1.789100e-03,\n",
       "        1.200860e-02,  3.734970e-02, -1.716610e-02,  1.451970e-03,\n",
       "        1.196800e-03,  1.077700e-03, -2.430920e-02,  2.320860e-02,\n",
       "        2.983100e-03,  2.716100e-03, -2.073670e-02, -5.203743e-01])"
      ]
     },
     "execution_count": 171,
     "metadata": {},
     "output_type": "execute_result"
    }
   ],
   "source": [
    "## avec 12000Beams (au lieu de 60000 dans OLD)\n",
    "Time - Tarr_T.flatten()"
   ]
  },
  {
   "cell_type": "code",
   "execution_count": 160,
   "metadata": {},
   "outputs": [
    {
     "data": {
      "text/plain": [
       "array([-3.809450e-03, -9.820000e-05,  1.830300e-02,  6.619000e-04,\n",
       "        3.147100e-03,  4.241900e-03,  1.630780e-02,  3.515240e-02,\n",
       "       -1.940920e-02,  2.836220e-03,  2.231000e-04, -1.729770e-02,\n",
       "        7.476000e-04, -1.206590e-02,  2.052300e-02,  1.349260e-02,\n",
       "        5.788420e-02, -5.899048e-01, -3.643100e-04,  5.570000e-04,\n",
       "       -1.667790e-02,  3.910000e-04, -4.292680e-02,  3.041460e-02,\n",
       "       -4.692000e-04,  2.893450e-02, -4.089350e-02, -5.078300e-04,\n",
       "       -2.318000e-04, -2.300300e-03, -1.264600e-03, -8.396200e-03,\n",
       "       -6.180000e-04,  2.048500e-02, -3.074270e-02,  3.002200e-03])"
      ]
     },
     "execution_count": 160,
     "metadata": {},
     "output_type": "execute_result"
    }
   ],
   "source": [
    "# 51*101 receivers et autres paramètres différents\n",
    "DIST = Dist_eq[10:-10:10, 10:-10:10].flatten()\n",
    "Tarr_TT = Tarr_T[10:-10:10, 10:-10:10].flatten()\n",
    "Time - Tarr_TT"
   ]
  },
  {
   "cell_type": "code",
   "execution_count": 96,
   "metadata": {},
   "outputs": [
    {
     "data": {
      "text/plain": [
       "array([-3.809450e-03, -9.820000e-05,  1.830300e-02,  6.619000e-04,\n",
       "        3.147100e-03,  4.241900e-03,  1.630780e-02,  3.515240e-02,\n",
       "       -1.940920e-02,  2.836220e-03,  2.231000e-04, -1.729770e-02,\n",
       "        7.476000e-04, -1.206590e-02,  2.052300e-02,  1.349260e-02,\n",
       "        5.788420e-02, -5.899048e-01, -3.643100e-04,  5.570000e-04,\n",
       "       -1.667790e-02,  3.910000e-04, -4.292680e-02,  3.041460e-02,\n",
       "       -4.692000e-04,  2.893450e-02, -4.089350e-02, -5.078300e-04,\n",
       "       -2.318000e-04, -2.300300e-03, -1.264600e-03, -8.396200e-03,\n",
       "       -6.180000e-04,  2.048500e-02, -3.074270e-02,  3.002200e-03])"
      ]
     },
     "execution_count": 96,
     "metadata": {},
     "output_type": "execute_result"
    }
   ],
   "source": [
    "# même nombre de receivers (6*11) mais autres paramètres différents\n",
    "Time-Tarr_T"
   ]
  },
  {
   "cell_type": "code",
   "execution_count": null,
   "metadata": {},
   "outputs": [],
   "source": []
  },
  {
   "cell_type": "code",
   "execution_count": null,
   "metadata": {},
   "outputs": [],
   "source": []
  },
  {
   "cell_type": "code",
   "execution_count": null,
   "metadata": {},
   "outputs": [],
   "source": []
  },
  {
   "cell_type": "code",
   "execution_count": null,
   "metadata": {},
   "outputs": [],
   "source": []
  },
  {
   "cell_type": "code",
   "execution_count": null,
   "metadata": {},
   "outputs": [],
   "source": []
  },
  {
   "cell_type": "code",
   "execution_count": null,
   "metadata": {},
   "outputs": [],
   "source": []
  },
  {
   "cell_type": "code",
   "execution_count": null,
   "metadata": {},
   "outputs": [],
   "source": []
  },
  {
   "cell_type": "code",
   "execution_count": null,
   "metadata": {},
   "outputs": [],
   "source": []
  },
  {
   "cell_type": "code",
   "execution_count": 80,
   "metadata": {
    "scrolled": true
   },
   "outputs": [
    {
     "data": {
      "text/plain": [
       "array([ 6.62892723, 13.2443171 , 19.8231735 , 26.755064  , 33.7304077 ,\n",
       "       40.1597977 , 46.1760368 , 54.7924232 , 61.8389893 ,  6.61886597,\n",
       "       13.2362165 , 19.8095551 , 26.7407227 , 33.0873375 , 39.7145424 ,\n",
       "       46.2122421 , 54.8614197 , 60.0436821 ,  6.62893772, 13.2513056 ,\n",
       "       19.8002396 , 26.3880501 , 33.2838974 , 40.1133537 , 47.179863  ,\n",
       "       53.1380348 ,         nan,  6.62180281, 13.2231321 , 19.8433666 ,\n",
       "       26.4626808 , 33.2971344 , 40.0945969 , 46.1453781 , 53.6137924 ,\n",
       "       60.5702972 ])"
      ]
     },
     "execution_count": 80,
     "metadata": {},
     "output_type": "execute_result"
    }
   ],
   "source": [
    "T_old = Tarr_T\n",
    "T_old"
   ]
  },
  {
   "cell_type": "code",
   "execution_count": 98,
   "metadata": {},
   "outputs": [
    {
     "data": {
      "text/plain": [
       "array([-0.00414514, -0.0530453 , -0.0259704 , -0.3805332 , -0.6804352 ,\n",
       "       -0.5317345 ,  0.0068131 , -1.9163589 , -2.41428   ,  0.00283622,\n",
       "       -0.0499506 , -0.01787   , -0.372202  , -0.0677414 , -0.0949326 ,\n",
       "       -0.039566  , -1.7610512 , -0.6291695 , -0.01651907, -0.0703497 ,\n",
       "       -0.017706  , -0.0255413 , -0.2952461 , -0.5003967 , -1.0188523 ,\n",
       "       -0.2462425 ,         nan, -0.01443672, -0.0483389 , -0.0591068 ,\n",
       "       -0.1061821 , -0.3123665 , -0.4902268 ,  0.0050202 , -0.7884903 ,\n",
       "       -1.1435928 ])"
      ]
     },
     "execution_count": 98,
     "metadata": {},
     "output_type": "execute_result"
    }
   ],
   "source": [
    "Time - T_old"
   ]
  },
  {
   "cell_type": "code",
   "execution_count": null,
   "metadata": {},
   "outputs": [],
   "source": [
    "### La différence vient des fichiers .arr et donc des fichiers d'entrées (.env). \n",
    "\n",
    "# Le profil est exactement le même.\n",
    "# La densité du fond change\n",
    "# Le nombre de récepteurs change :\n",
    "#       med1_OLd (avec 6*11 receivers) & med1_51_101.arr (avec 51*101 receivers) : Mêmes temps d'arrivée\n",
    "\n",
    "# le nombre d'angles NBeams change\n",
    "# Les angles limites ALimits changent\n",
    "\n",
    "\n",
    "### Il faut faire des tests pour déterminer le paramètre qui change les temps d'arrivées ... "
   ]
  }
 ],
 "metadata": {
  "kernelspec": {
   "display_name": "Python 3",
   "language": "python",
   "name": "python3"
  },
  "language_info": {
   "codemirror_mode": {
    "name": "ipython",
    "version": 3
   },
   "file_extension": ".py",
   "mimetype": "text/x-python",
   "name": "python",
   "nbconvert_exporter": "python",
   "pygments_lexer": "ipython3",
   "version": "3.6.5"
  }
 },
 "nbformat": 4,
 "nbformat_minor": 2
}
