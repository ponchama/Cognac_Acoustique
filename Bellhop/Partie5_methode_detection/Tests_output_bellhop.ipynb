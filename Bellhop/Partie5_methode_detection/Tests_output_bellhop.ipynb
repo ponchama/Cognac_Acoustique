{
 "cells": [
  {
   "cell_type": "code",
   "execution_count": 1,
   "metadata": {},
   "outputs": [],
   "source": [
    "# this enable automatic reloading of libraries\n",
    "%load_ext autoreload\n",
    "%autoreload 2\n",
    "\n",
    "from clib.flow import *\n",
    "from clib.bellhop import *\n",
    "import subprocess\n",
    "import matplotlib.pyplot as plt\n",
    "from scipy import stats\n",
    "import warnings\n",
    "warnings.filterwarnings(action='ignore')"
   ]
  },
  {
   "cell_type": "code",
   "execution_count": 2,
   "metadata": {},
   "outputs": [],
   "source": [
    "s = bellhop({'mediterrannee': '../SSP_4profils.mat'},name='profiles')"
   ]
  },
  {
   "cell_type": "markdown",
   "metadata": {},
   "source": [
    "---\n",
    "#### On prend 2 fichiers .arr ayant exactement les mêmes paramètres (profil, ALimits, NBeams, propriétés du fond). La seule différence est dans le nombre de récepteurs ... "
   ]
  },
  {
   "cell_type": "code",
   "execution_count": 3,
   "metadata": {},
   "outputs": [
    {
     "name": "stdout",
     "output_type": "stream",
     "text": [
      "Max. number of arrivals is 10.\n"
     ]
    }
   ],
   "source": [
    "### avec 501 * 10001 = 5 millions de récepteurs\n",
    "Arr1, Pos1 = s.load_dict('../Dictio', 'Arr1'), s.load_dict('../Dictio', 'Pos1') # cognac_2000m_test_A_full\n",
    "print('Max. number of arrivals is %d.' %(np.max(Arr1['Narr'])))"
   ]
  },
  {
   "cell_type": "code",
   "execution_count": 4,
   "metadata": {},
   "outputs": [
    {
     "name": "stdout",
     "output_type": "stream",
     "text": [
      "Max.number of arrivals for source index 0 is 3882\n"
     ]
    }
   ],
   "source": [
    "### 51 * 101 = 5151 récepteurs\n",
    "Arr2, Pos2 = s.read_arrivals_asc ('tests/med1_51_101.arr', Narrmx = 3883)"
   ]
  },
  {
   "cell_type": "code",
   "execution_count": 5,
   "metadata": {},
   "outputs": [
    {
     "name": "stdout",
     "output_type": "stream",
     "text": [
      "Max.number of arrivals for source index 0 is 7751\n"
     ]
    }
   ],
   "source": [
    "### 6 * 11 = 66 récepteurs \n",
    "Arr3, Pos3 = s.read_arrivals_asc ('tests/med1_OLD.arr', Narrmx = 7752)"
   ]
  },
  {
   "cell_type": "markdown",
   "metadata": {},
   "source": [
    "---\n",
    "#### Pour chaque fichier, On calcule 36 réponses impulsionnelles (aux mêmes points)"
   ]
  },
  {
   "cell_type": "code",
   "execution_count": 6,
   "metadata": {},
   "outputs": [
    {
     "name": "stdout",
     "output_type": "stream",
     "text": [
      "Nombre total de réponses impulsionnelles :  36\n"
     ]
    }
   ],
   "source": [
    "### Reponses impulsionnelles\n",
    "D = np.array([100., 200., 300., 400.])\n",
    "R = np.array([10., 20., 30., 40., 50., 60., 70., 80., 90.]) * 1000.\n",
    "print('Nombre total de réponses impulsionnelles : ', D.size * R.size)\n"
   ]
  },
  {
   "cell_type": "markdown",
   "metadata": {},
   "source": [
    "---\n",
    "#### Calcul des arrivées avec les 2 méthodes de détection"
   ]
  },
  {
   "cell_type": "code",
   "execution_count": 7,
   "metadata": {},
   "outputs": [],
   "source": [
    "# sonar equation\n",
    "SL = 185                 # Souce level (dB)\n",
    "NL = 81.7                # Noise level (dB)\n",
    "DI = 0                   # Directivity index (dB)\n",
    "B = 200                  # bandwidth (Hz)\n",
    "T = 1                    # transmitted signal duration (s)\n",
    "PG = 10.0*np.log10(B*T)  # Processing gain (dB)\n",
    "\n",
    "# SL - TL - NL + DI + PG  >  RL "
   ]
  },
  {
   "cell_type": "code",
   "execution_count": 8,
   "metadata": {},
   "outputs": [],
   "source": [
    "### CALCUL 1ERE ARRIVEE ET MAX D'AMPLITUDE\n",
    "\n",
    "def time_calculation (Arr, Pos) : \n",
    "    \n",
    "    ### Indices correspondants aux récepteurs choisis\n",
    "    IRD = np.zeros_like(D)\n",
    "    for i in range (D.size) : \n",
    "        IRD[i] = np.where(Pos['r']['depth']==D[i])[0][0]\n",
    "    \n",
    "    IRR = np.zeros_like(R)\n",
    "    for i in range (R.size) : \n",
    "        IRR[i] = np.where(Pos['r']['range']==R[i])[0][0]\n",
    "    \n",
    "    ### Initialisation\n",
    "    isd = 0          # choice of source depth\n",
    "    seuil_d = 10.    # seuil de détection (dB)\n",
    "\n",
    "    Tarr      = []\n",
    "    TopBnc    = []\n",
    "    BotBnc    = []\n",
    "    SrcAngle  = []\n",
    "\n",
    "    TarrA     = []\n",
    "    TopBncA   = []\n",
    "    BotBncA   = []\n",
    "    SrcAngleA = []\n",
    "\n",
    "    k = 0\n",
    "    for i in range (IRD.size):\n",
    "        for j in range(IRR.size):\n",
    "            k+=1\n",
    "\n",
    "            ird = int(IRD[i])     # choice of receiver depth\n",
    "            irr = int(IRR[j])     # choice of receiver range\n",
    "            ### Received level\n",
    "            Narr = int(Arr['Narr'][irr,ird,isd])\n",
    "            amp = Arr['A'][irr,:Narr, ird, isd]\n",
    "            TL = -20*np.log10 (abs(amp))\n",
    "            RL = SL - TL -NL +DI + PG\n",
    "            ### Times\n",
    "            times = Arr['delay'][irr, :Narr, ird, isd]\n",
    "\n",
    "            ### first detected arrival \n",
    "\n",
    "            idx = np.where(RL > 10.)\n",
    "            t_ok = times[idx]\n",
    "            if len(t_ok) != 0 : \n",
    "                t_first = np.min(t_ok)\n",
    "                idx_first = np.where(times==t_first)[0][0]\n",
    "                # Chosen ray features\n",
    "                NumTopBnc_f = Arr['NumTopBnc'][irr, :Narr, ird, isd][idx_first]\n",
    "                NumBotBnc_f = Arr['NumBotBnc'][irr, :Narr, ird, isd][idx_first]\n",
    "                SrcAngle_f  = Arr['SrcAngle'][irr, :Narr, ird, isd][idx_first]\n",
    "                # Appends\n",
    "                TopBnc.append(NumTopBnc_f)\n",
    "                BotBnc.append(NumBotBnc_f)\n",
    "                SrcAngle.append(SrcAngle_f)\n",
    "                Tarr.append(t_first)           \n",
    "            else : \n",
    "                TopBnc.append(np.NaN)\n",
    "                BotBnc.append(np.NaN)\n",
    "                SrcAngle.append(np.NaN)\n",
    "                Tarr.append(np.NaN)\n",
    "\n",
    "\n",
    "            #### max d'amplitude\n",
    "\n",
    "            idx_max = np.where(RL==np.max(RL))[0][0]\n",
    "            # Chosen ray features\n",
    "            NumTopBnc_A = Arr['NumTopBnc'][irr, :Narr, ird, isd][idx_max]\n",
    "            NumBotBnc_A = Arr['NumBotBnc'][irr, :Narr, ird, isd][idx_max]\n",
    "            SrcAngle_A  = Arr['SrcAngle'][irr, :Narr, ird, isd][idx_max]\n",
    "            # Appends\n",
    "            TopBncA.append(NumTopBnc_A)\n",
    "            BotBncA.append(NumBotBnc_A)\n",
    "            SrcAngleA.append(SrcAngle_A)\n",
    "            TarrA.append(times[idx_max])\n",
    "\n",
    "    Time = np.array(Tarr)\n",
    "    TimeA = np.array(TarrA)\n",
    "    \n",
    "    return Time, TimeA"
   ]
  },
  {
   "cell_type": "code",
   "execution_count": 9,
   "metadata": {},
   "outputs": [],
   "source": [
    "Time1, Time1A   = time_calculation (Arr1, Pos1)   # 5millions récepteurs : Narrmx = 10\n",
    "Time2, Time2A = time_calculation (Arr2, Pos2)     # 5000 récepteurs : Narrmx = 3900\n",
    "Time3, Time3A = time_calculation (Arr3, Pos3)     # 66 récepteurs : Narrmx = 7800"
   ]
  },
  {
   "cell_type": "markdown",
   "metadata": {},
   "source": [
    "---\n",
    "#### Différence de temps d'arrivées entre Narrmx = 7800 et Narrmx = 3900 "
   ]
  },
  {
   "cell_type": "code",
   "execution_count": 10,
   "metadata": {},
   "outputs": [
    {
     "data": {
      "text/plain": [
       "array([0., 0., 0., 0., 0., 0., 0., 0., 0., 0., 0., 0., 0., 0., 0., 0., 0.,\n",
       "       0., 0., 0., 0., 0., 0., 0., 0., 0., 0., 0., 0., 0., 0., 0., 0., 0.,\n",
       "       0., 0.])"
      ]
     },
     "execution_count": 10,
     "metadata": {},
     "output_type": "execute_result"
    }
   ],
   "source": [
    "Time3 - Time2"
   ]
  },
  {
   "cell_type": "markdown",
   "metadata": {},
   "source": [
    "#### Différence de temps d'arrivées entre Narrmx = 3900 et Narrmx = 10"
   ]
  },
  {
   "cell_type": "code",
   "execution_count": 11,
   "metadata": {},
   "outputs": [
    {
     "data": {
      "text/plain": [
       "array([-3.3569000e-04, -5.2947100e-02, -4.4273400e-02, -3.8119510e-01,\n",
       "       -6.8358230e-01, -5.3597640e-01, -9.4947000e-03, -1.9515113e+00,\n",
       "       -2.3948708e+00,  0.0000000e+00, -5.0173700e-02, -5.7230000e-04,\n",
       "       -3.7294960e-01, -5.5675500e-02, -1.1545560e-01, -5.3058600e-02,\n",
       "       -1.8189354e+00, -3.9264700e-02, -1.6154760e-02, -7.0906700e-02,\n",
       "       -1.0281000e-03, -2.5932300e-02, -2.5231930e-01, -5.3081130e-01,\n",
       "       -1.0183831e+00, -2.7517700e-01,            nan, -1.3928890e-02,\n",
       "       -4.8107100e-02, -5.6806500e-02, -1.0491750e-01, -3.0397030e-01,\n",
       "       -4.8960880e-01, -1.5464800e-02, -7.5774760e-01, -1.1465950e+00])"
      ]
     },
     "execution_count": 11,
     "metadata": {},
     "output_type": "execute_result"
    }
   ],
   "source": [
    "Time2 - Time1"
   ]
  },
  {
   "cell_type": "code",
   "execution_count": 14,
   "metadata": {},
   "outputs": [
    {
     "name": "stdout",
     "output_type": "stream",
     "text": [
      "La différence max est de 2.39s.\n"
     ]
    }
   ],
   "source": [
    "print('La différence max est de %.2fs.' %np.max(abs(Time2[~np.isnan(Time1)] - Time1[~np.isnan(Time1)])))"
   ]
  },
  {
   "cell_type": "markdown",
   "metadata": {},
   "source": [
    "---\n",
    "#### Régressions linéaires : range = f(time)"
   ]
  },
  {
   "cell_type": "code",
   "execution_count": 15,
   "metadata": {},
   "outputs": [],
   "source": [
    "### On connaît le range, la profondeur et la distance source-récepteur pour chacune des vignettes\n",
    "\n",
    "REAL_RANGE = np.zeros(D.size*R.size)\n",
    "for k in range (D.size) :\n",
    "    REAL_RANGE[k*R.size:(k+1)*R.size]=R\n",
    "    \n",
    "PROF = np.zeros(D.size*R.size)\n",
    "for k in range (D.size) :\n",
    "    PROF[k*R.size:(k+1)*R.size] = D[k]\n",
    "\n",
    "D_EQ = np.sqrt((REAL_RANGE - 0)**2 + (PROF - Pos1['s']['depth'][0])**2)"
   ]
  },
  {
   "cell_type": "code",
   "execution_count": 16,
   "metadata": {},
   "outputs": [],
   "source": [
    "### Régressions linéaires\n",
    "res1 = np.polyfit(Time1[~np.isnan(Time1)], REAL_RANGE[~np.isnan(Time1)],1)\n",
    "res2 = np.polyfit(Time2, REAL_RANGE,1)"
   ]
  },
  {
   "cell_type": "code",
   "execution_count": 17,
   "metadata": {},
   "outputs": [
    {
     "name": "stdout",
     "output_type": "stream",
     "text": [
      "Narrmx = 10    : r-squared =  0.9992517417330554\n",
      "Narrmx = 3900  : r-squared =  0.9999643028339533\n"
     ]
    }
   ],
   "source": [
    "### autre méthode, qui nous donne le coef de détermination r²\n",
    "slope1, intercept1, r_value1, _, _ = stats.linregress(Time1[~np.isnan(Time1)], REAL_RANGE[~np.isnan(Time1)])\n",
    "slope2, intercept2, r_value2, _, _ = stats.linregress(Time2, REAL_RANGE)\n",
    "#To get coefficient of determination (r_squared)\n",
    "print(\"Narrmx = 10    : r-squared = \", r_value1**2)\n",
    "print(\"Narrmx = 3900  : r-squared = \", r_value2**2)"
   ]
  },
  {
   "cell_type": "code",
   "execution_count": 18,
   "metadata": {},
   "outputs": [
    {
     "name": "stdout",
     "output_type": "stream",
     "text": [
      "Narrmx = 10     : pente = 1477.9 m/s.    (5millions de récepteurs)\n",
      "Narrmx = 3900   : pente = 1511.3 m/s.    (<= 5000 récepteurs)\n"
     ]
    }
   ],
   "source": [
    "print('Narrmx = 10     : pente = %.1f m/s.    (5millions de récepteurs)' %res1[0])\n",
    "print('Narrmx = 3900   : pente = %.1f m/s.    (<= 5000 récepteurs)' %res2[0])"
   ]
  },
  {
   "cell_type": "markdown",
   "metadata": {},
   "source": [
    "---\n",
    "#### Erreur en distance en calculant la range suivant les 2 régressions linéaires précédentes"
   ]
  },
  {
   "cell_type": "code",
   "execution_count": 19,
   "metadata": {
    "scrolled": false
   },
   "outputs": [
    {
     "data": {
      "image/png": "[encoded data removed]",
      "text/plain": [
       "<Figure size 792x432 with 1 Axes>"
      ]
     },
     "metadata": {},
     "output_type": "display_data"
    }
   ],
   "source": [
    "plt.figure(figsize=(11,6))\n",
    "plt.plot (Time1, REAL_RANGE - (res1[0]*Time1 +res1[1]), 'rx', label = 'Narrmx = 10')\n",
    "plt.plot (Time2, REAL_RANGE - (res2[0]*Time2 +res2[1]), 'bx', label = 'Narrmx = 3900')\n",
    "plt.title (\"Erreur en distance selon le nombre d'arrivées max du fichier .arr\")\n",
    "plt.xlabel('Time (s)')\n",
    "plt.ylabel('Erreur en distance (m)')\n",
    "plt.grid()\n",
    "plt.legend(loc=3, fontsize=14)\n",
    "plt.show()"
   ]
  },
  {
   "cell_type": "markdown",
   "metadata": {},
   "source": [
    "Dans le code Bellhop, il existe une variable  **ArrivalsStorage = 20.e6** qui représente le nombre d'arrivées qui peuvent être stockées.   \n",
    "\n",
    "\n",
    "Lorsque l'on définit un nombre de récepteurs Nr, Arrivals storage est divisé par Nr pour obtenir le nombre d'arrivées disponible pour chaque récepteur. Finalement, le nobmre maximal d'arrivées (Narrmx) par récepteur est défini tel que  :   \n",
    "\n",
    "$$ \n",
    "Narrmx = max (\\frac{ArrivalsStorage}{Nr} , 10 )\n",
    "$$\n",
    "\n",
    "---\n",
    "\n",
    "\n",
    "- Si on travaille avec **5.000 récepteurs** : Narrmx = max (20.e6 / 5000, 10) = max (4000, 10) : on peut stocker jusqu'à **4000 arrivées**. \n",
    "\n",
    "\n",
    "- Si on travaille avec **5 millions de récepteurs** :  Narrmx = max (20.e6 / 5.e6, 10) = max (4, 10) : on travaille alors avec **10 arrivées**. Or, ce sont les arrivées ayont la plus grande amplitude qui sont choisies (et non pas les 10 premières arrivées), d'où les différences de temps d'arrivée observées précédemment.\n",
    "\n",
    "---\n",
    "\n",
    "**CONCLUSION : Il faut travailler avec un nombre raisonnable de récepteurs (inf. à 5000) afin d'avoir un nombre d'arrivées suffisant pour décrire correctement les réponses impulsionnelles.**"
   ]
  }
 ],
 "metadata": {
  "kernelspec": {
   "display_name": "Python 3",
   "language": "python",
   "name": "python3"
  },
  "language_info": {
   "codemirror_mode": {
    "name": "ipython",
    "version": 3
   },
   "file_extension": ".py",
   "mimetype": "text/x-python",
   "name": "python",
   "nbconvert_exporter": "python",
   "pygments_lexer": "ipython3",
   "version": "3.6.5"
  }
 },
 "nbformat": 4,
 "nbformat_minor": 2
}
