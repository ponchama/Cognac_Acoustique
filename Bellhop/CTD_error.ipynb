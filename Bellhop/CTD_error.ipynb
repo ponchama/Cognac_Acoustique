{
 "cells": [
  {
   "cell_type": "code",
   "execution_count": 1,
   "metadata": {},
   "outputs": [],
   "source": [
    "# this enable automatic reloading of libraries\n",
    "%load_ext autoreload\n",
    "%autoreload 2\n",
    "\n",
    "from clib.bellhop import *\n",
    "import numpy as np\n",
    "import matplotlib.pyplot as plt\n",
    "import warnings\n",
    "warnings.filterwarnings(action='ignore')\n",
    "from matplotlib.animation import FuncAnimation"
   ]
  },
  {
   "cell_type": "markdown",
   "metadata": {},
   "source": [
    "---\n",
    "---\n",
    "# Pour 1 profil"
   ]
  },
  {
   "cell_type": "code",
   "execution_count": 4,
   "metadata": {},
   "outputs": [
    {
     "name": "stdout",
     "output_type": "stream",
     "text": [
      "1 grid file found, uses: /home/datawork-lops-osi/jgula/NESED/nesea_grd.nc\n",
      "-- Grid object\n",
      "dim lon_rho: 1602  2002\n",
      "lon_rho min= -72.123, max=-58.273\n",
      "lat_rho min= 34.123, max=43.734\n",
      "h min= 20.000, max=5543.070\n",
      "Uses the following output file: /home/datawork-lops-osi/jgula/NESED/nesed_avg.00260.nc\n",
      "Uses the following time : 10\n"
     ]
    }
   ],
   "source": [
    "#### Normal one\n",
    "s = bellhop({'gs': {'datadir': '/home/datawork-lops-osi/jgula/NESED/', \\\n",
    "                    'file':10, 'itime':10, 'lon': -66.6, 'lat': 36., \\\n",
    "                    'plot_map': False, 'contour':False}}, zmax = 4900)"
   ]
  },
  {
   "cell_type": "code",
   "execution_count": 7,
   "metadata": {},
   "outputs": [
    {
     "name": "stdout",
     "output_type": "stream",
     "text": [
      "1 grid file found, uses: /home/datawork-lops-osi/jgula/NESED/nesea_grd.nc\n",
      "-- Grid object\n",
      "dim lon_rho: 1602  2002\n",
      "lon_rho min= -72.123, max=-58.273\n",
      "lat_rho min= 34.123, max=43.734\n",
      "h min= 20.000, max=5543.070\n",
      "Uses the following output file: /home/datawork-lops-osi/jgula/NESED/nesed_avg.00260.nc\n",
      "Uses the following time : 10\n"
     ]
    }
   ],
   "source": [
    "### Temperature error of 0.002°C\n",
    "sT = bellhop({'gs': {'datadir': '/home/datawork-lops-osi/jgula/NESED/', \\\n",
    "                    'file':10, 'itime':10, 'lon': -66.6, 'lat': 36., \\\n",
    "                    'plot_map': False, 'contour':False}}, zmax = 4900)"
   ]
  },
  {
   "cell_type": "code",
   "execution_count": 6,
   "metadata": {},
   "outputs": [
    {
     "data": {
      "text/plain": [
       "0.00029416361580558714"
      ]
     },
     "execution_count": 6,
     "metadata": {},
     "output_type": "execute_result"
    }
   ],
   "source": [
    "#### Lien entre erreur de conductivité C et salinité SP.\n",
    "import gsw\n",
    "gsw.C_from_SP(34.5+3e-4, 10, 250)-gsw.C_from_SP(34.5, 10, 250)\n",
    "### Conclusion : une erreur de 3e-4 en conductivité revient \n",
    "#                à la même erreur en salinité."
   ]
  },
  {
   "cell_type": "code",
   "execution_count": 8,
   "metadata": {},
   "outputs": [
    {
     "name": "stdout",
     "output_type": "stream",
     "text": [
      "1 grid file found, uses: /home/datawork-lops-osi/jgula/NESED/nesea_grd.nc\n",
      "-- Grid object\n",
      "dim lon_rho: 1602  2002\n",
      "lon_rho min= -72.123, max=-58.273\n",
      "lat_rho min= 34.123, max=43.734\n",
      "h min= 20.000, max=5543.070\n",
      "Uses the following output file: /home/datawork-lops-osi/jgula/NESED/nesed_avg.00260.nc\n",
      "Uses the following time : 10\n"
     ]
    }
   ],
   "source": [
    "### Salinity error of 0.0003 S/m\n",
    "sS = bellhop({'gs': {'datadir': '/home/datawork-lops-osi/jgula/NESED/', \\\n",
    "                    'file':10, 'itime':10, 'lon': -66.6, 'lat': 36., \\\n",
    "                    'plot_map': False, 'contour':False}}, zmax = 4900)"
   ]
  },
  {
   "cell_type": "code",
   "execution_count": 20,
   "metadata": {},
   "outputs": [
    {
     "data": {
      "text/plain": [
       "array([0.0587472 , 0.05872704, 0.05869153, 0.05865939, 0.05865021,\n",
       "       0.05863824, 0.05862235, 0.05859937, 0.05857014, 0.05853866,\n",
       "       0.05852887, 0.05852317, 0.05851981, 0.05851716, 0.05853192,\n",
       "       0.05856617, 0.05863866, 0.05913394, 0.06043535, 0.06142768,\n",
       "       0.0615951 , 0.06186714, 0.06271214, 0.06379242, 0.06774813,\n",
       "       0.07250907, 0.0794546 , 0.08917233, 0.10212006, 0.1204394 ,\n",
       "       0.1418726 , 0.16045798, 0.17651188, 0.18866984, 0.19523551,\n",
       "       0.19997681, 0.20225725, 0.20375643, 0.205005  , 0.20649763,\n",
       "       0.20814917, 0.21022103, 0.21247031, 0.214658  , 0.21705483,\n",
       "       0.21922026, 0.22095643, 0.222247  , 0.22301058, 0.22424986])"
      ]
     },
     "execution_count": 20,
     "metadata": {},
     "output_type": "execute_result"
    }
   ],
   "source": [
    "#### erreur due à une ancienne erreur dans get_soundc() de flow.py\n",
    "#s.SSP['gs']['c'] - s1.SSP['gs']['c']"
   ]
  },
  {
   "cell_type": "code",
   "execution_count": 13,
   "metadata": {},
   "outputs": [
    {
     "data": {
      "text/plain": [
       "array([-0.00548044, -0.00548014, -0.00548002, -0.00547994, -0.0054799 ,\n",
       "       -0.00547988, -0.00547989, -0.00547991, -0.00547995, -0.00548001,\n",
       "       -0.00548011, -0.00548028, -0.00548057, -0.00548125, -0.00548204,\n",
       "       -0.00548339, -0.00548521, -0.00549489, -0.00552568, -0.00557728,\n",
       "       -0.00561268, -0.00565106, -0.00569661, -0.00574151, -0.00581379,\n",
       "       -0.00590329, -0.00601221, -0.00615657, -0.006353  , -0.00663972,\n",
       "       -0.00698868, -0.00734575, -0.00769388, -0.00799226, -0.00818827,\n",
       "       -0.00833539, -0.00842297, -0.00847926, -0.00852086, -0.00855372,\n",
       "       -0.00858437, -0.00861907, -0.00865483, -0.00868585, -0.00871382,\n",
       "       -0.00873035, -0.00873521, -0.00872899, -0.00871057, -0.00870101])"
      ]
     },
     "execution_count": 13,
     "metadata": {},
     "output_type": "execute_result"
    }
   ],
   "source": [
    "##### erreur due à une erreur de température de 0.002 °C\n",
    "eT = s.SSP['gs']['c'] - sT.SSP['gs']['c']\n",
    "eT"
   ]
  },
  {
   "cell_type": "code",
   "execution_count": 14,
   "metadata": {},
   "outputs": [
    {
     "data": {
      "text/plain": [
       "array([-0.00033623, -0.00033621, -0.00033619, -0.00033617, -0.00033615,\n",
       "       -0.00033613, -0.0003361 , -0.00033608, -0.00033605, -0.00033603,\n",
       "       -0.000336  , -0.00033597, -0.00033594, -0.00033592, -0.00033589,\n",
       "       -0.00033587, -0.00033585, -0.00033596, -0.00033644, -0.0003373 ,\n",
       "       -0.00033786, -0.00033848, -0.00033921, -0.00033992, -0.0003411 ,\n",
       "       -0.00034258, -0.00034441, -0.00034687, -0.00035028, -0.00035534,\n",
       "       -0.00036154, -0.00036794, -0.0003742 , -0.0003796 , -0.00038318,\n",
       "       -0.00038591, -0.00038757, -0.00038868, -0.00038954, -0.00039027,\n",
       "       -0.00039099, -0.00039183, -0.00039273, -0.00039357, -0.00039439,\n",
       "       -0.00039501, -0.00039541, -0.00039557, -0.00039545, -0.00039549])"
      ]
     },
     "execution_count": 14,
     "metadata": {},
     "output_type": "execute_result"
    }
   ],
   "source": [
    "##### erreur due à une erreur de salinité de 0.0003 psu\n",
    "eS = s.SSP['gs']['c'] - sS.SSP['gs']['c']\n",
    "eS"
   ]
  },
  {
   "cell_type": "code",
   "execution_count": 17,
   "metadata": {},
   "outputs": [
    {
     "name": "stdout",
     "output_type": "stream",
     "text": [
      "0.0087352059456407\n",
      "0.0067347264863929016\n"
     ]
    }
   ],
   "source": [
    "### 1 profil\n",
    "print (np.max(abs(eT)))\n",
    "print(np.mean(abs(eT)))"
   ]
  },
  {
   "cell_type": "code",
   "execution_count": 18,
   "metadata": {},
   "outputs": [
    {
     "name": "stdout",
     "output_type": "stream",
     "text": [
      "0.00039556577530674986\n",
      "0.00035814743318951514\n"
     ]
    }
   ],
   "source": [
    "### 1 profil \n",
    "print (np.max(abs(eS)))\n",
    "print(np.mean(abs(eS)))"
   ]
  },
  {
   "cell_type": "markdown",
   "metadata": {},
   "source": [
    "---\n",
    "---\n",
    "---\n",
    "# Pour un champ de célérité (107profils)"
   ]
  },
  {
   "cell_type": "code",
   "execution_count": 21,
   "metadata": {},
   "outputs": [
    {
     "name": "stdout",
     "output_type": "stream",
     "text": [
      "1 grid file found, uses: /home/datawork-lops-osi/jgula/NESED/nesea_grd.nc\n",
      "-- Grid object\n",
      "dim lon_rho: 1602  2002\n",
      "lon_rho min= -72.123, max=-58.273\n",
      "lat_rho min= 34.123, max=43.734\n",
      "h min= 20.000, max=5543.070\n",
      "Uses the following output file: /home/datawork-lops-osi/jgula/NESED/nesed_avg.00260.nc\n",
      "Uses the following time : 10\n",
      "The transect will contain 107 horizontal points\n"
     ]
    }
   ],
   "source": [
    "#### Normal one\n",
    "S = bellhop({'gs': {'datadir': '/home/datawork-lops-osi/jgula/NESED/', \\\n",
    "                    'file':10, 'itime':10, 'lon': [-66.6, -66.], 'lat': [36.,36.], \\\n",
    "                    'plot_map': False, 'contour':False}}, zmax = 4900)"
   ]
  },
  {
   "cell_type": "code",
   "execution_count": 20,
   "metadata": {},
   "outputs": [
    {
     "name": "stdout",
     "output_type": "stream",
     "text": [
      "1 grid file found, uses: /home/datawork-lops-osi/jgula/NESED/nesea_grd.nc\n",
      "-- Grid object\n",
      "dim lon_rho: 1602  2002\n",
      "lon_rho min= -72.123, max=-58.273\n",
      "lat_rho min= 34.123, max=43.734\n",
      "h min= 20.000, max=5543.070\n",
      "Uses the following output file: /home/datawork-lops-osi/jgula/NESED/nesed_avg.00260.nc\n",
      "Uses the following time : 10\n",
      "The transect will contain 107 horizontal points\n"
     ]
    }
   ],
   "source": [
    "### Temperature error of 0.002°C\n",
    "ST = bellhop({'gs': {'datadir': '/home/datawork-lops-osi/jgula/NESED/', \\\n",
    "                    'file':10, 'itime':10, 'lon': [-66.6, -66.], 'lat': [36.,36.], \\\n",
    "                    'plot_map': False, 'contour':False}}, zmax = 4900)"
   ]
  },
  {
   "cell_type": "code",
   "execution_count": 19,
   "metadata": {},
   "outputs": [
    {
     "name": "stdout",
     "output_type": "stream",
     "text": [
      "1 grid file found, uses: /home/datawork-lops-osi/jgula/NESED/nesea_grd.nc\n",
      "-- Grid object\n",
      "dim lon_rho: 1602  2002\n",
      "lon_rho min= -72.123, max=-58.273\n",
      "lat_rho min= 34.123, max=43.734\n",
      "h min= 20.000, max=5543.070\n",
      "Uses the following output file: /home/datawork-lops-osi/jgula/NESED/nesed_avg.00260.nc\n",
      "Uses the following time : 10\n",
      "The transect will contain 107 horizontal points\n"
     ]
    }
   ],
   "source": [
    "### Salinity error of 0.0003 S/m\n",
    "SS = bellhop({'gs': {'datadir': '/home/datawork-lops-osi/jgula/NESED/', \\\n",
    "                    'file':10, 'itime':10, 'lon': [-66.6, -66.], 'lat': [36.,36.], \\\n",
    "                    'plot_map': False, 'contour':False}}, zmax = 4900)"
   ]
  },
  {
   "cell_type": "code",
   "execution_count": 22,
   "metadata": {},
   "outputs": [
    {
     "data": {
      "text/plain": [
       "array([[-0.00548044, -0.00548014, -0.00548002, ..., -0.00872899,\n",
       "        -0.00871057, -0.00870101],\n",
       "       [-0.00547964, -0.00547933, -0.00547919, ..., -0.00872898,\n",
       "        -0.00871082, -0.00870119],\n",
       "       [-0.00547952, -0.00547922, -0.00547908, ..., -0.00872896,\n",
       "        -0.00871079, -0.00870109],\n",
       "       ...,\n",
       "       [-0.00538462, -0.00538431, -0.00538417, ..., -0.00874655,\n",
       "        -0.00873496, -0.00870703],\n",
       "       [-0.00538442, -0.00538411, -0.00538397, ..., -0.00874684,\n",
       "        -0.0087347 , -0.00870652],\n",
       "       [-0.00538402, -0.00538372, -0.00538359, ..., -0.00874703,\n",
       "        -0.00873452, -0.00870614]])"
      ]
     },
     "execution_count": 22,
     "metadata": {},
     "output_type": "execute_result"
    }
   ],
   "source": [
    "ET = S.SSP['gs']['c'] - ST.SSP['gs']['c']\n",
    "ET"
   ]
  },
  {
   "cell_type": "code",
   "execution_count": 23,
   "metadata": {},
   "outputs": [
    {
     "data": {
      "text/plain": [
       "array([[-0.00033623, -0.00033621, -0.00033619, ..., -0.00039557,\n",
       "        -0.00039545, -0.00039549],\n",
       "       [-0.00033621, -0.00033619, -0.00033617, ..., -0.00039557,\n",
       "        -0.00039545, -0.00039549],\n",
       "       [-0.00033621, -0.00033619, -0.00033617, ..., -0.00039557,\n",
       "        -0.00039545, -0.00039549],\n",
       "       ...,\n",
       "       [-0.00033456, -0.00033453, -0.00033451, ..., -0.00039594,\n",
       "        -0.00039597, -0.00039562],\n",
       "       [-0.00033455, -0.00033453, -0.00033451, ..., -0.00039594,\n",
       "        -0.00039597, -0.00039561],\n",
       "       [-0.00033455, -0.00033452, -0.0003345 , ..., -0.00039595,\n",
       "        -0.00039596, -0.0003956 ]])"
      ]
     },
     "execution_count": 23,
     "metadata": {},
     "output_type": "execute_result"
    }
   ],
   "source": [
    "ES = S.SSP['gs']['c'] - SS.SSP['gs']['c']\n",
    "ES"
   ]
  },
  {
   "cell_type": "code",
   "execution_count": 24,
   "metadata": {},
   "outputs": [
    {
     "name": "stdout",
     "output_type": "stream",
     "text": [
      "0.008756061601843612\n",
      "0.006696193521712583\n"
     ]
    }
   ],
   "source": [
    "### 107 profils\n",
    "print (np.max(abs(ET)))\n",
    "print(np.mean(abs(ET)))"
   ]
  },
  {
   "cell_type": "code",
   "execution_count": 25,
   "metadata": {},
   "outputs": [
    {
     "name": "stdout",
     "output_type": "stream",
     "text": [
      "0.0003959963748911832\n",
      "0.0003574711691533883\n"
     ]
    }
   ],
   "source": [
    "## 107 profils\n",
    "print (np.max(abs(ES)))\n",
    "print(np.mean(abs(ES)))"
   ]
  },
  {
   "cell_type": "code",
   "execution_count": null,
   "metadata": {},
   "outputs": [],
   "source": []
  }
 ],
 "metadata": {
  "kernelspec": {
   "display_name": "Python 3",
   "language": "python",
   "name": "python3"
  },
  "language_info": {
   "codemirror_mode": {
    "name": "ipython",
    "version": 3
   },
   "file_extension": ".py",
   "mimetype": "text/x-python",
   "name": "python",
   "nbconvert_exporter": "python",
   "pygments_lexer": "ipython3",
   "version": "3.6.5"
  }
 },
 "nbformat": 4,
 "nbformat_minor": 2
}
