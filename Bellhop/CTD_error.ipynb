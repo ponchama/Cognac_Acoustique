{
 "cells": [
  {
   "cell_type": "code",
   "execution_count": 1,
   "metadata": {},
   "outputs": [],
   "source": [
    "# this enable automatic reloading of libraries\n",
    "%load_ext autoreload\n",
    "%autoreload 2\n",
    "\n",
    "from clib.bellhop import *\n",
    "import numpy as np\n",
    "import matplotlib.pyplot as plt\n",
    "import warnings\n",
    "warnings.filterwarnings(action='ignore')\n",
    "from matplotlib.animation import FuncAnimation"
   ]
  },
  {
   "cell_type": "code",
   "execution_count": 2,
   "metadata": {},
   "outputs": [
    {
     "name": "stdout",
     "output_type": "stream",
     "text": [
      "No grid file found in/home/datawork-lops-osi/jgula/NESED/\n"
     ]
    },
    {
     "ename": "SystemExit",
     "evalue": "",
     "output_type": "error",
     "traceback": [
      "An exception has occurred, use %tb to see the full traceback.\n",
      "\u001b[0;31mSystemExit\u001b[0m\n"
     ]
    }
   ],
   "source": [
    "#### Normal one\n",
    "s = bellhop({'gs': {'datadir': '/home/datawork-lops-osi/jgula/NESED/', \\\n",
    "                    'file':10, 'itime':10, 'lon': -66.6, 'lat': 36., \\\n",
    "                    'plot_map': True, 'contour':True}}, zmax = 4900)"
   ]
  },
  {
   "cell_type": "code",
   "execution_count": null,
   "metadata": {},
   "outputs": [],
   "source": [
    "### Temperature error of 0.002°C\n",
    "sT = bellhop({'gs': {'datadir': '/home/datawork-lops-osi/jgula/NESED/', \\\n",
    "                    'file':10, 'itime':10, 'lon': -66.6, 'lat': 36., \\\n",
    "                    'plot_map': True, 'contour':True}}, zmax = 4900)"
   ]
  },
  {
   "cell_type": "code",
   "execution_count": null,
   "metadata": {},
   "outputs": [],
   "source": [
    "#### Lien entre erreur de conductivité C et salinité SP.\n",
    "import gsw\n",
    "gsw.C_from_SP(34.5+3e-4, 10, 250)-gsw.C_from_SP(34.5, 10, 250)\n",
    "### Conclusion : une erreur de 3e-4 en conductivité revient \n",
    "#                à la même erreur en salinité."
   ]
  },
  {
   "cell_type": "code",
   "execution_count": null,
   "metadata": {},
   "outputs": [],
   "source": [
    "### Salinity error of 0.0003 S/m\n",
    "sS = bellhop({'gs': {'datadir': '/home/datawork-lops-osi/jgula/NESED/', \\\n",
    "                    'file':10, 'itime':10, 'lon': -66.6, 'lat': 36., \\\n",
    "                    'plot_map': True, 'contour':True}}, zmax = 4900)"
   ]
  },
  {
   "cell_type": "code",
   "execution_count": 20,
   "metadata": {},
   "outputs": [
    {
     "data": {
      "text/plain": [
       "array([0.0587472 , 0.05872704, 0.05869153, 0.05865939, 0.05865021,\n",
       "       0.05863824, 0.05862235, 0.05859937, 0.05857014, 0.05853866,\n",
       "       0.05852887, 0.05852317, 0.05851981, 0.05851716, 0.05853192,\n",
       "       0.05856617, 0.05863866, 0.05913394, 0.06043535, 0.06142768,\n",
       "       0.0615951 , 0.06186714, 0.06271214, 0.06379242, 0.06774813,\n",
       "       0.07250907, 0.0794546 , 0.08917233, 0.10212006, 0.1204394 ,\n",
       "       0.1418726 , 0.16045798, 0.17651188, 0.18866984, 0.19523551,\n",
       "       0.19997681, 0.20225725, 0.20375643, 0.205005  , 0.20649763,\n",
       "       0.20814917, 0.21022103, 0.21247031, 0.214658  , 0.21705483,\n",
       "       0.21922026, 0.22095643, 0.222247  , 0.22301058, 0.22424986])"
      ]
     },
     "execution_count": 20,
     "metadata": {},
     "output_type": "execute_result"
    }
   ],
   "source": [
    "#### erreur due à une erreur dans flow.py\n",
    "s.SSP['gs']['c'] - s1.SSP['gs']['c']"
   ]
  },
  {
   "cell_type": "code",
   "execution_count": 22,
   "metadata": {},
   "outputs": [
    {
     "data": {
      "text/plain": [
       "array([-0.00548044, -0.00548014, -0.00548002, -0.00547994, -0.0054799 ,\n",
       "       -0.00547988, -0.00547989, -0.00547991, -0.00547995, -0.00548001,\n",
       "       -0.00548011, -0.00548028, -0.00548057, -0.00548125, -0.00548204,\n",
       "       -0.00548339, -0.00548521, -0.00549489, -0.00552568, -0.00557728,\n",
       "       -0.00561268, -0.00565106, -0.00569661, -0.00574151, -0.00581379,\n",
       "       -0.00590329, -0.00601221, -0.00615657, -0.006353  , -0.00663972,\n",
       "       -0.00698868, -0.00734575, -0.00769388, -0.00799226, -0.00818827,\n",
       "       -0.00833539, -0.00842297, -0.00847926, -0.00852086, -0.00855372,\n",
       "       -0.00858437, -0.00861907, -0.00865483, -0.00868585, -0.00871382,\n",
       "       -0.00873035, -0.00873521, -0.00872899, -0.00871057, -0.00870101])"
      ]
     },
     "execution_count": 22,
     "metadata": {},
     "output_type": "execute_result"
    }
   ],
   "source": [
    "##### erreur due à une erreur de température de 0.002 °C\n",
    "s.SSP['gs']['c'] - s1.SSP['gs']['c']"
   ]
  },
  {
   "cell_type": "code",
   "execution_count": 26,
   "metadata": {},
   "outputs": [
    {
     "data": {
      "text/plain": [
       "0.00029416361580558714"
      ]
     },
     "execution_count": 26,
     "metadata": {},
     "output_type": "execute_result"
    }
   ],
   "source": []
  },
  {
   "cell_type": "code",
   "execution_count": null,
   "metadata": {},
   "outputs": [],
   "source": [
    "### Aller dans flow.py, get_soundc et rajouter une erreur de 3e-4 en salinité.\n",
    "### Prendre l'erreur la plus importante des deux comme erreur sur la célérité."
   ]
  }
 ],
 "metadata": {
  "kernelspec": {
   "display_name": "Python 3",
   "language": "python",
   "name": "python3"
  },
  "language_info": {
   "codemirror_mode": {
    "name": "ipython",
    "version": 3
   },
   "file_extension": ".py",
   "mimetype": "text/x-python",
   "name": "python",
   "nbconvert_exporter": "python",
   "pygments_lexer": "ipython3",
   "version": "3.6.5"
  }
 },
 "nbformat": 4,
 "nbformat_minor": 2
}
