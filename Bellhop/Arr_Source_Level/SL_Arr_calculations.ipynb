{
 "cells": [
  {
   "cell_type": "code",
   "execution_count": 1,
   "metadata": {},
   "outputs": [],
   "source": [
    "# this enable automatic reloading of libraries\n",
    "%load_ext autoreload\n",
    "%autoreload 2\n",
    "from clib.bellhop import *\n",
    "import numpy as np\n",
    "import matplotlib.pyplot as plt\n",
    "import warnings\n",
    "warnings.filterwarnings(action='ignore')"
   ]
  },
  {
   "cell_type": "code",
   "execution_count": 2,
   "metadata": {},
   "outputs": [],
   "source": [
    "bell = bellhop({'mediterrannee': '../SSP_4profils.mat'},name='cognac_cmap',rmax=100.)"
   ]
  },
  {
   "cell_type": "code",
   "execution_count": 3,
   "metadata": {},
   "outputs": [
    {
     "name": "stdout",
     "output_type": "stream",
     "text": [
      "Max.number of arrivals for source index 0 is 1\n"
     ]
    }
   ],
   "source": [
    "Arr1, Pos1 = bell.read_arrivals_asc ('isocel_parfait.arr', Narrmx = 2)"
   ]
  },
  {
   "cell_type": "code",
   "execution_count": 4,
   "metadata": {},
   "outputs": [
    {
     "data": {
      "image/png": "[encoded data removed]",
      "text/plain": [
       "<Figure size 504x360 with 1 Axes>"
      ]
     },
     "metadata": {},
     "output_type": "display_data"
    }
   ],
   "source": [
    "isd=0\n",
    "ird=0\n",
    "irr=1\n",
    "plt.figure(figsize=(7,5))\n",
    "ax = plt.subplot(111)\n",
    "bell.plotarr(Arr1, Pos1, irr, ird, isd)\n",
    "ax.ticklabel_format(axis='y', style='scientific', scilimits=(-1, 2))\n",
    "#plt.text(0., 0.,'Depth : %dm \\nRange : %.2fkm' %(Pos1['r']['depth'][ird],Pos1['r']['range'][irr]),\\\n",
    "#         horizontalalignment='center', verticalalignment='center', transform = ax.transAxes, \\\n",
    "#         fontsize=14, color='darkblue')\n",
    "plt.title('Depth : %dm --- Range : %.1fm' %(Pos1['r']['depth'][ird],Pos1['r']['range'][irr]))\n",
    "plt.grid()\n"
   ]
  },
  {
   "cell_type": "code",
   "execution_count": 5,
   "metadata": {},
   "outputs": [
    {
     "name": "stdout",
     "output_type": "stream",
     "text": [
      "L'amplitude émise considérée par Bellhop est de 0.99999994\n",
      "Le SL correspondant est donc de 0.00 dB.\n"
     ]
    }
   ],
   "source": [
    "print(\"L'amplitude émise considérée par Bellhop est de %.8f\" %(Arr1['A'][irr,ird,isd]))\n",
    "print(\"Le SL correspondant est donc de %.2f dB.\" %(-20*np.log10(Arr1['A'][irr,ird,isd])))"
   ]
  },
  {
   "cell_type": "code",
   "execution_count": null,
   "metadata": {},
   "outputs": [],
   "source": []
  }
 ],
 "metadata": {
  "kernelspec": {
   "display_name": "Python 3",
   "language": "python",
   "name": "python3"
  },
  "language_info": {
   "codemirror_mode": {
    "name": "ipython",
    "version": 3
   },
   "file_extension": ".py",
   "mimetype": "text/x-python",
   "name": "python",
   "nbconvert_exporter": "python",
   "pygments_lexer": "ipython3",
   "version": "3.6.5"
  }
 },
 "nbformat": 4,
 "nbformat_minor": 2
}
